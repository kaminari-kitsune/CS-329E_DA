{
 "cells": [
  {
   "cell_type": "markdown",
   "metadata": {},
   "source": [
    "# Assignment 1  - Melbourne Housing Dataset\n",
    "\n",
    "Practice Loading in Data  (20 Points)\n",
    "\n",
    "Please see the CANVAS system for the due date of this assignment. \n",
    "\n",
    "## Add YOUR NAME/S HERE !\n",
    "\n",
    "- Student Name: Akshay Prakash\n",
    "- Student UT EID: arp3469"
   ]
  },
  {
   "cell_type": "code",
   "execution_count": 144,
   "metadata": {},
   "outputs": [],
   "source": [
    "# Imports first on top \n",
    "import pandas as pd\n",
    "import matplotlib.pyplot as plt"
   ]
  },
  {
   "cell_type": "markdown",
   "metadata": {},
   "source": [
    "First of all, we load the data from a CSV file into the manin memory in a Pandas Dataframe format. "
   ]
  },
  {
   "cell_type": "code",
   "execution_count": 145,
   "metadata": {},
   "outputs": [
    {
     "data": {
      "text/html": [
       "<div>\n",
       "<style scoped>\n",
       "    .dataframe tbody tr th:only-of-type {\n",
       "        vertical-align: middle;\n",
       "    }\n",
       "\n",
       "    .dataframe tbody tr th {\n",
       "        vertical-align: top;\n",
       "    }\n",
       "\n",
       "    .dataframe thead th {\n",
       "        text-align: right;\n",
       "    }\n",
       "</style>\n",
       "<table border=\"1\" class=\"dataframe\">\n",
       "  <thead>\n",
       "    <tr style=\"text-align: right;\">\n",
       "      <th></th>\n",
       "      <th>Suburb</th>\n",
       "      <th>Address</th>\n",
       "      <th>Rooms</th>\n",
       "      <th>Type</th>\n",
       "      <th>Price</th>\n",
       "      <th>Method</th>\n",
       "      <th>SellerG</th>\n",
       "      <th>Date</th>\n",
       "      <th>Distance</th>\n",
       "      <th>Postcode</th>\n",
       "      <th>...</th>\n",
       "      <th>Bathroom</th>\n",
       "      <th>Car</th>\n",
       "      <th>Landsize</th>\n",
       "      <th>BuildingArea</th>\n",
       "      <th>YearBuilt</th>\n",
       "      <th>CouncilArea</th>\n",
       "      <th>Lattitude</th>\n",
       "      <th>Longtitude</th>\n",
       "      <th>Regionname</th>\n",
       "      <th>Propertycount</th>\n",
       "    </tr>\n",
       "  </thead>\n",
       "  <tbody>\n",
       "    <tr>\n",
       "      <th>0</th>\n",
       "      <td>Abbotsford</td>\n",
       "      <td>85 Turner St</td>\n",
       "      <td>2</td>\n",
       "      <td>h</td>\n",
       "      <td>1480000.0</td>\n",
       "      <td>S</td>\n",
       "      <td>Biggin</td>\n",
       "      <td>3/12/2016</td>\n",
       "      <td>2.5</td>\n",
       "      <td>3067.0</td>\n",
       "      <td>...</td>\n",
       "      <td>1.0</td>\n",
       "      <td>1.0</td>\n",
       "      <td>202.0</td>\n",
       "      <td>NaN</td>\n",
       "      <td>NaN</td>\n",
       "      <td>Yarra</td>\n",
       "      <td>-37.79960</td>\n",
       "      <td>144.99840</td>\n",
       "      <td>Northern Metropolitan</td>\n",
       "      <td>4019.0</td>\n",
       "    </tr>\n",
       "    <tr>\n",
       "      <th>1</th>\n",
       "      <td>Abbotsford</td>\n",
       "      <td>25 Bloomburg St</td>\n",
       "      <td>2</td>\n",
       "      <td>h</td>\n",
       "      <td>1035000.0</td>\n",
       "      <td>S</td>\n",
       "      <td>Biggin</td>\n",
       "      <td>4/02/2016</td>\n",
       "      <td>2.5</td>\n",
       "      <td>3067.0</td>\n",
       "      <td>...</td>\n",
       "      <td>1.0</td>\n",
       "      <td>0.0</td>\n",
       "      <td>156.0</td>\n",
       "      <td>79.0</td>\n",
       "      <td>1900.0</td>\n",
       "      <td>Yarra</td>\n",
       "      <td>-37.80790</td>\n",
       "      <td>144.99340</td>\n",
       "      <td>Northern Metropolitan</td>\n",
       "      <td>4019.0</td>\n",
       "    </tr>\n",
       "    <tr>\n",
       "      <th>2</th>\n",
       "      <td>Abbotsford</td>\n",
       "      <td>5 Charles St</td>\n",
       "      <td>3</td>\n",
       "      <td>h</td>\n",
       "      <td>1465000.0</td>\n",
       "      <td>SP</td>\n",
       "      <td>Biggin</td>\n",
       "      <td>4/03/2017</td>\n",
       "      <td>2.5</td>\n",
       "      <td>3067.0</td>\n",
       "      <td>...</td>\n",
       "      <td>2.0</td>\n",
       "      <td>0.0</td>\n",
       "      <td>134.0</td>\n",
       "      <td>150.0</td>\n",
       "      <td>1900.0</td>\n",
       "      <td>Yarra</td>\n",
       "      <td>-37.80930</td>\n",
       "      <td>144.99440</td>\n",
       "      <td>Northern Metropolitan</td>\n",
       "      <td>4019.0</td>\n",
       "    </tr>\n",
       "    <tr>\n",
       "      <th>3</th>\n",
       "      <td>Abbotsford</td>\n",
       "      <td>40 Federation La</td>\n",
       "      <td>3</td>\n",
       "      <td>h</td>\n",
       "      <td>850000.0</td>\n",
       "      <td>PI</td>\n",
       "      <td>Biggin</td>\n",
       "      <td>4/03/2017</td>\n",
       "      <td>2.5</td>\n",
       "      <td>3067.0</td>\n",
       "      <td>...</td>\n",
       "      <td>2.0</td>\n",
       "      <td>1.0</td>\n",
       "      <td>94.0</td>\n",
       "      <td>NaN</td>\n",
       "      <td>NaN</td>\n",
       "      <td>Yarra</td>\n",
       "      <td>-37.79690</td>\n",
       "      <td>144.99690</td>\n",
       "      <td>Northern Metropolitan</td>\n",
       "      <td>4019.0</td>\n",
       "    </tr>\n",
       "    <tr>\n",
       "      <th>4</th>\n",
       "      <td>Abbotsford</td>\n",
       "      <td>55a Park St</td>\n",
       "      <td>4</td>\n",
       "      <td>h</td>\n",
       "      <td>1600000.0</td>\n",
       "      <td>VB</td>\n",
       "      <td>Nelson</td>\n",
       "      <td>4/06/2016</td>\n",
       "      <td>2.5</td>\n",
       "      <td>3067.0</td>\n",
       "      <td>...</td>\n",
       "      <td>1.0</td>\n",
       "      <td>2.0</td>\n",
       "      <td>120.0</td>\n",
       "      <td>142.0</td>\n",
       "      <td>2014.0</td>\n",
       "      <td>Yarra</td>\n",
       "      <td>-37.80720</td>\n",
       "      <td>144.99410</td>\n",
       "      <td>Northern Metropolitan</td>\n",
       "      <td>4019.0</td>\n",
       "    </tr>\n",
       "    <tr>\n",
       "      <th>...</th>\n",
       "      <td>...</td>\n",
       "      <td>...</td>\n",
       "      <td>...</td>\n",
       "      <td>...</td>\n",
       "      <td>...</td>\n",
       "      <td>...</td>\n",
       "      <td>...</td>\n",
       "      <td>...</td>\n",
       "      <td>...</td>\n",
       "      <td>...</td>\n",
       "      <td>...</td>\n",
       "      <td>...</td>\n",
       "      <td>...</td>\n",
       "      <td>...</td>\n",
       "      <td>...</td>\n",
       "      <td>...</td>\n",
       "      <td>...</td>\n",
       "      <td>...</td>\n",
       "      <td>...</td>\n",
       "      <td>...</td>\n",
       "      <td>...</td>\n",
       "    </tr>\n",
       "    <tr>\n",
       "      <th>13575</th>\n",
       "      <td>Wheelers Hill</td>\n",
       "      <td>12 Strada Cr</td>\n",
       "      <td>4</td>\n",
       "      <td>h</td>\n",
       "      <td>1245000.0</td>\n",
       "      <td>S</td>\n",
       "      <td>Barry</td>\n",
       "      <td>26/08/2017</td>\n",
       "      <td>16.7</td>\n",
       "      <td>3150.0</td>\n",
       "      <td>...</td>\n",
       "      <td>2.0</td>\n",
       "      <td>2.0</td>\n",
       "      <td>652.0</td>\n",
       "      <td>NaN</td>\n",
       "      <td>1981.0</td>\n",
       "      <td>NaN</td>\n",
       "      <td>-37.90562</td>\n",
       "      <td>145.16761</td>\n",
       "      <td>South-Eastern Metropolitan</td>\n",
       "      <td>7392.0</td>\n",
       "    </tr>\n",
       "    <tr>\n",
       "      <th>13576</th>\n",
       "      <td>Williamstown</td>\n",
       "      <td>77 Merrett Dr</td>\n",
       "      <td>3</td>\n",
       "      <td>h</td>\n",
       "      <td>1031000.0</td>\n",
       "      <td>SP</td>\n",
       "      <td>Williams</td>\n",
       "      <td>26/08/2017</td>\n",
       "      <td>6.8</td>\n",
       "      <td>3016.0</td>\n",
       "      <td>...</td>\n",
       "      <td>2.0</td>\n",
       "      <td>2.0</td>\n",
       "      <td>333.0</td>\n",
       "      <td>133.0</td>\n",
       "      <td>1995.0</td>\n",
       "      <td>NaN</td>\n",
       "      <td>-37.85927</td>\n",
       "      <td>144.87904</td>\n",
       "      <td>Western Metropolitan</td>\n",
       "      <td>6380.0</td>\n",
       "    </tr>\n",
       "    <tr>\n",
       "      <th>13577</th>\n",
       "      <td>Williamstown</td>\n",
       "      <td>83 Power St</td>\n",
       "      <td>3</td>\n",
       "      <td>h</td>\n",
       "      <td>1170000.0</td>\n",
       "      <td>S</td>\n",
       "      <td>Raine</td>\n",
       "      <td>26/08/2017</td>\n",
       "      <td>6.8</td>\n",
       "      <td>3016.0</td>\n",
       "      <td>...</td>\n",
       "      <td>2.0</td>\n",
       "      <td>4.0</td>\n",
       "      <td>436.0</td>\n",
       "      <td>NaN</td>\n",
       "      <td>1997.0</td>\n",
       "      <td>NaN</td>\n",
       "      <td>-37.85274</td>\n",
       "      <td>144.88738</td>\n",
       "      <td>Western Metropolitan</td>\n",
       "      <td>6380.0</td>\n",
       "    </tr>\n",
       "    <tr>\n",
       "      <th>13578</th>\n",
       "      <td>Williamstown</td>\n",
       "      <td>96 Verdon St</td>\n",
       "      <td>4</td>\n",
       "      <td>h</td>\n",
       "      <td>2500000.0</td>\n",
       "      <td>PI</td>\n",
       "      <td>Sweeney</td>\n",
       "      <td>26/08/2017</td>\n",
       "      <td>6.8</td>\n",
       "      <td>3016.0</td>\n",
       "      <td>...</td>\n",
       "      <td>1.0</td>\n",
       "      <td>5.0</td>\n",
       "      <td>866.0</td>\n",
       "      <td>157.0</td>\n",
       "      <td>1920.0</td>\n",
       "      <td>NaN</td>\n",
       "      <td>-37.85908</td>\n",
       "      <td>144.89299</td>\n",
       "      <td>Western Metropolitan</td>\n",
       "      <td>6380.0</td>\n",
       "    </tr>\n",
       "    <tr>\n",
       "      <th>13579</th>\n",
       "      <td>Yarraville</td>\n",
       "      <td>6 Agnes St</td>\n",
       "      <td>4</td>\n",
       "      <td>h</td>\n",
       "      <td>1285000.0</td>\n",
       "      <td>SP</td>\n",
       "      <td>Village</td>\n",
       "      <td>26/08/2017</td>\n",
       "      <td>6.3</td>\n",
       "      <td>3013.0</td>\n",
       "      <td>...</td>\n",
       "      <td>1.0</td>\n",
       "      <td>1.0</td>\n",
       "      <td>362.0</td>\n",
       "      <td>112.0</td>\n",
       "      <td>1920.0</td>\n",
       "      <td>NaN</td>\n",
       "      <td>-37.81188</td>\n",
       "      <td>144.88449</td>\n",
       "      <td>Western Metropolitan</td>\n",
       "      <td>6543.0</td>\n",
       "    </tr>\n",
       "  </tbody>\n",
       "</table>\n",
       "<p>13580 rows × 21 columns</p>\n",
       "</div>"
      ],
      "text/plain": [
       "              Suburb           Address  Rooms Type      Price Method  \\\n",
       "0         Abbotsford      85 Turner St      2    h  1480000.0      S   \n",
       "1         Abbotsford   25 Bloomburg St      2    h  1035000.0      S   \n",
       "2         Abbotsford      5 Charles St      3    h  1465000.0     SP   \n",
       "3         Abbotsford  40 Federation La      3    h   850000.0     PI   \n",
       "4         Abbotsford       55a Park St      4    h  1600000.0     VB   \n",
       "...              ...               ...    ...  ...        ...    ...   \n",
       "13575  Wheelers Hill      12 Strada Cr      4    h  1245000.0      S   \n",
       "13576   Williamstown     77 Merrett Dr      3    h  1031000.0     SP   \n",
       "13577   Williamstown       83 Power St      3    h  1170000.0      S   \n",
       "13578   Williamstown      96 Verdon St      4    h  2500000.0     PI   \n",
       "13579     Yarraville        6 Agnes St      4    h  1285000.0     SP   \n",
       "\n",
       "        SellerG        Date  Distance  Postcode  ...  Bathroom  Car  Landsize  \\\n",
       "0        Biggin   3/12/2016       2.5    3067.0  ...       1.0  1.0     202.0   \n",
       "1        Biggin   4/02/2016       2.5    3067.0  ...       1.0  0.0     156.0   \n",
       "2        Biggin   4/03/2017       2.5    3067.0  ...       2.0  0.0     134.0   \n",
       "3        Biggin   4/03/2017       2.5    3067.0  ...       2.0  1.0      94.0   \n",
       "4        Nelson   4/06/2016       2.5    3067.0  ...       1.0  2.0     120.0   \n",
       "...         ...         ...       ...       ...  ...       ...  ...       ...   \n",
       "13575     Barry  26/08/2017      16.7    3150.0  ...       2.0  2.0     652.0   \n",
       "13576  Williams  26/08/2017       6.8    3016.0  ...       2.0  2.0     333.0   \n",
       "13577     Raine  26/08/2017       6.8    3016.0  ...       2.0  4.0     436.0   \n",
       "13578   Sweeney  26/08/2017       6.8    3016.0  ...       1.0  5.0     866.0   \n",
       "13579   Village  26/08/2017       6.3    3013.0  ...       1.0  1.0     362.0   \n",
       "\n",
       "       BuildingArea  YearBuilt  CouncilArea Lattitude  Longtitude  \\\n",
       "0               NaN        NaN        Yarra -37.79960   144.99840   \n",
       "1              79.0     1900.0        Yarra -37.80790   144.99340   \n",
       "2             150.0     1900.0        Yarra -37.80930   144.99440   \n",
       "3               NaN        NaN        Yarra -37.79690   144.99690   \n",
       "4             142.0     2014.0        Yarra -37.80720   144.99410   \n",
       "...             ...        ...          ...       ...         ...   \n",
       "13575           NaN     1981.0          NaN -37.90562   145.16761   \n",
       "13576         133.0     1995.0          NaN -37.85927   144.87904   \n",
       "13577           NaN     1997.0          NaN -37.85274   144.88738   \n",
       "13578         157.0     1920.0          NaN -37.85908   144.89299   \n",
       "13579         112.0     1920.0          NaN -37.81188   144.88449   \n",
       "\n",
       "                       Regionname Propertycount  \n",
       "0           Northern Metropolitan        4019.0  \n",
       "1           Northern Metropolitan        4019.0  \n",
       "2           Northern Metropolitan        4019.0  \n",
       "3           Northern Metropolitan        4019.0  \n",
       "4           Northern Metropolitan        4019.0  \n",
       "...                           ...           ...  \n",
       "13575  South-Eastern Metropolitan        7392.0  \n",
       "13576        Western Metropolitan        6380.0  \n",
       "13577        Western Metropolitan        6380.0  \n",
       "13578        Western Metropolitan        6380.0  \n",
       "13579        Western Metropolitan        6543.0  \n",
       "\n",
       "[13580 rows x 21 columns]"
      ]
     },
     "execution_count": 145,
     "metadata": {},
     "output_type": "execute_result"
    }
   ],
   "source": [
    "melbourne_data = pd.read_csv('melb_data.csv')\n",
    "\n",
    "melbourne_data"
   ]
  },
  {
   "cell_type": "markdown",
   "metadata": {},
   "source": [
    "## Q1 - How many unique suburbs are there? (2 points)"
   ]
  },
  {
   "cell_type": "code",
   "execution_count": 146,
   "metadata": {},
   "outputs": [
    {
     "name": "stdout",
     "output_type": "stream",
     "text": [
      "There are 314 unique suburbs.\n"
     ]
    }
   ],
   "source": [
    "print(\"There are {} unique suburbs.\".format(melbourne_data['Suburb'].nunique()))"
   ]
  },
  {
   "cell_type": "markdown",
   "metadata": {},
   "source": [
    "## Q2 - How many unique properties are there? (2 points)"
   ]
  },
  {
   "cell_type": "code",
   "execution_count": 147,
   "metadata": {},
   "outputs": [
    {
     "name": "stdout",
     "output_type": "stream",
     "text": [
      "There are 13378 unique properties.\n"
     ]
    }
   ],
   "source": [
    "print(\"There are {} unique properties.\".format(melbourne_data['Address'].nunique()))"
   ]
  },
  {
   "cell_type": "markdown",
   "metadata": {},
   "source": [
    "## Q3- What is the mean price of a property in the Kensington suburb? (2 points)"
   ]
  },
  {
   "cell_type": "code",
   "execution_count": 148,
   "metadata": {},
   "outputs": [
    {
     "name": "stdout",
     "output_type": "stream",
     "text": [
      "$826694.50 is the mean price of a property in the Kensington suburb.\n"
     ]
    }
   ],
   "source": [
    "mean_price_kensington = melbourne_data[melbourne_data[\"Suburb\"]== \"Kensington\"].drop_duplicates(subset = \"Address\", keep = \"first\")[\"Price\"].mean() \n",
    "print(f\"${mean_price_kensington:.2f} is the mean price of a property in the Kensington suburb.\")"
   ]
  },
  {
   "cell_type": "markdown",
   "metadata": {},
   "source": [
    "# Q3.1 (extra) - What is the median price of a property in the Kensington suburb? (1 extra point)"
   ]
  },
  {
   "cell_type": "code",
   "execution_count": 149,
   "metadata": {},
   "outputs": [
    {
     "data": {
      "text/plain": [
       "813500.0"
      ]
     },
     "execution_count": 149,
     "metadata": {},
     "output_type": "execute_result"
    }
   ],
   "source": [
    "melbourne_data[melbourne_data[\"Suburb\"]== \"Kensington\"].drop_duplicates(subset = \"Address\", keep = \"first\")[\"Price\"].median()"
   ]
  },
  {
   "cell_type": "markdown",
   "metadata": {},
   "source": [
    "## Q4 - What percentage of properties contain a YearBuilt value? (2 points)\n",
    "\n",
    "As we see in the table, we do not have for each house the \"YearBuild\" value and some of them are NaN and not filled. \n",
    "We want to find out the percentage of homes that we know their build year. "
   ]
  },
  {
   "cell_type": "code",
   "execution_count": 150,
   "metadata": {},
   "outputs": [
    {
     "name": "stdout",
     "output_type": "stream",
     "text": [
      "60.36% of properties contain a \"YearBuilt\" value.\n"
     ]
    }
   ],
   "source": [
    "all_properties = melbourne_data.drop_duplicates(subset = \"Address\")\n",
    "print(\"{:.2f}% of properties contain a \\\"YearBuilt\\\" value.\".format(len(all_properties[\"YearBuilt\"].dropna())/len(all_properties) * 100.00))"
   ]
  },
  {
   "cell_type": "markdown",
   "metadata": {},
   "source": [
    "## Q5 - Create a histogram plot that shows the data distribution of the Landsizes using 20 bins. (2 points)\n",
    "\n",
    "Describe the shape of this histogram plot and your interpretations in one paragraph. "
   ]
  },
  {
   "cell_type": "code",
   "execution_count": 151,
   "metadata": {},
   "outputs": [
    {
     "data": {
      "text/plain": [
       "<AxesSubplot:ylabel='Frequency'>"
      ]
     },
     "execution_count": 151,
     "metadata": {},
     "output_type": "execute_result"
    },
    {
     "data": {
      "image/png": "[encoded data removed]",
      "text/plain": [
       "<Figure size 432x288 with 1 Axes>"
      ]
     },
     "metadata": {
      "needs_background": "light"
     },
     "output_type": "display_data"
    }
   ],
   "source": [
    "melbourne_data.drop_duplicates(subset = \"Address\")[\"Landsize\"].plot.hist(bins = 20)"
   ]
  },
  {
   "cell_type": "code",
   "execution_count": 152,
   "metadata": {},
   "outputs": [
    {
     "data": {
      "text/plain": [
       "433014.0"
      ]
     },
     "execution_count": 152,
     "metadata": {},
     "output_type": "execute_result"
    }
   ],
   "source": [
    "melb_data_unique = melbourne_data.drop_duplicates(subset = \"Address\")\n",
    "melb_data_unique[\"Landsize\"].max()"
   ]
  },
  {
   "cell_type": "markdown",
   "metadata": {},
   "source": [
    "The shape of this graph (1 bar) with an axis that goes out to 400,000 demonstrates that there exists an outlier that skews the shape of the graph."
   ]
  },
  {
   "cell_type": "markdown",
   "metadata": {},
   "source": [
    "## Q6 -  Plot a scatter plot of price as a function of BuildingArea using only rows that have a valid BuildingArea value. (2 points)\n",
    "\n",
    "Create a scatter plot that has BuildingArea as x-axis and Price as y-axis."
   ]
  },
  {
   "cell_type": "code",
   "execution_count": 153,
   "metadata": {},
   "outputs": [
    {
     "data": {
      "text/plain": [
       "<AxesSubplot:xlabel='BuildingArea', ylabel='Price'>"
      ]
     },
     "execution_count": 153,
     "metadata": {},
     "output_type": "execute_result"
    },
    {
     "data": {
      "image/png": "[encoded data removed]",
      "text/plain": [
       "<Figure size 432x288 with 1 Axes>"
      ]
     },
     "metadata": {
      "needs_background": "light"
     },
     "output_type": "display_data"
    }
   ],
   "source": [
    "melbourne_data.plot.scatter(x = \"BuildingArea\", y = \"Price\")"
   ]
  },
  {
   "cell_type": "markdown",
   "metadata": {},
   "source": [
    "## Q7 - Who are the top-10 seller/listing agents? And what percentage of properties they have listed? (2 points)  \n",
    "\n",
    "Seller/Listing agents are identified by the \"SellerG\" column. \n",
    "\n",
    "I'm going to assume that the SellerG column is the name of the seller group, so \"realtor\" in US parlance.  \n",
    "So, that column is interpreted as the seller that listed the property."
   ]
  },
  {
   "cell_type": "code",
   "execution_count": 154,
   "metadata": {
    "scrolled": true
   },
   "outputs": [
    {
     "name": "stdout",
     "output_type": "stream",
     "text": [
      "The top ten listing agents and the percentage of properties they have listed are as follows:\n"
     ]
    },
    {
     "data": {
      "text/plain": [
       "Nelson           11.376887\n",
       "Jellis            9.739871\n",
       "hockingstuart     8.641052\n",
       "Barry             7.504859\n",
       "Ray               5.210046\n",
       "Marshall          4.873673\n",
       "Buxton            4.679324\n",
       "Biggin            2.900284\n",
       "Brad              2.541486\n",
       "Woodards          2.227538\n",
       "Name: SellerG, dtype: float64"
      ]
     },
     "execution_count": 154,
     "metadata": {},
     "output_type": "execute_result"
    }
   ],
   "source": [
    "print(\"The top ten listing agents and the percentage of properties they have listed are as follows:\")\n",
    "melb_data_unique[\"SellerG\"].value_counts().sort_values(ascending = False)[:10]/len(melb_data_unique) * 100"
   ]
  },
  {
   "cell_type": "markdown",
   "metadata": {},
   "source": [
    "## Q8 - Fix a problem. (2 points)\n",
    "Your boss has told you that the number of rooms (Rooms column) was calculated incorrectly systematically across the entire dataset. To fix this problem, we want to add a room to the Rooms column.\n",
    "\n",
    "Solve this problem without using a python for loop, and using a single pandas statement. \n",
    "\n",
    "Show your output dataset!"
   ]
  },
  {
   "cell_type": "code",
   "execution_count": 155,
   "metadata": {},
   "outputs": [
    {
     "data": {
      "text/html": [
       "<div>\n",
       "<style scoped>\n",
       "    .dataframe tbody tr th:only-of-type {\n",
       "        vertical-align: middle;\n",
       "    }\n",
       "\n",
       "    .dataframe tbody tr th {\n",
       "        vertical-align: top;\n",
       "    }\n",
       "\n",
       "    .dataframe thead th {\n",
       "        text-align: right;\n",
       "    }\n",
       "</style>\n",
       "<table border=\"1\" class=\"dataframe\">\n",
       "  <thead>\n",
       "    <tr style=\"text-align: right;\">\n",
       "      <th></th>\n",
       "      <th>Suburb</th>\n",
       "      <th>Address</th>\n",
       "      <th>Rooms</th>\n",
       "      <th>Type</th>\n",
       "      <th>Price</th>\n",
       "      <th>Method</th>\n",
       "      <th>SellerG</th>\n",
       "      <th>Date</th>\n",
       "      <th>Distance</th>\n",
       "      <th>Postcode</th>\n",
       "      <th>...</th>\n",
       "      <th>Bathroom</th>\n",
       "      <th>Car</th>\n",
       "      <th>Landsize</th>\n",
       "      <th>BuildingArea</th>\n",
       "      <th>YearBuilt</th>\n",
       "      <th>CouncilArea</th>\n",
       "      <th>Lattitude</th>\n",
       "      <th>Longtitude</th>\n",
       "      <th>Regionname</th>\n",
       "      <th>Propertycount</th>\n",
       "    </tr>\n",
       "  </thead>\n",
       "  <tbody>\n",
       "    <tr>\n",
       "      <th>0</th>\n",
       "      <td>Abbotsford</td>\n",
       "      <td>85 Turner St</td>\n",
       "      <td>3</td>\n",
       "      <td>h</td>\n",
       "      <td>1480000.0</td>\n",
       "      <td>S</td>\n",
       "      <td>Biggin</td>\n",
       "      <td>3/12/2016</td>\n",
       "      <td>2.5</td>\n",
       "      <td>3067.0</td>\n",
       "      <td>...</td>\n",
       "      <td>1.0</td>\n",
       "      <td>1.0</td>\n",
       "      <td>202.0</td>\n",
       "      <td>NaN</td>\n",
       "      <td>NaN</td>\n",
       "      <td>Yarra</td>\n",
       "      <td>-37.79960</td>\n",
       "      <td>144.99840</td>\n",
       "      <td>Northern Metropolitan</td>\n",
       "      <td>4019.0</td>\n",
       "    </tr>\n",
       "    <tr>\n",
       "      <th>1</th>\n",
       "      <td>Abbotsford</td>\n",
       "      <td>25 Bloomburg St</td>\n",
       "      <td>3</td>\n",
       "      <td>h</td>\n",
       "      <td>1035000.0</td>\n",
       "      <td>S</td>\n",
       "      <td>Biggin</td>\n",
       "      <td>4/02/2016</td>\n",
       "      <td>2.5</td>\n",
       "      <td>3067.0</td>\n",
       "      <td>...</td>\n",
       "      <td>1.0</td>\n",
       "      <td>0.0</td>\n",
       "      <td>156.0</td>\n",
       "      <td>79.0</td>\n",
       "      <td>1900.0</td>\n",
       "      <td>Yarra</td>\n",
       "      <td>-37.80790</td>\n",
       "      <td>144.99340</td>\n",
       "      <td>Northern Metropolitan</td>\n",
       "      <td>4019.0</td>\n",
       "    </tr>\n",
       "    <tr>\n",
       "      <th>2</th>\n",
       "      <td>Abbotsford</td>\n",
       "      <td>5 Charles St</td>\n",
       "      <td>4</td>\n",
       "      <td>h</td>\n",
       "      <td>1465000.0</td>\n",
       "      <td>SP</td>\n",
       "      <td>Biggin</td>\n",
       "      <td>4/03/2017</td>\n",
       "      <td>2.5</td>\n",
       "      <td>3067.0</td>\n",
       "      <td>...</td>\n",
       "      <td>2.0</td>\n",
       "      <td>0.0</td>\n",
       "      <td>134.0</td>\n",
       "      <td>150.0</td>\n",
       "      <td>1900.0</td>\n",
       "      <td>Yarra</td>\n",
       "      <td>-37.80930</td>\n",
       "      <td>144.99440</td>\n",
       "      <td>Northern Metropolitan</td>\n",
       "      <td>4019.0</td>\n",
       "    </tr>\n",
       "    <tr>\n",
       "      <th>3</th>\n",
       "      <td>Abbotsford</td>\n",
       "      <td>40 Federation La</td>\n",
       "      <td>4</td>\n",
       "      <td>h</td>\n",
       "      <td>850000.0</td>\n",
       "      <td>PI</td>\n",
       "      <td>Biggin</td>\n",
       "      <td>4/03/2017</td>\n",
       "      <td>2.5</td>\n",
       "      <td>3067.0</td>\n",
       "      <td>...</td>\n",
       "      <td>2.0</td>\n",
       "      <td>1.0</td>\n",
       "      <td>94.0</td>\n",
       "      <td>NaN</td>\n",
       "      <td>NaN</td>\n",
       "      <td>Yarra</td>\n",
       "      <td>-37.79690</td>\n",
       "      <td>144.99690</td>\n",
       "      <td>Northern Metropolitan</td>\n",
       "      <td>4019.0</td>\n",
       "    </tr>\n",
       "    <tr>\n",
       "      <th>4</th>\n",
       "      <td>Abbotsford</td>\n",
       "      <td>55a Park St</td>\n",
       "      <td>5</td>\n",
       "      <td>h</td>\n",
       "      <td>1600000.0</td>\n",
       "      <td>VB</td>\n",
       "      <td>Nelson</td>\n",
       "      <td>4/06/2016</td>\n",
       "      <td>2.5</td>\n",
       "      <td>3067.0</td>\n",
       "      <td>...</td>\n",
       "      <td>1.0</td>\n",
       "      <td>2.0</td>\n",
       "      <td>120.0</td>\n",
       "      <td>142.0</td>\n",
       "      <td>2014.0</td>\n",
       "      <td>Yarra</td>\n",
       "      <td>-37.80720</td>\n",
       "      <td>144.99410</td>\n",
       "      <td>Northern Metropolitan</td>\n",
       "      <td>4019.0</td>\n",
       "    </tr>\n",
       "    <tr>\n",
       "      <th>...</th>\n",
       "      <td>...</td>\n",
       "      <td>...</td>\n",
       "      <td>...</td>\n",
       "      <td>...</td>\n",
       "      <td>...</td>\n",
       "      <td>...</td>\n",
       "      <td>...</td>\n",
       "      <td>...</td>\n",
       "      <td>...</td>\n",
       "      <td>...</td>\n",
       "      <td>...</td>\n",
       "      <td>...</td>\n",
       "      <td>...</td>\n",
       "      <td>...</td>\n",
       "      <td>...</td>\n",
       "      <td>...</td>\n",
       "      <td>...</td>\n",
       "      <td>...</td>\n",
       "      <td>...</td>\n",
       "      <td>...</td>\n",
       "      <td>...</td>\n",
       "    </tr>\n",
       "    <tr>\n",
       "      <th>13575</th>\n",
       "      <td>Wheelers Hill</td>\n",
       "      <td>12 Strada Cr</td>\n",
       "      <td>5</td>\n",
       "      <td>h</td>\n",
       "      <td>1245000.0</td>\n",
       "      <td>S</td>\n",
       "      <td>Barry</td>\n",
       "      <td>26/08/2017</td>\n",
       "      <td>16.7</td>\n",
       "      <td>3150.0</td>\n",
       "      <td>...</td>\n",
       "      <td>2.0</td>\n",
       "      <td>2.0</td>\n",
       "      <td>652.0</td>\n",
       "      <td>NaN</td>\n",
       "      <td>1981.0</td>\n",
       "      <td>NaN</td>\n",
       "      <td>-37.90562</td>\n",
       "      <td>145.16761</td>\n",
       "      <td>South-Eastern Metropolitan</td>\n",
       "      <td>7392.0</td>\n",
       "    </tr>\n",
       "    <tr>\n",
       "      <th>13576</th>\n",
       "      <td>Williamstown</td>\n",
       "      <td>77 Merrett Dr</td>\n",
       "      <td>4</td>\n",
       "      <td>h</td>\n",
       "      <td>1031000.0</td>\n",
       "      <td>SP</td>\n",
       "      <td>Williams</td>\n",
       "      <td>26/08/2017</td>\n",
       "      <td>6.8</td>\n",
       "      <td>3016.0</td>\n",
       "      <td>...</td>\n",
       "      <td>2.0</td>\n",
       "      <td>2.0</td>\n",
       "      <td>333.0</td>\n",
       "      <td>133.0</td>\n",
       "      <td>1995.0</td>\n",
       "      <td>NaN</td>\n",
       "      <td>-37.85927</td>\n",
       "      <td>144.87904</td>\n",
       "      <td>Western Metropolitan</td>\n",
       "      <td>6380.0</td>\n",
       "    </tr>\n",
       "    <tr>\n",
       "      <th>13577</th>\n",
       "      <td>Williamstown</td>\n",
       "      <td>83 Power St</td>\n",
       "      <td>4</td>\n",
       "      <td>h</td>\n",
       "      <td>1170000.0</td>\n",
       "      <td>S</td>\n",
       "      <td>Raine</td>\n",
       "      <td>26/08/2017</td>\n",
       "      <td>6.8</td>\n",
       "      <td>3016.0</td>\n",
       "      <td>...</td>\n",
       "      <td>2.0</td>\n",
       "      <td>4.0</td>\n",
       "      <td>436.0</td>\n",
       "      <td>NaN</td>\n",
       "      <td>1997.0</td>\n",
       "      <td>NaN</td>\n",
       "      <td>-37.85274</td>\n",
       "      <td>144.88738</td>\n",
       "      <td>Western Metropolitan</td>\n",
       "      <td>6380.0</td>\n",
       "    </tr>\n",
       "    <tr>\n",
       "      <th>13578</th>\n",
       "      <td>Williamstown</td>\n",
       "      <td>96 Verdon St</td>\n",
       "      <td>5</td>\n",
       "      <td>h</td>\n",
       "      <td>2500000.0</td>\n",
       "      <td>PI</td>\n",
       "      <td>Sweeney</td>\n",
       "      <td>26/08/2017</td>\n",
       "      <td>6.8</td>\n",
       "      <td>3016.0</td>\n",
       "      <td>...</td>\n",
       "      <td>1.0</td>\n",
       "      <td>5.0</td>\n",
       "      <td>866.0</td>\n",
       "      <td>157.0</td>\n",
       "      <td>1920.0</td>\n",
       "      <td>NaN</td>\n",
       "      <td>-37.85908</td>\n",
       "      <td>144.89299</td>\n",
       "      <td>Western Metropolitan</td>\n",
       "      <td>6380.0</td>\n",
       "    </tr>\n",
       "    <tr>\n",
       "      <th>13579</th>\n",
       "      <td>Yarraville</td>\n",
       "      <td>6 Agnes St</td>\n",
       "      <td>5</td>\n",
       "      <td>h</td>\n",
       "      <td>1285000.0</td>\n",
       "      <td>SP</td>\n",
       "      <td>Village</td>\n",
       "      <td>26/08/2017</td>\n",
       "      <td>6.3</td>\n",
       "      <td>3013.0</td>\n",
       "      <td>...</td>\n",
       "      <td>1.0</td>\n",
       "      <td>1.0</td>\n",
       "      <td>362.0</td>\n",
       "      <td>112.0</td>\n",
       "      <td>1920.0</td>\n",
       "      <td>NaN</td>\n",
       "      <td>-37.81188</td>\n",
       "      <td>144.88449</td>\n",
       "      <td>Western Metropolitan</td>\n",
       "      <td>6543.0</td>\n",
       "    </tr>\n",
       "  </tbody>\n",
       "</table>\n",
       "<p>13580 rows × 21 columns</p>\n",
       "</div>"
      ],
      "text/plain": [
       "              Suburb           Address  Rooms Type      Price Method  \\\n",
       "0         Abbotsford      85 Turner St      3    h  1480000.0      S   \n",
       "1         Abbotsford   25 Bloomburg St      3    h  1035000.0      S   \n",
       "2         Abbotsford      5 Charles St      4    h  1465000.0     SP   \n",
       "3         Abbotsford  40 Federation La      4    h   850000.0     PI   \n",
       "4         Abbotsford       55a Park St      5    h  1600000.0     VB   \n",
       "...              ...               ...    ...  ...        ...    ...   \n",
       "13575  Wheelers Hill      12 Strada Cr      5    h  1245000.0      S   \n",
       "13576   Williamstown     77 Merrett Dr      4    h  1031000.0     SP   \n",
       "13577   Williamstown       83 Power St      4    h  1170000.0      S   \n",
       "13578   Williamstown      96 Verdon St      5    h  2500000.0     PI   \n",
       "13579     Yarraville        6 Agnes St      5    h  1285000.0     SP   \n",
       "\n",
       "        SellerG        Date  Distance  Postcode  ...  Bathroom  Car  Landsize  \\\n",
       "0        Biggin   3/12/2016       2.5    3067.0  ...       1.0  1.0     202.0   \n",
       "1        Biggin   4/02/2016       2.5    3067.0  ...       1.0  0.0     156.0   \n",
       "2        Biggin   4/03/2017       2.5    3067.0  ...       2.0  0.0     134.0   \n",
       "3        Biggin   4/03/2017       2.5    3067.0  ...       2.0  1.0      94.0   \n",
       "4        Nelson   4/06/2016       2.5    3067.0  ...       1.0  2.0     120.0   \n",
       "...         ...         ...       ...       ...  ...       ...  ...       ...   \n",
       "13575     Barry  26/08/2017      16.7    3150.0  ...       2.0  2.0     652.0   \n",
       "13576  Williams  26/08/2017       6.8    3016.0  ...       2.0  2.0     333.0   \n",
       "13577     Raine  26/08/2017       6.8    3016.0  ...       2.0  4.0     436.0   \n",
       "13578   Sweeney  26/08/2017       6.8    3016.0  ...       1.0  5.0     866.0   \n",
       "13579   Village  26/08/2017       6.3    3013.0  ...       1.0  1.0     362.0   \n",
       "\n",
       "       BuildingArea  YearBuilt  CouncilArea Lattitude  Longtitude  \\\n",
       "0               NaN        NaN        Yarra -37.79960   144.99840   \n",
       "1              79.0     1900.0        Yarra -37.80790   144.99340   \n",
       "2             150.0     1900.0        Yarra -37.80930   144.99440   \n",
       "3               NaN        NaN        Yarra -37.79690   144.99690   \n",
       "4             142.0     2014.0        Yarra -37.80720   144.99410   \n",
       "...             ...        ...          ...       ...         ...   \n",
       "13575           NaN     1981.0          NaN -37.90562   145.16761   \n",
       "13576         133.0     1995.0          NaN -37.85927   144.87904   \n",
       "13577           NaN     1997.0          NaN -37.85274   144.88738   \n",
       "13578         157.0     1920.0          NaN -37.85908   144.89299   \n",
       "13579         112.0     1920.0          NaN -37.81188   144.88449   \n",
       "\n",
       "                       Regionname Propertycount  \n",
       "0           Northern Metropolitan        4019.0  \n",
       "1           Northern Metropolitan        4019.0  \n",
       "2           Northern Metropolitan        4019.0  \n",
       "3           Northern Metropolitan        4019.0  \n",
       "4           Northern Metropolitan        4019.0  \n",
       "...                           ...           ...  \n",
       "13575  South-Eastern Metropolitan        7392.0  \n",
       "13576        Western Metropolitan        6380.0  \n",
       "13577        Western Metropolitan        6380.0  \n",
       "13578        Western Metropolitan        6380.0  \n",
       "13579        Western Metropolitan        6543.0  \n",
       "\n",
       "[13580 rows x 21 columns]"
      ]
     },
     "execution_count": 155,
     "metadata": {},
     "output_type": "execute_result"
    }
   ],
   "source": [
    "melbourne_data.Rooms = melbourne_data[\"Rooms\"] + 1\n",
    "melbourne_data"
   ]
  },
  {
   "cell_type": "markdown",
   "metadata": {},
   "source": [
    "## Q9 - What is the Address of the earliest built house in this dataset? (2 points)\n"
   ]
  },
  {
   "cell_type": "code",
   "execution_count": 156,
   "metadata": {},
   "outputs": [
    {
     "data": {
      "text/plain": [
       "9968    5 Armstrong St\n",
       "Name: Address, dtype: object"
      ]
     },
     "execution_count": 156,
     "metadata": {},
     "output_type": "execute_result"
    }
   ],
   "source": [
    "melbourne_data.loc[melbourne_data[\"YearBuilt\"] == melbourne_data[\"YearBuilt\"].dropna().min()].Address"
   ]
  },
  {
   "cell_type": "markdown",
   "metadata": {},
   "source": [
    "The address of the earliest built house in the dataset is 5 Armstrong St."
   ]
  },
  {
   "cell_type": "markdown",
   "metadata": {},
   "source": [
    "## Q10 - Save a file  (2 points)\n",
    "The council member for Melbourne has asked for the information for their district.  Assume that there are legal restrcitions and we can only provide the council member the Suburb, Price, and Date from the CouncilArea \"Melbourne\" to the counsil person.  \n",
    "\n",
    "Export the file with only the allowed columns, and do not write and index column."
   ]
  },
  {
   "cell_type": "code",
   "execution_count": 157,
   "metadata": {},
   "outputs": [
    {
     "data": {
      "text/plain": [
       "'Suburb,Price,Date\\r\\nFlemington,957000.0,22/05/2016\\r\\nKensington,785000.0,3/09/2016\\r\\nKensington,852000.0,3/09/2016\\r\\nKensington,1037000.0,3/09/2016\\r\\nKensington,775000.0,3/12/2016\\r\\nKensington,1470000.0,4/03/2017\\r\\nKensington,630000.0,4/03/2017\\r\\nKensington,492500.0,4/06/2016\\r\\nKensington,420000.0,4/06/2016\\r\\nKensington,650000.0,4/06/2016\\r\\nKensington,1050000.0,4/06/2016\\r\\nKensington,1291000.0,6/08/2016\\r\\nKensington,420000.0,6/08/2016\\r\\nKensington,961000.0,7/05/2016\\r\\nKensington,1271000.0,7/05/2016\\r\\nKensington,1010000.0,7/05/2016\\r\\nKensington,750000.0,7/05/2016\\r\\nKensington,1675000.0,7/05/2016\\r\\nKensington,905000.0,8/10/2016\\r\\nKensington,960000.0,8/10/2016\\r\\nKensington,1031000.0,8/10/2016\\r\\nKensington,918000.0,8/10/2016\\r\\nKensington,870000.0,8/10/2016\\r\\nKensington,1165000.0,10/09/2016\\r\\nKensington,1710000.0,10/09/2016\\r\\nKensington,360000.0,10/12/2016\\r\\nKensington,1455000.0,10/12/2016\\r\\nKensington,365000.0,10/12/2016\\r\\nKensington,551000.0,10/12/2016\\r\\nKensington,442000.0,10/12/2016\\r\\nKensington,765000.0,10/12/2016\\r\\nKensington,515000.0,11/02/2017\\r\\nKensington,370000.0,12/06/2016\\r\\nKensington,1005000.0,12/11/2016\\r\\nKensington,1234500.0,13/08/2016\\r\\nKensington,666000.0,13/08/2016\\r\\nKensington,825000.0,14/05/2016\\r\\nKensington,770000.0,14/05/2016\\r\\nKensington,1135000.0,15/10/2016\\r\\nKensington,975000.0,15/10/2016\\r\\nKensington,812000.0,16/04/2016\\r\\nKensington,1900000.0,16/04/2016\\r\\nKensington,732000.0,18/06/2016\\r\\nKensington,1260000.0,19/11/2016\\r\\nKensington,1000000.0,19/11/2016\\r\\nKensington,700000.0,19/11/2016\\r\\nKensington,813500.0,22/05/2016\\r\\nKensington,526000.0,22/08/2016\\r\\nKensington,790000.0,22/08/2016\\r\\nKensington,700000.0,22/08/2016\\r\\nKensington,370000.0,22/08/2016\\r\\nKensington,1230000.0,22/08/2016\\r\\nKensington,460000.0,23/04/2016\\r\\nKensington,395000.0,23/04/2016\\r\\nKensington,1001000.0,24/09/2016\\r\\nKensington,850000.0,24/09/2016\\r\\nKensington,1335000.0,25/02/2017\\r\\nKensington,868000.0,25/02/2017\\r\\nKensington,960000.0,26/07/2016\\r\\nKensington,773000.0,26/07/2016\\r\\nKensington,631090.0,27/06/2016\\r\\nKensington,410000.0,27/06/2016\\r\\nKensington,425000.0,27/11/2016\\r\\nKensington,1211000.0,27/11/2016\\r\\nKensington,506000.0,27/11/2016\\r\\nKensington,806000.0,28/05/2016\\r\\nKensington,829000.0,28/05/2016\\r\\nKensington,786000.0,28/08/2016\\r\\nKensington,458000.0,30/07/2016\\r\\nMelbourne,427000.0,3/12/2016\\r\\nMelbourne,1160500.0,4/03/2017\\r\\nMelbourne,780000.0,4/06/2016\\r\\nMelbourne,535000.0,7/05/2016\\r\\nMelbourne,450000.0,7/11/2016\\r\\nMelbourne,360000.0,7/11/2016\\r\\nMelbourne,665000.0,7/11/2016\\r\\nMelbourne,386000.0,10/09/2016\\r\\nMelbourne,659000.0,10/09/2016\\r\\nMelbourne,671000.0,10/12/2016\\r\\nMelbourne,545000.0,12/11/2016\\r\\nMelbourne,450000.0,12/11/2016\\r\\nMelbourne,432000.0,13/08/2016\\r\\nMelbourne,400000.0,13/08/2016\\r\\nMelbourne,210000.0,13/08/2016\\r\\nMelbourne,750000.0,15/10/2016\\r\\nMelbourne,375000.0,15/10/2016\\r\\nMelbourne,680000.0,17/09/2016\\r\\nMelbourne,470000.0,18/03/2017\\r\\nMelbourne,650000.0,18/03/2017\\r\\nMelbourne,483000.0,18/03/2017\\r\\nMelbourne,610000.0,18/06/2016\\r\\nMelbourne,700000.0,19/11/2016\\r\\nMelbourne,520000.0,19/11/2016\\r\\nMelbourne,440000.0,22/08/2016\\r\\nMelbourne,436000.0,23/04/2016\\r\\nMelbourne,733000.0,24/09/2016\\r\\nMelbourne,675000.0,24/09/2016\\r\\nMelbourne,1630000.0,25/02/2017\\r\\nMelbourne,760000.0,28/05/2016\\r\\nMelbourne,360000.0,28/08/2016\\r\\nMelbourne,390000.0,30/07/2016\\r\\nNorth Melbourne,2920000.0,3/09/2016\\r\\nNorth Melbourne,1635000.0,3/09/2016\\r\\nNorth Melbourne,491000.0,3/09/2016\\r\\nNorth Melbourne,540000.0,3/12/2016\\r\\nNorth Melbourne,340000.0,3/12/2016\\r\\nNorth Melbourne,726000.0,4/03/2017\\r\\nNorth Melbourne,1340000.0,4/03/2017\\r\\nNorth Melbourne,1105000.0,4/03/2017\\r\\nNorth Melbourne,841000.0,4/03/2017\\r\\nNorth Melbourne,528500.0,4/06/2016\\r\\nNorth Melbourne,585000.0,4/06/2016\\r\\nNorth Melbourne,645000.0,7/05/2016\\r\\nNorth Melbourne,410000.0,7/11/2016\\r\\nNorth Melbourne,550000.0,7/11/2016\\r\\nNorth Melbourne,470000.0,7/11/2016\\r\\nNorth Melbourne,470000.0,7/11/2016\\r\\nNorth Melbourne,475000.0,8/10/2016\\r\\nNorth Melbourne,640000.0,8/10/2016\\r\\nNorth Melbourne,1330000.0,10/09/2016\\r\\nNorth Melbourne,720000.0,10/12/2016\\r\\nNorth Melbourne,888000.0,10/12/2016\\r\\nNorth Melbourne,1325000.0,10/12/2016\\r\\nNorth Melbourne,368000.0,10/12/2016\\r\\nNorth Melbourne,1300000.0,11/02/2017\\r\\nNorth Melbourne,450000.0,12/11/2016\\r\\nNorth Melbourne,1385000.0,13/08/2016\\r\\nNorth Melbourne,990000.0,15/10/2016\\r\\nNorth Melbourne,440000.0,16/04/2016\\r\\nNorth Melbourne,606000.0,16/04/2016\\r\\nNorth Melbourne,450000.0,16/07/2016\\r\\nNorth Melbourne,1470000.0,17/09/2016\\r\\nNorth Melbourne,591500.0,17/09/2016\\r\\nNorth Melbourne,1300000.0,18/06/2016\\r\\nNorth Melbourne,1010000.0,19/11/2016\\r\\nNorth Melbourne,1266000.0,19/11/2016\\r\\nNorth Melbourne,620000.0,19/11/2016\\r\\nNorth Melbourne,540000.0,22/08/2016\\r\\nNorth Melbourne,1200000.0,24/09/2016\\r\\nNorth Melbourne,630000.0,24/09/2016\\r\\nNorth Melbourne,560000.0,25/02/2017\\r\\nNorth Melbourne,800000.0,27/06/2016\\r\\nNorth Melbourne,665500.0,27/11/2016\\r\\nNorth Melbourne,550055.0,27/11/2016\\r\\nNorth Melbourne,358000.0,27/11/2016\\r\\nNorth Melbourne,320000.0,27/11/2016\\r\\nNorth Melbourne,1000000.0,27/11/2016\\r\\nNorth Melbourne,598000.0,27/11/2016\\r\\nNorth Melbourne,950000.0,28/05/2016\\r\\nNorth Melbourne,1065000.0,28/05/2016\\r\\nNorth Melbourne,885000.0,28/08/2016\\r\\nNorth Melbourne,587134.0,28/08/2016\\r\\nParkville,1230000.0,3/09/2016\\r\\nParkville,1360000.0,3/12/2016\\r\\nParkville,1805000.0,8/10/2016\\r\\nParkville,352500.0,8/10/2016\\r\\nParkville,395000.0,11/02/2017\\r\\nParkville,307000.0,15/10/2016\\r\\nParkville,2200000.0,15/10/2016\\r\\nParkville,485000.0,15/10/2016\\r\\nParkville,1717500.0,19/11/2016\\r\\nParkville,1265000.0,19/11/2016\\r\\nParkville,401000.0,19/11/2016\\r\\nParkville,2375000.0,19/11/2016\\r\\nParkville,1851000.0,22/08/2016\\r\\nParkville,734600.0,22/08/2016\\r\\nParkville,1928000.0,24/09/2016\\r\\nParkville,526000.0,25/02/2017\\r\\nParkville,2236000.0,27/06/2016\\r\\nParkville,500000.0,27/11/2016\\r\\nParkville,1403000.0,27/11/2016\\r\\nParkville,965000.0,28/08/2016\\r\\nParkville,1040000.0,28/08/2016\\r\\nParkville,526000.0,30/07/2016\\r\\nParkville,750000.0,30/07/2016\\r\\nPort Melbourne,1000000.0,4/06/2016\\r\\nPort Melbourne,600000.0,4/06/2016\\r\\nPort Melbourne,795000.0,6/08/2016\\r\\nPort Melbourne,590000.0,6/08/2016\\r\\nPort Melbourne,1275000.0,7/05/2016\\r\\nPort Melbourne,1000000.0,7/05/2016\\r\\nPort Melbourne,1820000.0,7/11/2016\\r\\nPort Melbourne,655000.0,10/09/2016\\r\\nPort Melbourne,1016500.0,10/09/2016\\r\\nPort Melbourne,1350000.0,10/09/2016\\r\\nPort Melbourne,1101000.0,10/12/2016\\r\\nPort Melbourne,875000.0,18/06/2016\\r\\nPort Melbourne,1384000.0,18/06/2016\\r\\nPort Melbourne,720000.0,22/05/2016\\r\\nPort Melbourne,1130000.0,22/05/2016\\r\\nPort Melbourne,600000.0,22/08/2016\\r\\nPort Melbourne,779000.0,24/09/2016\\r\\nPort Melbourne,790000.0,24/09/2016\\r\\nPort Melbourne,455500.0,24/09/2016\\r\\nPort Melbourne,1350000.0,27/11/2016\\r\\nPort Melbourne,2100000.0,27/11/2016\\r\\nPort Melbourne,400000.0,28/05/2016\\r\\nPort Melbourne,1405000.0,30/07/2016\\r\\nSouth Yarra,1230000.0,3/12/2016\\r\\nSouth Yarra,695000.0,4/03/2017\\r\\nSouth Yarra,863000.0,4/03/2017\\r\\nSouth Yarra,680000.0,4/03/2017\\r\\nSouth Yarra,750000.0,4/06/2016\\r\\nSouth Yarra,572000.0,4/06/2016\\r\\nSouth Yarra,1460000.0,4/06/2016\\r\\nSouth Yarra,659000.0,7/11/2016\\r\\nSouth Yarra,1300000.0,8/10/2016\\r\\nSouth Yarra,1300000.0,8/10/2016\\r\\nSouth Yarra,1630000.0,10/09/2016\\r\\nSouth Yarra,555000.0,12/11/2016\\r\\nSouth Yarra,2695000.0,12/11/2016\\r\\nSouth Yarra,805000.0,12/11/2016\\r\\nSouth Yarra,360000.0,12/11/2016\\r\\nSouth Yarra,832000.0,15/10/2016\\r\\nSouth Yarra,3000000.0,15/10/2016\\r\\nSouth Yarra,805000.0,17/09/2016\\r\\nSouth Yarra,2050000.0,18/03/2017\\r\\nSouth Yarra,2600000.0,18/03/2017\\r\\nSouth Yarra,567500.0,19/11/2016\\r\\nSouth Yarra,540000.0,22/05/2016\\r\\nSouth Yarra,310000.0,23/04/2016\\r\\nSouth Yarra,520000.0,26/07/2016\\r\\nSouth Yarra,260800.0,28/05/2016\\r\\nSouth Yarra,826000.0,28/08/2016\\r\\nSouth Yarra,910000.0,28/08/2016\\r\\nSouth Yarra,1715000.0,28/08/2016\\r\\nSouth Yarra,1700000.0,28/08/2016\\r\\nSouthbank,720000.0,3/09/2016\\r\\nSouthbank,385500.0,4/03/2017\\r\\nSouthbank,868000.0,4/06/2016\\r\\nSouthbank,590000.0,4/06/2016\\r\\nSouthbank,530000.0,4/06/2016\\r\\nSouthbank,650000.0,6/08/2016\\r\\nSouthbank,990000.0,7/05/2016\\r\\nSouthbank,623000.0,7/05/2016\\r\\nSouthbank,592500.0,7/05/2016\\r\\nSouthbank,600000.0,7/11/2016\\r\\nSouthbank,485000.0,10/09/2016\\r\\nSouthbank,455000.0,11/02/2017\\r\\nSouthbank,569000.0,11/03/2017\\r\\nSouthbank,1220000.0,12/11/2016\\r\\nSouthbank,1250000.0,12/11/2016\\r\\nSouthbank,430000.0,12/11/2016\\r\\nSouthbank,480000.0,14/05/2016\\r\\nSouthbank,425000.0,16/04/2016\\r\\nSouthbank,815000.0,16/07/2016\\r\\nSouthbank,580000.0,18/03/2017\\r\\nSouthbank,700000.0,18/06/2016\\r\\nSouthbank,660000.0,19/11/2016\\r\\nSouthbank,622500.0,22/05/2016\\r\\nSouthbank,690000.0,23/04/2016\\r\\nSouthbank,800000.0,24/09/2016\\r\\nSouthbank,540000.0,24/09/2016\\r\\nSouthbank,370000.0,30/07/2016\\r\\nSouthbank,720000.0,30/07/2016\\r\\nWest Melbourne,1010000.0,3/09/2016\\r\\nWest Melbourne,650000.0,3/12/2016\\r\\nWest Melbourne,1260000.0,4/06/2016\\r\\nWest Melbourne,460000.0,4/06/2016\\r\\nWest Melbourne,2370000.0,4/06/2016\\r\\nWest Melbourne,800000.0,6/08/2016\\r\\nWest Melbourne,550000.0,7/05/2016\\r\\nWest Melbourne,660000.0,7/05/2016\\r\\nWest Melbourne,1055000.0,8/10/2016\\r\\nWest Melbourne,995000.0,18/03/2017\\r\\nWest Melbourne,1130000.0,18/06/2016\\r\\nWest Melbourne,443000.0,24/09/2016\\r\\nWest Melbourne,1120000.0,25/02/2017\\r\\nWest Melbourne,482000.0,26/07/2016\\r\\nWest Melbourne,620000.0,28/05/2016\\r\\nWest Melbourne,2100000.0,28/05/2016\\r\\nWest Melbourne,601000.0,30/07/2016\\r\\nCarlton,735000.0,3/12/2016\\r\\nCarlton,1460000.0,4/03/2017\\r\\nCarlton,860000.0,4/06/2016\\r\\nCarlton,1662000.0,7/05/2016\\r\\nCarlton,1590000.0,7/05/2016\\r\\nCarlton,610250.0,7/05/2016\\r\\nCarlton,720000.0,7/05/2016\\r\\nCarlton,840000.0,8/10/2016\\r\\nCarlton,795000.0,10/12/2016\\r\\nCarlton,705000.0,12/11/2016\\r\\nCarlton,435000.0,13/08/2016\\r\\nCarlton,1630100.0,14/05/2016\\r\\nCarlton,480000.0,14/05/2016\\r\\nCarlton,1600000.0,14/05/2016\\r\\nCarlton,500000.0,14/05/2016\\r\\nCarlton,920000.0,15/10/2016\\r\\nCarlton,1600000.0,17/09/2016\\r\\nCarlton,1010000.0,18/03/2017\\r\\nCarlton,875000.0,18/03/2017\\r\\nCarlton,1170000.0,18/06/2016\\r\\nCarlton,1260000.0,18/06/2016\\r\\nCarlton,600000.0,22/05/2016\\r\\nCarlton,310000.0,22/05/2016\\r\\nCarlton,1550000.0,22/08/2016\\r\\nCarlton,2033000.0,23/04/2016\\r\\nCarlton,1110000.0,24/09/2016\\r\\nCarlton,2705000.0,25/02/2017\\r\\nCarlton,1616000.0,25/02/2017\\r\\nCarlton,585000.0,27/11/2016\\r\\nCarlton,1162000.0,27/11/2016\\r\\nCarlton,589000.0,28/05/2016\\r\\nCarlton,2345000.0,28/08/2016\\r\\nCarlton,1117000.0,28/08/2016\\r\\nCarlton,600000.0,30/07/2016\\r\\nCarlton,957000.0,30/07/2016\\r\\nEast Melbourne,4525000.0,3/12/2016\\r\\nEast Melbourne,3520000.0,4/06/2016\\r\\nEast Melbourne,740000.0,8/10/2016\\r\\nEast Melbourne,1015000.0,8/10/2016\\r\\nEast Melbourne,1400000.0,8/10/2016\\r\\nEast Melbourne,1935000.0,16/07/2016\\r\\nEast Melbourne,1475000.0,18/06/2016\\r\\nEast Melbourne,700000.0,22/08/2016\\r\\nEast Melbourne,565000.0,24/09/2016\\r\\nEast Melbourne,900000.0,25/02/2017\\r\\nEast Melbourne,630000.0,25/02/2017\\r\\nEast Melbourne,750000.0,28/05/2016\\r\\nEast Melbourne,872000.0,28/05/2016\\r\\nEast Melbourne,765000.0,28/08/2016\\r\\nDocklands,360000.0,10/12/2016\\r\\nDocklands,1370000.0,13/08/2016\\r\\nDocklands,800000.0,27/06/2016\\r\\nMelbourne,432000.0,6/05/2017\\r\\nMelbourne,1850000.0,8/04/2017\\r\\nMelbourne,333000.0,8/04/2017\\r\\nMelbourne,452000.0,13/05/2017\\r\\nMelbourne,895000.0,22/04/2017\\r\\nMelbourne,275000.0,22/04/2017\\r\\nMelbourne,683000.0,22/04/2017\\r\\nMelbourne,640000.0,22/04/2017\\r\\nParkville,835000.0,6/05/2017\\r\\nParkville,3970000.0,13/05/2017\\r\\nParkville,2790000.0,20/05/2017\\r\\nSouth Yarra,920000.0,13/05/2017\\r\\nSouth Yarra,642000.0,13/05/2017\\r\\nSouth Yarra,390500.0,29/04/2017\\r\\nSouth Yarra,2050000.0,29/04/2017\\r\\nCarlton,1520000.0,8/04/2017\\r\\nCarlton,960000.0,20/05/2017\\r\\nCarlton,995000.0,22/04/2017\\r\\nCarlton,490000.0,29/04/2017\\r\\nCarlton,500000.0,29/04/2017\\r\\nEast Melbourne,503000.0,8/04/2017\\r\\nEast Melbourne,810000.0,13/05/2017\\r\\nEast Melbourne,4275000.0,20/05/2017\\r\\nKensington,355000.0,8/04/2017\\r\\nKensington,425000.0,8/04/2017\\r\\nKensington,535000.0,8/04/2017\\r\\nKensington,500000.0,8/04/2017\\r\\nKensington,525000.0,13/05/2017\\r\\nKensington,1110000.0,20/05/2017\\r\\nKensington,917500.0,20/05/2017\\r\\nKensington,730000.0,20/05/2017\\r\\nKensington,811000.0,20/05/2017\\r\\nKensington,1190000.0,20/05/2017\\r\\nKensington,903000.0,22/04/2017\\r\\nKensington,902500.0,22/04/2017\\r\\nKensington,1817000.0,22/04/2017\\r\\nKensington,528000.0,22/04/2017\\r\\nKensington,1000000.0,29/04/2017\\r\\nKensington,380000.0,29/04/2017\\r\\nKensington,1817000.0,29/04/2017\\r\\nNorth Melbourne,2161000.0,13/05/2017\\r\\nNorth Melbourne,1485000.0,20/05/2017\\r\\nNorth Melbourne,940000.0,29/04/2017\\r\\nSouthbank,505000.0,8/04/2017\\r\\nSouthbank,595000.0,8/04/2017\\r\\nSouthbank,580000.0,8/04/2017\\r\\nSouthbank,580000.0,13/05/2017\\r\\nWest Melbourne,1750000.0,13/05/2017\\r\\nWest Melbourne,1013000.0,20/05/2017\\r\\nWest Melbourne,1171000.0,20/05/2017\\r\\nWest Melbourne,1053000.0,22/04/2017\\r\\nWest Melbourne,295000.0,29/04/2017\\r\\nCarlton,350000.0,1/07/2017\\r\\nCarlton,620000.0,1/07/2017\\r\\nCarlton,1760000.0,1/07/2017\\r\\nKensington,967000.0,1/07/2017\\r\\nKensington,850000.0,1/07/2017\\r\\nKensington,500000.0,1/07/2017\\r\\nKensington,535000.0,1/07/2017\\r\\nNorth Melbourne,550000.0,1/07/2017\\r\\nNorth Melbourne,962000.0,1/07/2017\\r\\nNorth Melbourne,936000.0,1/07/2017\\r\\nKensington,855000.0,3/06/2017\\r\\nKensington,990000.0,3/06/2017\\r\\nNorth Melbourne,970000.0,3/06/2017\\r\\nParkville,1770000.0,3/06/2017\\r\\nSouth Yarra,2210000.0,3/06/2017\\r\\nSouth Yarra,2400000.0,3/06/2017\\r\\nSouthbank,422000.0,3/06/2017\\r\\nSouthbank,590000.0,3/06/2017\\r\\nWest Melbourne,792000.0,3/06/2017\\r\\nEast Melbourne,1875000.0,17/06/2017\\r\\nEast Melbourne,1350000.0,17/06/2017\\r\\nKensington,1070000.0,17/06/2017\\r\\nKensington,730000.0,17/06/2017\\r\\nKensington,392000.0,17/06/2017\\r\\nKensington,1150000.0,17/06/2017\\r\\nKensington,1415000.0,17/06/2017\\r\\nKensington,370000.0,17/06/2017\\r\\nMelbourne,740000.0,17/06/2017\\r\\nNorth Melbourne,1000000.0,17/06/2017\\r\\nNorth Melbourne,780000.0,17/06/2017\\r\\nNorth Melbourne,550000.0,17/06/2017\\r\\nParkville,850000.0,17/06/2017\\r\\nParkville,900000.0,17/06/2017\\r\\nSouthbank,642500.0,17/06/2017\\r\\nSouthbank,422500.0,17/06/2017\\r\\nCarlton,1000000.0,24/06/2017\\r\\nCarlton,720000.0,24/06/2017\\r\\nEast Melbourne,885000.0,24/06/2017\\r\\nKensington,1250000.0,24/06/2017\\r\\nKensington,395000.0,24/06/2017\\r\\nKensington,840500.0,24/06/2017\\r\\nNorth Melbourne,570000.0,24/06/2017\\r\\nNorth Melbourne,850000.0,24/06/2017\\r\\nSouth Yarra,945000.0,24/06/2017\\r\\nWest Melbourne,1370000.0,24/06/2017\\r\\nCarlton,1100000.0,27/05/2017\\r\\nKensington,400000.0,27/05/2017\\r\\nKensington,715000.0,27/05/2017\\r\\nMelbourne,720000.0,27/05/2017\\r\\nNorth Melbourne,1126000.0,27/05/2017\\r\\nNorth Melbourne,1746000.0,27/05/2017\\r\\nNorth Melbourne,799000.0,27/05/2017\\r\\nNorth Melbourne,1285000.0,27/05/2017\\r\\nParkville,1560000.0,27/05/2017\\r\\nSouthbank,600000.0,27/05/2017\\r\\nSouthbank,600000.0,27/05/2017\\r\\nWest Melbourne,660000.0,27/05/2017\\r\\nKensington,438000.0,8/07/2017\\r\\nKensington,710000.0,8/07/2017\\r\\nKensington,390000.0,8/07/2017\\r\\nMelbourne,1075000.0,8/07/2017\\r\\nNorth Melbourne,785000.0,8/07/2017\\r\\nNorth Melbourne,620000.0,8/07/2017\\r\\nParkville,800000.0,8/07/2017\\r\\nSouth Yarra,1855500.0,8/07/2017\\r\\nWest Melbourne,670000.0,8/07/2017\\r\\nWest Melbourne,510000.0,8/07/2017\\r\\nEast Melbourne,1300000.0,12/08/2017\\r\\nKensington,1225000.0,12/08/2017\\r\\nNorth Melbourne,1475000.0,12/08/2017\\r\\nNorth Melbourne,450000.0,12/08/2017\\r\\nNorth Melbourne,525000.0,12/08/2017\\r\\nSouth Yarra,1350000.0,12/08/2017\\r\\nSouth Yarra,940000.0,12/08/2017\\r\\nSouthbank,625000.0,12/08/2017\\r\\nKensington,840000.0,15/07/2017\\r\\nKensington,535000.0,15/07/2017\\r\\nMelbourne,387000.0,15/07/2017\\r\\nNorth Melbourne,541000.0,15/07/2017\\r\\nWest Melbourne,380000.0,15/07/2017\\r\\nWest Melbourne,1900000.0,15/07/2017\\r\\nCarlton,920000.0,22/07/2017\\r\\nEast Melbourne,895000.0,22/07/2017\\r\\nNorth Melbourne,465000.0,22/07/2017\\r\\nSouth Yarra,747500.0,22/07/2017\\r\\nCarlton,920000.0,29/07/2017\\r\\nKensington,445000.0,29/07/2017\\r\\nKensington,501000.0,29/07/2017\\r\\nKensington,1060000.0,29/07/2017\\r\\nMelbourne,565000.0,29/07/2017\\r\\nMelbourne,540000.0,29/07/2017\\r\\nNorth Melbourne,681000.0,29/07/2017\\r\\nNorth Melbourne,1803000.0,29/07/2017\\r\\nSouthbank,732000.0,29/07/2017\\r\\n'"
      ]
     },
     "execution_count": 157,
     "metadata": {},
     "output_type": "execute_result"
    }
   ],
   "source": [
    "melbourne_data.loc[melbourne_data[\"CouncilArea\"] == \"Melbourne\"].to_csv(columns = [\"Suburb\", \"Price\", \"Date\"], index = False)"
   ]
  }
 ],
 "metadata": {
  "kernelspec": {
   "display_name": "Python 3",
   "language": "python",
   "name": "python3"
  },
  "language_info": {
   "codemirror_mode": {
    "name": "ipython",
    "version": 3
   },
   "file_extension": ".py",
   "mimetype": "text/x-python",
   "name": "python",
   "nbconvert_exporter": "python",
   "pygments_lexer": "ipython3",
   "version": "3.8.8"
  }
 },
 "nbformat": 4,
 "nbformat_minor": 4
}
