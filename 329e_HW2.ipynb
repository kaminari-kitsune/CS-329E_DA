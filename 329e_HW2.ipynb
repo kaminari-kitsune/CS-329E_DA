{
 "cells": [
  {
   "cell_type": "markdown",
   "metadata": {},
   "source": [
    "# Homework 2\n",
    "\n",
    "## Akshay Prakash - arp3469\n",
    "\n",
    "## Practicing Pandas\n"
   ]
  },
  {
   "cell_type": "code",
   "execution_count": 2,
   "metadata": {},
   "outputs": [],
   "source": [
    "# Standard Headers\n",
    "# You are welcome to add additional headers here if you wish\n",
    "import pandas as pd\n",
    "import numpy as np\n",
    "import matplotlib.pyplot as plt\n",
    "\n",
    "# Enable inline mode for matplotlib so that Jupyter displays graphs\n",
    "%matplotlib inline"
   ]
  },
  {
   "cell_type": "markdown",
   "metadata": {},
   "source": [
    "# Social Network Dataset\n",
    "\n",
    "In this assignment we work with a social network dataset. \n",
    "\n",
    "You have 5 tables to work on. \n",
    "\n",
    "1. **person_knows_person**\n",
    "This table represents the friendship between users. A person can have many friends. Persons have unique integer id number. \n",
    "\n",
    "2. **person_likes_post_file** \n",
    "This table represents user likes. A person and a post is represented by IDs. \n",
    "\n",
    "3. **post_hasCreator_person**\n",
    "A person creates many posts. Each post has a unique creator person id. \n",
    "\n",
    "4. **comment_replyOf_post**\n",
    "This table represents comments on posts. Both post and comments have unique ids. \n",
    "\n",
    "5. **comment_hasCreator_person** \n",
    "A user can comment on posts. Each comment has a unique creator person id. \n"
   ]
  },
  {
   "cell_type": "code",
   "execution_count": 3,
   "metadata": {},
   "outputs": [
    {
     "name": "stdout",
     "output_type": "stream",
     "text": [
      "   Person.id  Person.id.1\n",
      "0         38          956\n",
      "1         38          962\n",
      "2         38          941\n",
      "3         38           74\n",
      "4         38           36\n",
      "-------------------------\n",
      "   Person.id  Post.id          creationDate\n",
      "0         74        0  2012-10-15T05:13:41Z\n",
      "1         36        0  2012-10-18T10:51:39Z\n",
      "2        417       10  2012-11-18T11:14:47Z\n",
      "3        415       10  2012-11-20T06:30:22Z\n",
      "4        109       10  2012-11-19T11:03:52Z\n",
      "-------------------------\n",
      "   Post.id  Person.id\n",
      "0        0         38\n",
      "1       10         38\n",
      "2       20         38\n",
      "3       30         38\n",
      "4       40         38\n",
      "-------------------------\n",
      "   Comment.id  Post.id\n",
      "0           0        0\n",
      "1          10        0\n",
      "2          30        0\n",
      "3          70        0\n",
      "4         100       10\n",
      "-------------------------\n",
      "   Comment.id  Person.id\n",
      "0           0         74\n",
      "1          10        832\n",
      "2          20        913\n",
      "3          30        457\n",
      "4          40        956\n",
      "-------------------------\n"
     ]
    }
   ],
   "source": [
    "url = \"https://raw.githubusercontent.com/kiat/Elements-of-Data-Analytics/main/datasets/social-media/\"\n",
    "\n",
    "person_knows_person_file = url + \"person_knows_person.csv\"\n",
    "person_likes_post_file = url + \"person_likes_post.csv\"\n",
    "post_hasCreator_person_file = url + \"post_hasCreator_person.csv\"\n",
    "comment_replyOf_post_file = url + \"comment_replyOf_post.csv\"\n",
    "comment_hasCreator_person_file = url + \"comment_hasCreator_person.csv\"\n",
    "\n",
    "person_knows_person = pd.read_csv(person_knows_person_file,  sep='|')\n",
    "person_likes_post = pd.read_csv(person_likes_post_file,  sep='|')\n",
    "post_hasCreator_person = pd.read_csv(post_hasCreator_person_file,  sep='|')\n",
    "comment_replyOf_post = pd.read_csv(comment_replyOf_post_file, sep='|')\n",
    "comment_hasCreator_person = pd.read_csv(comment_hasCreator_person_file,  sep='|')\n",
    "\n",
    "print(person_knows_person.head(5))\n",
    "print(\"-------------------------\")\n",
    "\n",
    "print(person_likes_post.head(5))\n",
    "print(\"-------------------------\")\n",
    "\n",
    "print(post_hasCreator_person.head(5))\n",
    "print(\"-------------------------\")\n",
    "\n",
    "print(comment_replyOf_post.head(5))\n",
    "print(\"-------------------------\")\n",
    "\n",
    "print(comment_hasCreator_person.head(5))\n",
    "print(\"-------------------------\")"
   ]
  },
  {
   "cell_type": "markdown",
   "metadata": {},
   "source": [
    "# Question - 1. Who are the top-10 users who have the highest number of friends? (4 points)\n",
    "Count up the number of friends of each user and provide the top-10 of this number of friend count list. Print out their user IDs. "
   ]
  },
  {
   "cell_type": "code",
   "execution_count": 4,
   "metadata": {},
   "outputs": [
    {
     "data": {
      "text/plain": [
       "336    99\n",
       "959    99\n",
       "40     99\n",
       "430    98\n",
       "811    98\n",
       "296    98\n",
       "938    98\n",
       "804    97\n",
       "165    97\n",
       "323    96\n",
       "Name: Person.id, dtype: int64"
      ]
     },
     "execution_count": 4,
     "metadata": {},
     "output_type": "execute_result"
    }
   ],
   "source": [
    "person_knows_person[\"Person.id\"].value_counts().nlargest(10)"
   ]
  },
  {
   "cell_type": "code",
   "execution_count": 5,
   "metadata": {},
   "outputs": [
    {
     "data": {
      "text/plain": [
       "[336, 959, 40, 430, 811, 296, 938, 804, 165, 323]"
      ]
     },
     "execution_count": 5,
     "metadata": {},
     "output_type": "execute_result"
    }
   ],
   "source": [
    "list(person_knows_person[\"Person.id\"].value_counts().nlargest(10).index)"
   ]
  },
  {
   "cell_type": "markdown",
   "metadata": {},
   "source": [
    "# Question - 2. Who wrote the most liked post?  (4 points)\n",
    "Count up the number of likes for each post and find out who wrote that post. \n",
    "Print out the user id. If there are multiple maximum print them all. "
   ]
  },
  {
   "cell_type": "code",
   "execution_count": 6,
   "metadata": {
    "scrolled": true
   },
   "outputs": [],
   "source": [
    "post_likes = person_likes_post[\"Post.id\"].value_counts().to_frame().rename(columns = {'index': \"Post.id\", \"Post.id\": \"likes\"})"
   ]
  },
  {
   "cell_type": "code",
   "execution_count": 7,
   "metadata": {},
   "outputs": [
    {
     "data": {
      "text/plain": [
       "9"
      ]
     },
     "execution_count": 7,
     "metadata": {},
     "output_type": "execute_result"
    }
   ],
   "source": [
    "most_likes = post_likes[\"likes\"].max()\n",
    "\n",
    "most_likes"
   ]
  },
  {
   "cell_type": "code",
   "execution_count": 11,
   "metadata": {},
   "outputs": [
    {
     "data": {
      "text/html": [
       "<div>\n",
       "<style scoped>\n",
       "    .dataframe tbody tr th:only-of-type {\n",
       "        vertical-align: middle;\n",
       "    }\n",
       "\n",
       "    .dataframe tbody tr th {\n",
       "        vertical-align: top;\n",
       "    }\n",
       "\n",
       "    .dataframe thead th {\n",
       "        text-align: right;\n",
       "    }\n",
       "</style>\n",
       "<table border=\"1\" class=\"dataframe\">\n",
       "  <thead>\n",
       "    <tr style=\"text-align: right;\">\n",
       "      <th></th>\n",
       "      <th>likes</th>\n",
       "    </tr>\n",
       "  </thead>\n",
       "  <tbody>\n",
       "    <tr>\n",
       "      <th>355680</th>\n",
       "      <td>9</td>\n",
       "    </tr>\n",
       "    <tr>\n",
       "      <th>1074970</th>\n",
       "      <td>9</td>\n",
       "    </tr>\n",
       "    <tr>\n",
       "      <th>128640</th>\n",
       "      <td>9</td>\n",
       "    </tr>\n",
       "    <tr>\n",
       "      <th>128650</th>\n",
       "      <td>9</td>\n",
       "    </tr>\n",
       "    <tr>\n",
       "      <th>401970</th>\n",
       "      <td>9</td>\n",
       "    </tr>\n",
       "    <tr>\n",
       "      <th>...</th>\n",
       "      <td>...</td>\n",
       "    </tr>\n",
       "    <tr>\n",
       "      <th>1236230</th>\n",
       "      <td>9</td>\n",
       "    </tr>\n",
       "    <tr>\n",
       "      <th>1490150</th>\n",
       "      <td>9</td>\n",
       "    </tr>\n",
       "    <tr>\n",
       "      <th>1490180</th>\n",
       "      <td>9</td>\n",
       "    </tr>\n",
       "    <tr>\n",
       "      <th>67350</th>\n",
       "      <td>9</td>\n",
       "    </tr>\n",
       "    <tr>\n",
       "      <th>1384930</th>\n",
       "      <td>9</td>\n",
       "    </tr>\n",
       "  </tbody>\n",
       "</table>\n",
       "<p>13158 rows × 1 columns</p>\n",
       "</div>"
      ],
      "text/plain": [
       "         likes\n",
       "355680       9\n",
       "1074970      9\n",
       "128640       9\n",
       "128650       9\n",
       "401970       9\n",
       "...        ...\n",
       "1236230      9\n",
       "1490150      9\n",
       "1490180      9\n",
       "67350        9\n",
       "1384930      9\n",
       "\n",
       "[13158 rows x 1 columns]"
      ]
     },
     "execution_count": 11,
     "metadata": {},
     "output_type": "execute_result"
    }
   ],
   "source": [
    "most_liked_posts = post_likes[post_likes[\"likes\"] == most_likes]\n",
    "most_liked_posts"
   ]
  },
  {
   "cell_type": "code",
   "execution_count": 12,
   "metadata": {},
   "outputs": [
    {
     "data": {
      "text/plain": [
       "Int64Index([ 355680, 1074970,  128640,  128650,  401970,  898150, 1620820,\n",
       "            1620830,  128700,  642440,\n",
       "            ...\n",
       "             801940, 1242710, 1490110, 1276580,  549280, 1236230, 1490150,\n",
       "            1490180,   67350, 1384930],\n",
       "           dtype='int64', length=13158)"
      ]
     },
     "execution_count": 12,
     "metadata": {},
     "output_type": "execute_result"
    }
   ],
   "source": [
    "most_liked_posts.index"
   ]
  },
  {
   "cell_type": "code",
   "execution_count": 13,
   "metadata": {},
   "outputs": [
    {
     "data": {
      "text/html": [
       "<div>\n",
       "<style scoped>\n",
       "    .dataframe tbody tr th:only-of-type {\n",
       "        vertical-align: middle;\n",
       "    }\n",
       "\n",
       "    .dataframe tbody tr th {\n",
       "        vertical-align: top;\n",
       "    }\n",
       "\n",
       "    .dataframe thead th {\n",
       "        text-align: right;\n",
       "    }\n",
       "</style>\n",
       "<table border=\"1\" class=\"dataframe\">\n",
       "  <thead>\n",
       "    <tr style=\"text-align: right;\">\n",
       "      <th></th>\n",
       "      <th>Post.id</th>\n",
       "      <th>Person.id</th>\n",
       "    </tr>\n",
       "  </thead>\n",
       "  <tbody>\n",
       "    <tr>\n",
       "      <th>0</th>\n",
       "      <td>0</td>\n",
       "      <td>38</td>\n",
       "    </tr>\n",
       "    <tr>\n",
       "      <th>1</th>\n",
       "      <td>10</td>\n",
       "      <td>38</td>\n",
       "    </tr>\n",
       "    <tr>\n",
       "      <th>2</th>\n",
       "      <td>20</td>\n",
       "      <td>38</td>\n",
       "    </tr>\n",
       "    <tr>\n",
       "      <th>3</th>\n",
       "      <td>30</td>\n",
       "      <td>38</td>\n",
       "    </tr>\n",
       "    <tr>\n",
       "      <th>4</th>\n",
       "      <td>40</td>\n",
       "      <td>38</td>\n",
       "    </tr>\n",
       "  </tbody>\n",
       "</table>\n",
       "</div>"
      ],
      "text/plain": [
       "   Post.id  Person.id\n",
       "0        0         38\n",
       "1       10         38\n",
       "2       20         38\n",
       "3       30         38\n",
       "4       40         38"
      ]
     },
     "execution_count": 13,
     "metadata": {},
     "output_type": "execute_result"
    }
   ],
   "source": [
    "post_hasCreator_person.head()"
   ]
  },
  {
   "cell_type": "code",
   "execution_count": 14,
   "metadata": {},
   "outputs": [
    {
     "name": "stdout",
     "output_type": "stream",
     "text": [
      "[ 38 941 347 495 884 336 405 135 587 863  43 875 861 422 514 746 728 548\n",
      " 825 402 109 557  72 627 790 463 838  65 357  52 427 193 629 232 186 197\n",
      " 585 429  28 732 318 635 393 654 105 659 189 643 668 556 383 532 326 970\n",
      " 717 900 910 239 524 396 224 795 262  91 711 348 153 663 996 473 415 842\n",
      " 762  86 731 919 685 505 353 965 712 945 564 122 959 997  36 510 278 675\n",
      "  13 275 568 221  73 669 408 483 844 517 544 118  48 370 976 609 156 102\n",
      " 333 770 569 630 451 542 911 430  83 979 896 297 394 182 828 882 878 529\n",
      " 819   3 149  78 319 180 683 938 951   5 434 572 157 886 785 613 229 980\n",
      " 778   4 476 491  11 715 942 280 835 986 661 834 545 780 674 858 876 658\n",
      " 464 929 960 325 618 888 693 921 694 983 696 179 406 225  55 958 167 991\n",
      " 767 250 480 899  21 943 772 166 987 786 565 366  99  71 814 446 745 699\n",
      " 998 892 648  66 531 632 738  53  22 550 571 716 131 395 647 420 168 101\n",
      " 344  31 908 640 651 682 973  64 266 417 426 274 570 191 680  41 155 859\n",
      " 649 913 702  10 230 477 369 334 773 414 538 620 660  82  62 281 273 576\n",
      " 265 372 361 424 811 830 848  76 725 456 794 995 761   7 547 160 903 309\n",
      "  46 756 377 283 885 614 199 310 356 501 840 459 751 503 744 826 475 208\n",
      " 423 953 984 245 404 686 312 252 776 323 211 583 866 578 339 146 802 530\n",
      " 789 985 360 820 968 345 117 236 500 110 272 827 895 121 270 606 435 413\n",
      " 650 592  69 862 227 803 296 104 421 631  40 311 867 752  29 165 367 253\n",
      " 777 915 596 292 410 625 967 617 494 870 447 375 626 763 222 947 581 152\n",
      " 673 506 132 238 115 805 362 184 519 993 522   8 824 145 237 337 931 971\n",
      " 783 432 471 502 349 608 978 342 905 407 604 364  18 831 286 183 754 771\n",
      " 261 641 698 233 379 196 255 441 670 880 226 437 181 162 316 454  92 962\n",
      " 653 304 244 448 368 589 676 966  47 509  84 599 890  15 151 350  26 904\n",
      " 810  70 467 748 499  20 593  24 954 779 657 871  74 801 584 812 956 804\n",
      " 277 562 138 120 950 228 791 612 385 380 127 741 425 839 246 639 918 701\n",
      " 678 922 194 782 742 552 586 944 727  60 218 755 112  34 307 107 719 799\n",
      " 868 479  95 457 192  23 924 378 832 723 481 365 440 461 855 352 198 144\n",
      " 872   0  63 664 492 836 108 321 798 484 320 291 515 573 817 359 119 700\n",
      " 141 389 975 655 100 611 722 697 864  68 734 164 328  89 465 869 541 264\n",
      " 692 455 450 558 590 539 147  81 721 240 174 894 488 822 351 507 792 305\n",
      " 784 610 808 724 409 735 136 567 633 935 793 295 294 797 260 891 158 713\n",
      " 849 219 401 934 169 525 644  16 714 930 129 833 546   6 324 512 750  98\n",
      "  93 458 438 520 597  33 850 346   2 290 161  80 329]\n"
     ]
    }
   ],
   "source": [
    "print(post_hasCreator_person[post_hasCreator_person[\"Post.id\"].isin(most_liked_posts.index)][\"Person.id\"].drop_duplicates().values)"
   ]
  },
  {
   "cell_type": "markdown",
   "metadata": {
    "tags": []
   },
   "source": [
    "# Question - 3. Who wrote the most influential post? The most influential post is the most discussed and most liked post. (4 points)\n",
    "\n",
    "**Tip:** First, count up the number of comments and likes that each post has. Then find out which post it is, and finally find out who wrote that. \n",
    "Print out one user id. \n"
   ]
  },
  {
   "cell_type": "code",
   "execution_count": 15,
   "metadata": {},
   "outputs": [
    {
     "data": {
      "text/html": [
       "<div>\n",
       "<style scoped>\n",
       "    .dataframe tbody tr th:only-of-type {\n",
       "        vertical-align: middle;\n",
       "    }\n",
       "\n",
       "    .dataframe tbody tr th {\n",
       "        vertical-align: top;\n",
       "    }\n",
       "\n",
       "    .dataframe thead th {\n",
       "        text-align: right;\n",
       "    }\n",
       "</style>\n",
       "<table border=\"1\" class=\"dataframe\">\n",
       "  <thead>\n",
       "    <tr style=\"text-align: right;\">\n",
       "      <th></th>\n",
       "      <th>comments</th>\n",
       "    </tr>\n",
       "  </thead>\n",
       "  <tbody>\n",
       "    <tr>\n",
       "      <th>445970</th>\n",
       "      <td>11</td>\n",
       "    </tr>\n",
       "    <tr>\n",
       "      <th>618370</th>\n",
       "      <td>10</td>\n",
       "    </tr>\n",
       "    <tr>\n",
       "      <th>1335410</th>\n",
       "      <td>10</td>\n",
       "    </tr>\n",
       "    <tr>\n",
       "      <th>675790</th>\n",
       "      <td>10</td>\n",
       "    </tr>\n",
       "    <tr>\n",
       "      <th>1289550</th>\n",
       "      <td>10</td>\n",
       "    </tr>\n",
       "  </tbody>\n",
       "</table>\n",
       "</div>"
      ],
      "text/plain": [
       "         comments\n",
       "445970         11\n",
       "618370         10\n",
       "1335410        10\n",
       "675790         10\n",
       "1289550        10"
      ]
     },
     "execution_count": 15,
     "metadata": {},
     "output_type": "execute_result"
    }
   ],
   "source": [
    "post_comments = comment_replyOf_post[\"Post.id\"].value_counts().to_frame().rename(columns = {'index' : \"Post.id\", 'Post.id' : \"comments\"})\n",
    "\n",
    "post_comments.head()"
   ]
  },
  {
   "cell_type": "code",
   "execution_count": 16,
   "metadata": {},
   "outputs": [
    {
     "data": {
      "text/plain": [
       "213715"
      ]
     },
     "execution_count": 16,
     "metadata": {},
     "output_type": "execute_result"
    }
   ],
   "source": [
    "post_likes.size + post_comments.size"
   ]
  },
  {
   "cell_type": "code",
   "execution_count": 17,
   "metadata": {},
   "outputs": [
    {
     "data": {
      "text/html": [
       "<div>\n",
       "<style scoped>\n",
       "    .dataframe tbody tr th:only-of-type {\n",
       "        vertical-align: middle;\n",
       "    }\n",
       "\n",
       "    .dataframe tbody tr th {\n",
       "        vertical-align: top;\n",
       "    }\n",
       "\n",
       "    .dataframe thead th {\n",
       "        text-align: right;\n",
       "    }\n",
       "</style>\n",
       "<table border=\"1\" class=\"dataframe\">\n",
       "  <thead>\n",
       "    <tr style=\"text-align: right;\">\n",
       "      <th></th>\n",
       "      <th>likes</th>\n",
       "      <th>comments</th>\n",
       "    </tr>\n",
       "  </thead>\n",
       "  <tbody>\n",
       "    <tr>\n",
       "      <th>0</th>\n",
       "      <td>2.0</td>\n",
       "      <td>4.0</td>\n",
       "    </tr>\n",
       "    <tr>\n",
       "      <th>10</th>\n",
       "      <td>5.0</td>\n",
       "      <td>5.0</td>\n",
       "    </tr>\n",
       "    <tr>\n",
       "      <th>20</th>\n",
       "      <td>9.0</td>\n",
       "      <td>3.0</td>\n",
       "    </tr>\n",
       "    <tr>\n",
       "      <th>30</th>\n",
       "      <td>4.0</td>\n",
       "      <td>3.0</td>\n",
       "    </tr>\n",
       "    <tr>\n",
       "      <th>40</th>\n",
       "      <td>7.0</td>\n",
       "      <td>4.0</td>\n",
       "    </tr>\n",
       "  </tbody>\n",
       "</table>\n",
       "</div>"
      ],
      "text/plain": [
       "    likes  comments\n",
       "0     2.0       4.0\n",
       "10    5.0       5.0\n",
       "20    9.0       3.0\n",
       "30    4.0       3.0\n",
       "40    7.0       4.0"
      ]
     },
     "execution_count": 17,
     "metadata": {},
     "output_type": "execute_result"
    }
   ],
   "source": [
    "post_value = pd.concat([post_likes, post_comments], axis = 1)\n",
    "\n",
    "post_value = post_value.fillna(0)\n",
    "\n",
    "post_value.head()"
   ]
  },
  {
   "cell_type": "code",
   "execution_count": 18,
   "metadata": {},
   "outputs": [
    {
     "data": {
      "text/html": [
       "<div>\n",
       "<style scoped>\n",
       "    .dataframe tbody tr th:only-of-type {\n",
       "        vertical-align: middle;\n",
       "    }\n",
       "\n",
       "    .dataframe tbody tr th {\n",
       "        vertical-align: top;\n",
       "    }\n",
       "\n",
       "    .dataframe thead th {\n",
       "        text-align: right;\n",
       "    }\n",
       "</style>\n",
       "<table border=\"1\" class=\"dataframe\">\n",
       "  <thead>\n",
       "    <tr style=\"text-align: right;\">\n",
       "      <th></th>\n",
       "      <th>likes</th>\n",
       "      <th>comments</th>\n",
       "      <th>interactivity</th>\n",
       "    </tr>\n",
       "  </thead>\n",
       "  <tbody>\n",
       "    <tr>\n",
       "      <th>0</th>\n",
       "      <td>2.0</td>\n",
       "      <td>4.0</td>\n",
       "      <td>6.0</td>\n",
       "    </tr>\n",
       "    <tr>\n",
       "      <th>10</th>\n",
       "      <td>5.0</td>\n",
       "      <td>5.0</td>\n",
       "      <td>10.0</td>\n",
       "    </tr>\n",
       "    <tr>\n",
       "      <th>20</th>\n",
       "      <td>9.0</td>\n",
       "      <td>3.0</td>\n",
       "      <td>12.0</td>\n",
       "    </tr>\n",
       "    <tr>\n",
       "      <th>30</th>\n",
       "      <td>4.0</td>\n",
       "      <td>3.0</td>\n",
       "      <td>7.0</td>\n",
       "    </tr>\n",
       "    <tr>\n",
       "      <th>40</th>\n",
       "      <td>7.0</td>\n",
       "      <td>4.0</td>\n",
       "      <td>11.0</td>\n",
       "    </tr>\n",
       "  </tbody>\n",
       "</table>\n",
       "</div>"
      ],
      "text/plain": [
       "    likes  comments  interactivity\n",
       "0     2.0       4.0            6.0\n",
       "10    5.0       5.0           10.0\n",
       "20    9.0       3.0           12.0\n",
       "30    4.0       3.0            7.0\n",
       "40    7.0       4.0           11.0"
      ]
     },
     "execution_count": 18,
     "metadata": {},
     "output_type": "execute_result"
    }
   ],
   "source": [
    "# add a new feature 'interactivity'\n",
    "post_value[\"interactivity\"] = post_value[\"likes\"] + post_value[\"comments\"]\n",
    "\n",
    "post_value.head()"
   ]
  },
  {
   "cell_type": "code",
   "execution_count": 19,
   "metadata": {},
   "outputs": [
    {
     "name": "stdout",
     "output_type": "stream",
     "text": [
      "[ 518820  727200  801730  888610 1246220 1424730]\n"
     ]
    }
   ],
   "source": [
    "# find the posts with the highest interactivity score\n",
    "most_interacted_posts = np.array(post_value[ post_value[\"interactivity\"] == post_value[\"interactivity\"].max()].index)\n",
    "\n",
    "print(most_interacted_posts)"
   ]
  },
  {
   "cell_type": "code",
   "execution_count": 20,
   "metadata": {},
   "outputs": [
    {
     "name": "stdout",
     "output_type": "stream",
     "text": [
      "[325 649 794 245  15  23]\n"
     ]
    }
   ],
   "source": [
    "print(post_hasCreator_person[post_hasCreator_person[\"Post.id\"].isin(most_interacted_posts)][\"Person.id\"].values)"
   ]
  },
  {
   "cell_type": "markdown",
   "metadata": {},
   "source": [
    "# Question - 4. Create two histograms for the distributions of the number of likes and comments that users have. (4 points)\n",
    "Describe the shape of these data two data distributions. \n",
    "\n",
    "**Tip:** First perpare two lists of number of likes and number of comments that users have done. You need to count up how many likes and how many comments each unique user id has. "
   ]
  },
  {
   "cell_type": "code",
   "execution_count": 23,
   "metadata": {},
   "outputs": [
    {
     "data": {
      "text/html": [
       "<div>\n",
       "<style scoped>\n",
       "    .dataframe tbody tr th:only-of-type {\n",
       "        vertical-align: middle;\n",
       "    }\n",
       "\n",
       "    .dataframe tbody tr th {\n",
       "        vertical-align: top;\n",
       "    }\n",
       "\n",
       "    .dataframe thead th {\n",
       "        text-align: right;\n",
       "    }\n",
       "</style>\n",
       "<table border=\"1\" class=\"dataframe\">\n",
       "  <thead>\n",
       "    <tr style=\"text-align: right;\">\n",
       "      <th></th>\n",
       "      <th>comments</th>\n",
       "    </tr>\n",
       "  </thead>\n",
       "  <tbody>\n",
       "    <tr>\n",
       "      <th>135</th>\n",
       "      <td>3830</td>\n",
       "    </tr>\n",
       "    <tr>\n",
       "      <th>953</th>\n",
       "      <td>3678</td>\n",
       "    </tr>\n",
       "    <tr>\n",
       "      <th>959</th>\n",
       "      <td>3585</td>\n",
       "    </tr>\n",
       "    <tr>\n",
       "      <th>922</th>\n",
       "      <td>3555</td>\n",
       "    </tr>\n",
       "    <tr>\n",
       "      <th>40</th>\n",
       "      <td>3419</td>\n",
       "    </tr>\n",
       "    <tr>\n",
       "      <th>...</th>\n",
       "      <td>...</td>\n",
       "    </tr>\n",
       "    <tr>\n",
       "      <th>268</th>\n",
       "      <td>1</td>\n",
       "    </tr>\n",
       "    <tr>\n",
       "      <th>527</th>\n",
       "      <td>1</td>\n",
       "    </tr>\n",
       "    <tr>\n",
       "      <th>636</th>\n",
       "      <td>1</td>\n",
       "    </tr>\n",
       "    <tr>\n",
       "      <th>768</th>\n",
       "      <td>1</td>\n",
       "    </tr>\n",
       "    <tr>\n",
       "      <th>818</th>\n",
       "      <td>1</td>\n",
       "    </tr>\n",
       "  </tbody>\n",
       "</table>\n",
       "<p>912 rows × 1 columns</p>\n",
       "</div>"
      ],
      "text/plain": [
       "     comments\n",
       "135      3830\n",
       "953      3678\n",
       "959      3585\n",
       "922      3555\n",
       "40       3419\n",
       "..        ...\n",
       "268         1\n",
       "527         1\n",
       "636         1\n",
       "768         1\n",
       "818         1\n",
       "\n",
       "[912 rows x 1 columns]"
      ]
     },
     "execution_count": 23,
     "metadata": {},
     "output_type": "execute_result"
    }
   ],
   "source": [
    "user_comments = comment_hasCreator_person[\"Person.id\"].value_counts().to_frame().rename(columns = {\"index\" : \"Person.id\" , \"Person.id\" : \"comments\"})\n",
    "\n",
    "user_comments"
   ]
  },
  {
   "cell_type": "code",
   "execution_count": 24,
   "metadata": {},
   "outputs": [
    {
     "data": {
      "image/png": "[encoded data removed]",
      "text/plain": [
       "<Figure size 432x288 with 1 Axes>"
      ]
     },
     "metadata": {
      "needs_background": "light"
     },
     "output_type": "display_data"
    }
   ],
   "source": [
    "plt.hist(user_comments[\"comments\"], 25, facecolor = \"g\" , alpha = 0.75)\n",
    "\n",
    "plt.title(\"Distribution of Comments\")\n",
    "plt.xlabel(\"Number of comments\")\n",
    "plt.ylabel(\"Number of users\")\n",
    "plt.grid(True)\n",
    "plt.show()"
   ]
  },
  {
   "cell_type": "markdown",
   "metadata": {},
   "source": [
    "    The distribution of the number of likes appears to have a fatigue life distribution, or a left-skewed distribution. A majority of users have made fewer than 500 comments. The maximum number of comments appears to be between 3,500 and 4,000."
   ]
  },
  {
   "cell_type": "code",
   "execution_count": 25,
   "metadata": {},
   "outputs": [],
   "source": [
    "user_likes = person_likes_post[\"Person.id\"].value_counts().to_frame().rename(columns = {\"index\" : \"Person.id\", \"Person.id\" : \"likes\"})"
   ]
  },
  {
   "cell_type": "code",
   "execution_count": 26,
   "metadata": {},
   "outputs": [
    {
     "data": {
      "image/png": "[encoded data removed]",
      "text/plain": [
       "<Figure size 432x288 with 1 Axes>"
      ]
     },
     "metadata": {
      "needs_background": "light"
     },
     "output_type": "display_data"
    }
   ],
   "source": [
    "plt.hist(user_likes[\"likes\"], facecolor = \"g\" , alpha = 0.75)\n",
    "\n",
    "plt.title(\"Distribution of Likes\")\n",
    "plt.xlabel(\"Number of 'likes'\")\n",
    "plt.ylabel(\"Number of users\")\n",
    "plt.grid(True)\n",
    "plt.show()"
   ]
  },
  {
   "cell_type": "markdown",
   "metadata": {},
   "source": [
    "    The distribution of the number of likes appears to have a fatigue life distribution, or a left-skewed distribution. A majority of users have given less than 500 likes. "
   ]
  },
  {
   "cell_type": "markdown",
   "metadata": {},
   "source": [
    "# Question - 5. What is the Pearson correlation coefficient between the number of comments and the number of likes that users do on the social network? (4 points)\n",
    "\n",
    "Print out one number. \n",
    "\n",
    "\n",
    "\n",
    "**Tip:** You can calculate correlation coefficient using the following formula: \n",
    "Assume that x and y are two arrays of data, in this case number of likes and comments of each user. \n",
    "\n",
    "\n",
    "\\begin{align*}\n",
    "r= {{ n(\\sum x y ) - (\\sum x ) (\\sum y)    } \\over { \\sqrt{ [ n \\sum x^2  -\n",
    "(\\sum x)^2 ] [ n\\sum y^2 - (\\sum y )^2 ] } } }\n",
    "\\end{align*}\n",
    "\n",
    "\n",
    "\n",
    "\n",
    "\n",
    "\n",
    "\n",
    "\n",
    "\n"
   ]
  },
  {
   "cell_type": "code",
   "execution_count": 27,
   "metadata": {},
   "outputs": [],
   "source": [
    "user_activity = pd.concat([user_likes, user_comments], axis = 1).fillna(0)"
   ]
  },
  {
   "cell_type": "code",
   "execution_count": 28,
   "metadata": {},
   "outputs": [
    {
     "data": {
      "text/plain": [
       "0.9243697363133561"
      ]
     },
     "execution_count": 28,
     "metadata": {},
     "output_type": "execute_result"
    }
   ],
   "source": [
    "user_activity.corr(method = \"pearson\")[\"likes\"][\"comments\"]"
   ]
  }
 ],
 "metadata": {
  "kernelspec": {
   "display_name": "Python 3 (ipykernel)",
   "language": "python",
   "name": "python3"
  },
  "language_info": {
   "codemirror_mode": {
    "name": "ipython",
    "version": 3
   },
   "file_extension": ".py",
   "mimetype": "text/x-python",
   "name": "python",
   "nbconvert_exporter": "python",
   "pygments_lexer": "ipython3",
   "version": "3.8.8"
  }
 },
 "nbformat": 4,
 "nbformat_minor": 4
}
