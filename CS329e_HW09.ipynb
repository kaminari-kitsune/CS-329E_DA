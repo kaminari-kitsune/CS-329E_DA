{
 "cells": [
  {
   "cell_type": "markdown",
   "metadata": {},
   "source": [
    "## C S 329E HW 9\n",
    "\n",
    "# Crossvalidation and hyperparameter selection\n",
    "\n",
    "## Akshay Prakash\n",
    "\n",
    "For this week's homework we are going to explore the cross validation testing methodology and applying that to get error estimates on the two algorithms we've used so far:\n",
    "  - Linear Regression\n",
    "  - Decision Tree classification\n",
    "  "
   ]
  },
  {
   "cell_type": "code",
   "execution_count": 1,
   "metadata": {},
   "outputs": [],
   "source": [
    "# import the libraries! If you want to add things here for visualization, please do, \n",
    "# but only use sklearn when prompted\n",
    "import pandas as pd\n",
    "import numpy as np\n",
    "from sklearn import tree \n",
    "from sklearn.datasets import load_iris\n",
    "from sklearn.datasets import load_diabetes"
   ]
  },
  {
   "cell_type": "markdown",
   "metadata": {},
   "source": [
    "# Part 1 - Calculate Generalized Error on Linear Regression with k-fold Cross Validation"
   ]
  },
  {
   "cell_type": "markdown",
   "metadata": {},
   "source": [
    "## Q1.1 Load in the diabetes data set as a pandas dataframe and series.  \n",
    "Documentation is [here](https://scikit-learn.org/stable/modules/generated/sklearn.datasets.load_diabetes.html).  Name your features dataframe (the independent variables) `df_X` and your target (the dependent variable) series `s_y`"
   ]
  },
  {
   "cell_type": "code",
   "execution_count": 2,
   "metadata": {},
   "outputs": [],
   "source": [
    "df_X, s_y = load_diabetes(return_X_y=True, as_frame=True)"
   ]
  },
  {
   "cell_type": "code",
   "execution_count": 3,
   "metadata": {
    "scrolled": true
   },
   "outputs": [
    {
     "data": {
      "text/html": [
       "<div>\n",
       "<style scoped>\n",
       "    .dataframe tbody tr th:only-of-type {\n",
       "        vertical-align: middle;\n",
       "    }\n",
       "\n",
       "    .dataframe tbody tr th {\n",
       "        vertical-align: top;\n",
       "    }\n",
       "\n",
       "    .dataframe thead th {\n",
       "        text-align: right;\n",
       "    }\n",
       "</style>\n",
       "<table border=\"1\" class=\"dataframe\">\n",
       "  <thead>\n",
       "    <tr style=\"text-align: right;\">\n",
       "      <th></th>\n",
       "      <th>age</th>\n",
       "      <th>sex</th>\n",
       "      <th>bmi</th>\n",
       "      <th>bp</th>\n",
       "      <th>s1</th>\n",
       "      <th>s2</th>\n",
       "      <th>s3</th>\n",
       "      <th>s4</th>\n",
       "      <th>s5</th>\n",
       "      <th>s6</th>\n",
       "    </tr>\n",
       "  </thead>\n",
       "  <tbody>\n",
       "    <tr>\n",
       "      <th>0</th>\n",
       "      <td>0.038076</td>\n",
       "      <td>0.050680</td>\n",
       "      <td>0.061696</td>\n",
       "      <td>0.021872</td>\n",
       "      <td>-0.044223</td>\n",
       "      <td>-0.034821</td>\n",
       "      <td>-0.043401</td>\n",
       "      <td>-0.002592</td>\n",
       "      <td>0.019908</td>\n",
       "      <td>-0.017646</td>\n",
       "    </tr>\n",
       "    <tr>\n",
       "      <th>1</th>\n",
       "      <td>-0.001882</td>\n",
       "      <td>-0.044642</td>\n",
       "      <td>-0.051474</td>\n",
       "      <td>-0.026328</td>\n",
       "      <td>-0.008449</td>\n",
       "      <td>-0.019163</td>\n",
       "      <td>0.074412</td>\n",
       "      <td>-0.039493</td>\n",
       "      <td>-0.068330</td>\n",
       "      <td>-0.092204</td>\n",
       "    </tr>\n",
       "    <tr>\n",
       "      <th>2</th>\n",
       "      <td>0.085299</td>\n",
       "      <td>0.050680</td>\n",
       "      <td>0.044451</td>\n",
       "      <td>-0.005671</td>\n",
       "      <td>-0.045599</td>\n",
       "      <td>-0.034194</td>\n",
       "      <td>-0.032356</td>\n",
       "      <td>-0.002592</td>\n",
       "      <td>0.002864</td>\n",
       "      <td>-0.025930</td>\n",
       "    </tr>\n",
       "    <tr>\n",
       "      <th>3</th>\n",
       "      <td>-0.089063</td>\n",
       "      <td>-0.044642</td>\n",
       "      <td>-0.011595</td>\n",
       "      <td>-0.036656</td>\n",
       "      <td>0.012191</td>\n",
       "      <td>0.024991</td>\n",
       "      <td>-0.036038</td>\n",
       "      <td>0.034309</td>\n",
       "      <td>0.022692</td>\n",
       "      <td>-0.009362</td>\n",
       "    </tr>\n",
       "    <tr>\n",
       "      <th>4</th>\n",
       "      <td>0.005383</td>\n",
       "      <td>-0.044642</td>\n",
       "      <td>-0.036385</td>\n",
       "      <td>0.021872</td>\n",
       "      <td>0.003935</td>\n",
       "      <td>0.015596</td>\n",
       "      <td>0.008142</td>\n",
       "      <td>-0.002592</td>\n",
       "      <td>-0.031991</td>\n",
       "      <td>-0.046641</td>\n",
       "    </tr>\n",
       "  </tbody>\n",
       "</table>\n",
       "</div>"
      ],
      "text/plain": [
       "        age       sex       bmi        bp        s1        s2        s3  \\\n",
       "0  0.038076  0.050680  0.061696  0.021872 -0.044223 -0.034821 -0.043401   \n",
       "1 -0.001882 -0.044642 -0.051474 -0.026328 -0.008449 -0.019163  0.074412   \n",
       "2  0.085299  0.050680  0.044451 -0.005671 -0.045599 -0.034194 -0.032356   \n",
       "3 -0.089063 -0.044642 -0.011595 -0.036656  0.012191  0.024991 -0.036038   \n",
       "4  0.005383 -0.044642 -0.036385  0.021872  0.003935  0.015596  0.008142   \n",
       "\n",
       "         s4        s5        s6  \n",
       "0 -0.002592  0.019908 -0.017646  \n",
       "1 -0.039493 -0.068330 -0.092204  \n",
       "2 -0.002592  0.002864 -0.025930  \n",
       "3  0.034309  0.022692 -0.009362  \n",
       "4 -0.002592 -0.031991 -0.046641  "
      ]
     },
     "execution_count": 3,
     "metadata": {},
     "output_type": "execute_result"
    }
   ],
   "source": [
    "df_X.head()"
   ]
  },
  {
   "cell_type": "code",
   "execution_count": 4,
   "metadata": {},
   "outputs": [
    {
     "data": {
      "text/plain": [
       "0    151.0\n",
       "1     75.0\n",
       "2    141.0\n",
       "3    206.0\n",
       "4    135.0\n",
       "Name: target, dtype: float64"
      ]
     },
     "execution_count": 4,
     "metadata": {},
     "output_type": "execute_result"
    }
   ],
   "source": [
    "s_y.head()"
   ]
  },
  {
   "cell_type": "markdown",
   "metadata": {},
   "source": [
    "## Q1.2 Define a function that creates a linear least squares regression model \n",
    "This function should take in two parameters, `df_X`, and `s_y` and return the least squares regression model, $\\hat{\\beta}$ (using the notation from the ESLII book chapter 3 and HW2).  You can not use any libraries outside of pandas and numpy. "
   ]
  },
  {
   "cell_type": "code",
   "execution_count": 5,
   "metadata": {},
   "outputs": [],
   "source": [
    "def get_linear_regression_model( df_X, s_y ):\n",
    "    b , residuals, rank, s = np.linalg.lstsq(df_X, s_y, rcond = -1)\n",
    "    return b"
   ]
  },
  {
   "cell_type": "markdown",
   "metadata": {},
   "source": [
    "## Q1.3 Define a function that partitions the dataframe and series data into dictionaries\n",
    "This function should take in three parameters, `df_X`, `s_y`, and `k`, and returns a tuple of two dictionaries.\n",
    "In both dictionaries the key is the `k` value (an integer from one to `k` inclusive).\n",
    "The first dictionary will have the dataframe of the training data that contains approximately $\\frac{1}{k}$ of the data (variation due to randomness is acceptable).\n",
    "The second dictionary will have the series of the target data that contains approximately $\\frac{1}{k}$ of the data (variation due to randomness is acceptable). Please note the targets _must match_ the same rows as the dataframe at this index, e.g, the length of the kth partition is the same for the dataframe and series.\n",
    "\n",
    "Call that function with $k=5$ and create the dictionaries `dict_k_df_X` and `dict_k_s_y`. Print out the number of rows in each fold.  Check that the number of data points in each partition totals the number of data points in the entire dataset. "
   ]
  },
  {
   "cell_type": "code",
   "execution_count": 6,
   "metadata": {},
   "outputs": [],
   "source": [
    "def partition_data( df_X, s_y, k ):\n",
    "    dict_k_df_X = {}\n",
    "    dict_k_s_y = {}\n",
    "    \n",
    "    partition_index = np.random.randint(low = 1, high = k + 1, size = len(df_X))\n",
    "    \n",
    "    for k in np.unique(partition_index):\n",
    "        \n",
    "        dict_k_df_X[k], dict_k_s_y[k] = df_X[partition_index == k] , s_y[partition_index == k]\n",
    "        \n",
    "    return (dict_k_df_X, dict_k_s_y)"
   ]
  },
  {
   "cell_type": "code",
   "execution_count": 7,
   "metadata": {},
   "outputs": [],
   "source": [
    "(dict_k_df_X, dict_k_s_y) = partition_data( df_X, s_y, 5 )"
   ]
  },
  {
   "cell_type": "code",
   "execution_count": 8,
   "metadata": {},
   "outputs": [
    {
     "name": "stdout",
     "output_type": "stream",
     "text": [
      "fold 1 : dataframe contains 93 rows, series contains 93 rows.\n",
      "fold 2 : dataframe contains 82 rows, series contains 82 rows.\n",
      "fold 3 : dataframe contains 87 rows, series contains 87 rows.\n",
      "fold 4 : dataframe contains 92 rows, series contains 92 rows.\n",
      "fold 5 : dataframe contains 88 rows, series contains 88 rows.\n",
      "\n",
      "442 rows in the original dataframe and 442 total elements between all partitions.\n"
     ]
    }
   ],
   "source": [
    "partition_lengths = []\n",
    "for key, vals in dict_k_df_X.items() :\n",
    "    print(\"fold {} : dataframe contains {} rows, series contains {} rows.\".format(key, len(vals), len(dict_k_s_y[key])))\n",
    "    partition_lengths.append(len(vals))\n",
    "  \n",
    "print(\"\\n{} rows in the original dataframe and {} total elements between all partitions.\".format(len(df_X),sum(partition_lengths)))   "
   ]
  },
  {
   "cell_type": "markdown",
   "metadata": {},
   "source": [
    "## Q1.4 Define a function that calculates a regression metric\n",
    "This function should accept two series of equal length $n$ numpy arrays, `s_y`, and `s_y_hat`. The metric it should calculate is the mean absolute error, $MAE = \\sum\\limits_{i=1}^n\\frac{|{s\\_y_i - {s\\_y\\_hat}_i}|}{n}$ \n",
    "\n",
    "Test your function by using the vectors:\n",
    "```\n",
    "x = np.array([1,2,3])\n",
    "y = np.array([2,2,3])\n",
    "```\n"
   ]
  },
  {
   "cell_type": "code",
   "execution_count": 9,
   "metadata": {},
   "outputs": [],
   "source": [
    "def get_mae( s_y, s_y_hat):\n",
    "    \n",
    "    if len(s_y) == len(s_y_hat):\n",
    "        mean_absolute_error = np.sum(np.abs(s_y - s_y_hat ) / len(s_y))\n",
    "        return mean_absolute_error\n",
    "    \n",
    "    return None"
   ]
  },
  {
   "cell_type": "code",
   "execution_count": 10,
   "metadata": {},
   "outputs": [
    {
     "data": {
      "text/plain": [
       "0.3333333333333333"
      ]
     },
     "execution_count": 10,
     "metadata": {},
     "output_type": "execute_result"
    }
   ],
   "source": [
    "# Test it \n",
    "x = np.array([1,2,3])\n",
    "y = np.array([2,2,3])\n",
    "get_mae(x,y)"
   ]
  },
  {
   "cell_type": "markdown",
   "metadata": {},
   "source": [
    "## Q1.5 Calculate the $MAE$ for each fold\n",
    "For each fold in your dictionaries, calculate the $MAE$.  Use the partition number key as the test set, and all other partitions as the train set. \n",
    "\n",
    "Print the min, max, and mean $MAE$ of your 5 folds. "
   ]
  },
  {
   "cell_type": "code",
   "execution_count": 11,
   "metadata": {},
   "outputs": [
    {
     "name": "stdout",
     "output_type": "stream",
     "text": [
      "The maximum, minimum, and mean mean average error(MAE) amongst the folds are as follows:\n",
      "50.745, 41.371, 44.340, respectively.\n"
     ]
    }
   ],
   "source": [
    "mae = np.array([])\n",
    "for k in dict_k_df_X.keys():\n",
    "    \n",
    "    # initialize an empty data frame and series to hold the training data and targets\n",
    "    train_data = pd.DataFrame()\n",
    "    train_y = pd.Series(dtype= float)\n",
    "    \n",
    "    # select the data and targets to be used as for testing\n",
    "    test_data = dict_k_df_X[k].copy()\n",
    "    #   adding an intercept column to account for the B0 (beta hat zero)\n",
    "    test_data[\"intercept\"] = np.ones(test_data.shape[0])\n",
    "    test_s_y = dict_k_s_y[k]\n",
    "    \n",
    "    for train_fold in dict_k_df_X.keys():\n",
    "        \n",
    "        # select all partitions that are not equal to the test set key\n",
    "        if train_fold != k:\n",
    "            \n",
    "            train_data = pd.concat([train_data, dict_k_df_X[train_fold]])\n",
    "            train_y = pd.concat([train_y, dict_k_s_y[train_fold]])\n",
    "\n",
    "    # add an intercept for the B0 term\n",
    "    train_data['intercept'] = np.ones(train_data.shape[0])\n",
    "\n",
    "\n",
    "    b = get_linear_regression_model(train_data, train_y)\n",
    "\n",
    "    s_y_hat = np.matmul(test_data.to_numpy(), b)\n",
    "\n",
    "    mae = np.append(mae, get_mae(s_y_hat, test_s_y))\n",
    "\n",
    "print(\"The maximum, minimum, and mean mean average error(MAE) amongst the folds are as follows:\\n{:.3f}, {:.3f}, {:.3f}, respectively.\".format(mae.max(),mae.min(),mae.mean()))\n"
   ]
  },
  {
   "cell_type": "markdown",
   "metadata": {},
   "source": [
    "# Part 2 - Find the best hyperparameter to use in a Decision Tree "
   ]
  },
  {
   "cell_type": "markdown",
   "metadata": {},
   "source": [
    "## Q2.1 Load the iris data in as a pandas dataframe and a series\n",
    "Documentation is [here](https://scikit-learn.org/stable/modules/generated/sklearn.datasets.load_iris.html). Name your features dataframe (the independent variables) `df_X` and your classification target (the dependent variable) series `s_y`"
   ]
  },
  {
   "cell_type": "code",
   "execution_count": 12,
   "metadata": {},
   "outputs": [],
   "source": [
    "df_X , s_y = load_iris(return_X_y=True, as_frame=True)"
   ]
  },
  {
   "cell_type": "markdown",
   "metadata": {},
   "source": [
    "## Q2.2 Partition `df_X` and `s_y` into $5$ partitions of roughly equal size\n",
    "Make 2 dictionaries, with the key of each dictionary the fold number.  The value of the dictionary `dict_k_df_X` is the $k^{th}$ partition of the data, and the value of the dictionary `dict_k_s_y` is the corresponding $k^{th}$ target classification.  Print out the number of rows in each fold.  Check that the number of data points in each partition totals the number of data points in the entire dataset. "
   ]
  },
  {
   "cell_type": "code",
   "execution_count": 13,
   "metadata": {},
   "outputs": [],
   "source": [
    "(dict_k_df_X, dict_k_s_y) = partition_data( df_X, s_y, 5 )"
   ]
  },
  {
   "cell_type": "code",
   "execution_count": 14,
   "metadata": {},
   "outputs": [
    {
     "name": "stdout",
     "output_type": "stream",
     "text": [
      "fold 1 : dataframe contains 29 rows, series contains 29 rows.\n",
      "fold 2 : dataframe contains 35 rows, series contains 35 rows.\n",
      "fold 3 : dataframe contains 28 rows, series contains 28 rows.\n",
      "fold 4 : dataframe contains 34 rows, series contains 34 rows.\n",
      "fold 5 : dataframe contains 24 rows, series contains 24 rows.\n",
      "\n",
      "150 rows in the original dataframe and 150 total elements between all partitions.\n"
     ]
    }
   ],
   "source": [
    "partition_lengths = []\n",
    "for key, vals in dict_k_df_X.items() :\n",
    "    print(\"fold {} : dataframe contains {} rows, series contains {} rows.\".format(key, len(vals), len(dict_k_s_y[key])))\n",
    "    partition_lengths.append(len(vals))\n",
    "  \n",
    "print(\"\\n{} rows in the original dataframe and {} total elements between all partitions.\".format(len(df_X),sum(partition_lengths)))   "
   ]
  },
  {
   "cell_type": "markdown",
   "metadata": {},
   "source": [
    "## Q2.3 Define a function that calculates accuracy\n",
    "The function should accept two series and compare each element for equality.  The accuracy is the number of equal elements divided by the total number of elements.\n",
    "\n",
    "Test your accuracy function by calling it with the `s_y` loaded from the iris data set and an array of the same length containing all $1$ values. "
   ]
  },
  {
   "cell_type": "code",
   "execution_count": 15,
   "metadata": {},
   "outputs": [],
   "source": [
    "def get_acc( s_1, s_2 ):\n",
    "    if s_1.size == s_2.size:\n",
    "        return np.sum(s_1 == s_2) / s_1.size"
   ]
  },
  {
   "cell_type": "code",
   "execution_count": 16,
   "metadata": {},
   "outputs": [
    {
     "data": {
      "text/plain": [
       "0.3333333333333333"
      ]
     },
     "execution_count": 16,
     "metadata": {},
     "output_type": "execute_result"
    }
   ],
   "source": [
    "get_acc(s_y,np.ones(len(s_y)))"
   ]
  },
  {
   "cell_type": "markdown",
   "metadata": {},
   "source": [
    "## Q2.4 Using Nested Cross validation, find the best hyperparameter\n",
    "Use the [Decision Tree Classifier](https://scikit-learn.org/stable/modules/tree.html#classification) class to build a decision tree inside of a 5-fold cross validation loop.  The partitions you already created in 2.2 will be the outer loop.  In the inside loop you should use 4-fold cross validation (so you don't have to partition _again_) to find the best value for `min_impurity_decrease`.  Use the Gini Index as your impurity measure. \n",
    "    Calculate the mean accuracy across the 4 folds of your inner loop for all the candidate `min_impurity_decrease` values, and print the value.  Use the array `np.array([0.1,0.25,0.3,0.4])` as the candidates for the best hyperparameter. If there is a tie (two `min_impurity_decrease` values give the same highest accuracy), choose the lowest `min_impurity_decrease` value. \n",
    "\n",
    "For each inner loop, select the best `min_impurity_decrease` and train the outer fold training data on using that value. \n",
    "\n",
    "For each inner loop, your output should look something like this:\n",
    "```\n",
    "Testing 0.10 min impurity decrease\n",
    "\tAverage accuracy over 4 folds is 0.95\n",
    "Testing 0.25 min impurity decrease\n",
    "\tAverage accuracy over 4 folds is 0.86\n",
    "Testing 0.30 min impurity decrease\n",
    "\tAverage accuracy over 4 folds is 0.63\n",
    "Testing 0.40 min impurity decrease\n",
    "\tAverage accuracy over 4 folds is 0.27\n",
    "\n",
    "Best min impurity decrease is 0.1\n",
    "\n",
    "```"
   ]
  },
  {
   "cell_type": "code",
   "execution_count": 21,
   "metadata": {},
   "outputs": [
    {
     "name": "stdout",
     "output_type": "stream",
     "text": [
      "Testing 0.10 min impurity decrease\n",
      "\tAverage Accuracy over 4 folds is 0.93\n",
      "Testing 0.25 min impurity decrease\n",
      "\tAverage Accuracy over 4 folds is 0.86\n",
      "Testing 0.30 min impurity decrease\n",
      "\tAverage Accuracy over 4 folds is 0.71\n",
      "Testing 0.40 min impurity decrease\n",
      "\tAverage Accuracy over 4 folds is 0.30\n",
      "\n",
      "Best minimum impurity decrease value is 0.1\n",
      "\n",
      "Testing 0.10 min impurity decrease\n",
      "\tAverage Accuracy over 4 folds is 0.92\n",
      "Testing 0.25 min impurity decrease\n",
      "\tAverage Accuracy over 4 folds is 0.81\n",
      "Testing 0.30 min impurity decrease\n",
      "\tAverage Accuracy over 4 folds is 0.54\n",
      "Testing 0.40 min impurity decrease\n",
      "\tAverage Accuracy over 4 folds is 0.25\n",
      "\n",
      "Best minimum impurity decrease value is 0.1\n",
      "\n",
      "Testing 0.10 min impurity decrease\n",
      "\tAverage Accuracy over 4 folds is 0.92\n",
      "Testing 0.25 min impurity decrease\n",
      "\tAverage Accuracy over 4 folds is 0.67\n",
      "Testing 0.30 min impurity decrease\n",
      "\tAverage Accuracy over 4 folds is 0.63\n",
      "Testing 0.40 min impurity decrease\n",
      "\tAverage Accuracy over 4 folds is 0.30\n",
      "\n",
      "Best minimum impurity decrease value is 0.1\n",
      "\n",
      "Testing 0.10 min impurity decrease\n",
      "\tAverage Accuracy over 4 folds is 0.92\n",
      "Testing 0.25 min impurity decrease\n",
      "\tAverage Accuracy over 4 folds is 0.81\n",
      "Testing 0.30 min impurity decrease\n",
      "\tAverage Accuracy over 4 folds is 0.63\n",
      "Testing 0.40 min impurity decrease\n",
      "\tAverage Accuracy over 4 folds is 0.23\n",
      "\n",
      "Best minimum impurity decrease value is 0.1\n",
      "\n",
      "Testing 0.10 min impurity decrease\n",
      "\tAverage Accuracy over 4 folds is 0.96\n",
      "Testing 0.25 min impurity decrease\n",
      "\tAverage Accuracy over 4 folds is 0.96\n",
      "Testing 0.30 min impurity decrease\n",
      "\tAverage Accuracy over 4 folds is 0.64\n",
      "Testing 0.40 min impurity decrease\n",
      "\tAverage Accuracy over 4 folds is 0.29\n",
      "\n",
      "Best minimum impurity decrease value is 0.1\n",
      "\n"
     ]
    }
   ],
   "source": [
    "possible_min_impurity_decrease = np.array([0.1,0.25,0.3,0.4])\n",
    "\n",
    "# Outer loop\n",
    "outer_acc = np.array([])\n",
    "for k in dict_k_df_X.keys():\n",
    "    \n",
    "    train_df_X = pd.DataFrame()\n",
    "    train_s_y = pd.Series(dtype=float)\n",
    "    \n",
    "    average_pos_min_impurity_accuracy = np.array([])\n",
    "    \n",
    "    \n",
    "    for pos_min_impurity in possible_min_impurity_decrease:\n",
    "        \n",
    "        print(\"Testing {:.2f} min impurity decrease\".format(pos_min_impurity))\n",
    "        \n",
    "        pos_min_impurity_acc = np.array([])\n",
    "        keys_list = list(dict_k_df_X.keys())\n",
    "        keys_list.remove(k)\n",
    "        \n",
    "        # Inner loop cross validation code here (use 4 folds, where the fold does not include k)\n",
    "        \n",
    "        for inner_k in keys_list:\n",
    "            \n",
    "            inner_training_data = pd.DataFrame()\n",
    "            inner_training_y = pd.Series(dtype= float)\n",
    "            \n",
    "            inner_test_data = dict_k_df_X[inner_k]\n",
    "            inner_test_y = dict_k_s_y[inner_k]\n",
    "            \n",
    "            for not_inner_k in keys_list:\n",
    "                \n",
    "                if not_inner_k != inner_k:\n",
    "                    inner_training_data = pd.concat([inner_training_data,dict_k_df_X[not_inner_k]])\n",
    "                    inner_training_y = pd.concat([inner_training_y , dict_k_s_y[not_inner_k]])\n",
    "            \n",
    "            clf = tree.DecisionTreeClassifier(criterion= 'gini', min_impurity_decrease= pos_min_impurity)\n",
    "            clf.fit(inner_training_data, inner_training_y)\n",
    "            \n",
    "            current_accuracy = get_acc(inner_test_y, clf.predict(inner_test_data))\n",
    "            pos_min_impurity_acc = np.append(pos_min_impurity_acc, current_accuracy)\n",
    "            \n",
    "        average_pos_min_impurity_accuracy = np.append(average_pos_min_impurity_accuracy , pos_min_impurity_acc.mean())\n",
    "        \n",
    "        print(\"\\tAverage Accuracy over {:d} folds is {:.2f}\".format(len(keys_list), pos_min_impurity_acc.mean()))\n",
    "        \n",
    "    index_highest_accuracy = np.argmin(1-average_pos_min_impurity_accuracy)\n",
    "    print(\"\\nBest minimum impurity decrease value is {}\\n\".format(possible_min_impurity_decrease[index_highest_accuracy]))\n",
    "        \n",
    "    current_min_impurity_decrease = possible_min_impurity_decrease[index_highest_accuracy]\n",
    "            \n",
    "    for not_k in dict_k_df_X.keys():\n",
    "            \n",
    "        if not_k != k:\n",
    "                \n",
    "            train_df_X = pd.concat([train_df_X, dict_k_df_X[not_k]])\n",
    "            train_s_y = pd.concat([train_s_y, dict_k_s_y[not_k]])\n",
    "        \n",
    "    test_data = dict_k_df_X[k]\n",
    "    test_s_y = dict_k_s_y[k]\n",
    "        \n",
    "    clf = tree.DecisionTreeClassifier(criterion='gini', min_impurity_decrease= current_min_impurity_decrease)\n",
    "    clf = clf.fit(train_df_X, train_s_y)  \n",
    "        \n",
    "    \n",
    "    current_accuracy_outer = get_acc(test_s_y, clf.predict(test_data))\n",
    "    outer_acc = np.append(outer_acc,current_accuracy_outer) # make sure and calculate this_acc in your loop"
   ]
  },
  {
   "cell_type": "markdown",
   "metadata": {},
   "source": [
    "## Q2.5 Show the generalized performance of the classifier \n",
    "Show the generalized performance of the classifier by printing the min, max, and mean accuracy of the outer fold test sets."
   ]
  },
  {
   "cell_type": "code",
   "execution_count": 22,
   "metadata": {},
   "outputs": [
    {
     "name": "stdout",
     "output_type": "stream",
     "text": [
      "The minimum accuracy is 0.83, the maximum accuracy is 0.96, and the mean accuracy is 0.92\n"
     ]
    }
   ],
   "source": [
    "print(\"The minimum accuracy is {:.2f}, the maximum accuracy is {:.2f}, and the mean accuracy is {:.2f}\".format(outer_acc.min(), outer_acc.max(), outer_acc.mean()))"
   ]
  }
 ],
 "metadata": {
  "kernelspec": {
   "display_name": "Python 3 (ipykernel)",
   "language": "python",
   "name": "python3"
  },
  "language_info": {
   "codemirror_mode": {
    "name": "ipython",
    "version": 3
   },
   "file_extension": ".py",
   "mimetype": "text/x-python",
   "name": "python",
   "nbconvert_exporter": "python",
   "pygments_lexer": "ipython3",
   "version": "3.8.8"
  }
 },
 "nbformat": 4,
 "nbformat_minor": 4
}
