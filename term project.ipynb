{
 "cells": [
  {
   "cell_type": "markdown",
   "id": "f3426141",
   "metadata": {},
   "source": [
    "## [CS 329E] Elements of Data Analytics Term Project\n",
    "#### by Akshay Prakash\n"
   ]
  },
  {
   "cell_type": "markdown",
   "id": "d83844b1",
   "metadata": {},
   "source": [
    "This term project exists to ask the following: Does the type of medical care provider affect the number of deaths in jails in the United States?\n",
    "\n",
    "This project utilizes data from https://www.reuters.com/investigates/special-report/usa-jails-graphic/, a Reuters study into the prevalence of inmate deaths between the years 2008 and 2019.\n"
   ]
  },
  {
   "cell_type": "code",
   "execution_count": 1,
   "id": "20f847ee",
   "metadata": {},
   "outputs": [],
   "source": [
    "# loading libraries\n",
    "import pandas as pd\n",
    "import numpy as np\n",
    "import matplotlib.pyplot as plt\n",
    "import scipy.stats as stats"
   ]
  },
  {
   "cell_type": "markdown",
   "id": "69f78cac",
   "metadata": {},
   "source": [
    "The following data is a collection of the deaths in  jails across the United States. This comma seperated value file (csv) contains information about individual jails, such as the state, county, and the number and types (suicide, homicide, illness, accident, drug/alcohol related, other) of deaths in each year. It also states the jail's medical care provider."
   ]
  },
  {
   "cell_type": "code",
   "execution_count": 2,
   "id": "da76730a",
   "metadata": {
    "scrolled": false
   },
   "outputs": [
    {
     "data": {
      "text/html": [
       "<div>\n",
       "<style scoped>\n",
       "    .dataframe tbody tr th:only-of-type {\n",
       "        vertical-align: middle;\n",
       "    }\n",
       "\n",
       "    .dataframe tbody tr th {\n",
       "        vertical-align: top;\n",
       "    }\n",
       "\n",
       "    .dataframe thead th {\n",
       "        text-align: right;\n",
       "    }\n",
       "</style>\n",
       "<table border=\"1\" class=\"dataframe\">\n",
       "  <thead>\n",
       "    <tr style=\"text-align: right;\">\n",
       "      <th></th>\n",
       "      <th>id</th>\n",
       "      <th>fips</th>\n",
       "      <th>statecode</th>\n",
       "      <th>state</th>\n",
       "      <th>state_notes</th>\n",
       "      <th>county</th>\n",
       "      <th>jail</th>\n",
       "      <th>jail_notes</th>\n",
       "      <th>d2008</th>\n",
       "      <th>d2009</th>\n",
       "      <th>...</th>\n",
       "      <th>med2010</th>\n",
       "      <th>med2011</th>\n",
       "      <th>med2012</th>\n",
       "      <th>med2013</th>\n",
       "      <th>med2014</th>\n",
       "      <th>med2015</th>\n",
       "      <th>med2016</th>\n",
       "      <th>med2017</th>\n",
       "      <th>med2018</th>\n",
       "      <th>med2019</th>\n",
       "    </tr>\n",
       "  </thead>\n",
       "  <tbody>\n",
       "    <tr>\n",
       "      <th>0</th>\n",
       "      <td>1</td>\n",
       "      <td>1003.0</td>\n",
       "      <td>AL</td>\n",
       "      <td>Alabama</td>\n",
       "      <td>NaN</td>\n",
       "      <td>Baldwin</td>\n",
       "      <td>Baldwin County Corr. Center</td>\n",
       "      <td>NaN</td>\n",
       "      <td>0.0</td>\n",
       "      <td>0.0</td>\n",
       "      <td>...</td>\n",
       "      <td>public</td>\n",
       "      <td>public</td>\n",
       "      <td>public</td>\n",
       "      <td>public</td>\n",
       "      <td>public</td>\n",
       "      <td>public</td>\n",
       "      <td>public/Quality Correctional Health Care</td>\n",
       "      <td>Quality Correctional Health Care</td>\n",
       "      <td>Quality Correctional Health Care</td>\n",
       "      <td>Quality Correctional Health Care</td>\n",
       "    </tr>\n",
       "    <tr>\n",
       "      <th>1</th>\n",
       "      <td>2</td>\n",
       "      <td>1015.0</td>\n",
       "      <td>AL</td>\n",
       "      <td>Alabama</td>\n",
       "      <td>NaN</td>\n",
       "      <td>Calhoun</td>\n",
       "      <td>Calhoun County Jail</td>\n",
       "      <td>NaN</td>\n",
       "      <td>0.0</td>\n",
       "      <td>1.0</td>\n",
       "      <td>...</td>\n",
       "      <td>public</td>\n",
       "      <td>public</td>\n",
       "      <td>public</td>\n",
       "      <td>public</td>\n",
       "      <td>public</td>\n",
       "      <td>public/Quality Correctional Health Care</td>\n",
       "      <td>Quality Correctional Health Care</td>\n",
       "      <td>Quality Correctional Health Care/Southern Heal...</td>\n",
       "      <td>Southern Health Partners</td>\n",
       "      <td>Southern Health Partners</td>\n",
       "    </tr>\n",
       "    <tr>\n",
       "      <th>2</th>\n",
       "      <td>3</td>\n",
       "      <td>1055.0</td>\n",
       "      <td>AL</td>\n",
       "      <td>Alabama</td>\n",
       "      <td>NaN</td>\n",
       "      <td>Etowah</td>\n",
       "      <td>Etowah County Detention Center</td>\n",
       "      <td>NaN</td>\n",
       "      <td>0.0</td>\n",
       "      <td>0.0</td>\n",
       "      <td>...</td>\n",
       "      <td>Doctors' Care Family Medical Services</td>\n",
       "      <td>Doctors' Care Family Medical Services</td>\n",
       "      <td>Doctors' Care Family Medical Services</td>\n",
       "      <td>Doctors' Care Family Medical Services</td>\n",
       "      <td>Doctors' Care Family Medical Services</td>\n",
       "      <td>Doctors' Care Family Medical Services</td>\n",
       "      <td>Doctors' Care Family Medical Services</td>\n",
       "      <td>Doctors' Care Family Medical Services</td>\n",
       "      <td>Doctors' Care Family Medical Services</td>\n",
       "      <td>NaN</td>\n",
       "    </tr>\n",
       "    <tr>\n",
       "      <th>3</th>\n",
       "      <td>4</td>\n",
       "      <td>1069.0</td>\n",
       "      <td>AL</td>\n",
       "      <td>Alabama</td>\n",
       "      <td>NaN</td>\n",
       "      <td>Houston</td>\n",
       "      <td>Houston County Jail</td>\n",
       "      <td>NaN</td>\n",
       "      <td>1.0</td>\n",
       "      <td>0.0</td>\n",
       "      <td>...</td>\n",
       "      <td>public</td>\n",
       "      <td>public</td>\n",
       "      <td>public</td>\n",
       "      <td>public</td>\n",
       "      <td>public</td>\n",
       "      <td>public</td>\n",
       "      <td>public</td>\n",
       "      <td>public</td>\n",
       "      <td>public</td>\n",
       "      <td>public</td>\n",
       "    </tr>\n",
       "    <tr>\n",
       "      <th>4</th>\n",
       "      <td>5</td>\n",
       "      <td>1073.0</td>\n",
       "      <td>AL</td>\n",
       "      <td>Alabama</td>\n",
       "      <td>NaN</td>\n",
       "      <td>Jefferson</td>\n",
       "      <td>Jefferson County Birmingham Jail</td>\n",
       "      <td>ADP for 2008 was based on data provided by the...</td>\n",
       "      <td>NaN</td>\n",
       "      <td>NaN</td>\n",
       "      <td>...</td>\n",
       "      <td>Health Assurance</td>\n",
       "      <td>Health Assurance/Advanced Correctional Healthcare</td>\n",
       "      <td>Advanced Correctional Healthcare</td>\n",
       "      <td>Advanced Correctional Healthcare</td>\n",
       "      <td>Advanced Correctional Healthcare</td>\n",
       "      <td>Advanced Correctional Healthcare</td>\n",
       "      <td>Advanced Correctional Healthcare</td>\n",
       "      <td>Advanced Correctional Healthcare</td>\n",
       "      <td>Advanced Correctional Healthcare</td>\n",
       "      <td>Advanced Correctional Healthcare</td>\n",
       "    </tr>\n",
       "    <tr>\n",
       "      <th>...</th>\n",
       "      <td>...</td>\n",
       "      <td>...</td>\n",
       "      <td>...</td>\n",
       "      <td>...</td>\n",
       "      <td>...</td>\n",
       "      <td>...</td>\n",
       "      <td>...</td>\n",
       "      <td>...</td>\n",
       "      <td>...</td>\n",
       "      <td>...</td>\n",
       "      <td>...</td>\n",
       "      <td>...</td>\n",
       "      <td>...</td>\n",
       "      <td>...</td>\n",
       "      <td>...</td>\n",
       "      <td>...</td>\n",
       "      <td>...</td>\n",
       "      <td>...</td>\n",
       "      <td>...</td>\n",
       "      <td>...</td>\n",
       "      <td>...</td>\n",
       "    </tr>\n",
       "    <tr>\n",
       "      <th>518</th>\n",
       "      <td>498</td>\n",
       "      <td>56021.0</td>\n",
       "      <td>WY</td>\n",
       "      <td>Wyoming</td>\n",
       "      <td>NaN</td>\n",
       "      <td>Laramie</td>\n",
       "      <td>Laramie County Detention Facility</td>\n",
       "      <td>NaN</td>\n",
       "      <td>0.0</td>\n",
       "      <td>0.0</td>\n",
       "      <td>...</td>\n",
       "      <td>Wellpath</td>\n",
       "      <td>Wellpath</td>\n",
       "      <td>Wellpath</td>\n",
       "      <td>Wellpath</td>\n",
       "      <td>Wellpath</td>\n",
       "      <td>Wellpath</td>\n",
       "      <td>Wellpath</td>\n",
       "      <td>Wellpath</td>\n",
       "      <td>Wellpath</td>\n",
       "      <td>Wellpath</td>\n",
       "    </tr>\n",
       "    <tr>\n",
       "      <th>519</th>\n",
       "      <td>499</td>\n",
       "      <td>56025.0</td>\n",
       "      <td>WY</td>\n",
       "      <td>Wyoming</td>\n",
       "      <td>NaN</td>\n",
       "      <td>Natrona</td>\n",
       "      <td>Natrona County Detention Center</td>\n",
       "      <td>NaN</td>\n",
       "      <td>0.0</td>\n",
       "      <td>1.0</td>\n",
       "      <td>...</td>\n",
       "      <td>public</td>\n",
       "      <td>public</td>\n",
       "      <td>public</td>\n",
       "      <td>public</td>\n",
       "      <td>public</td>\n",
       "      <td>public</td>\n",
       "      <td>public</td>\n",
       "      <td>public</td>\n",
       "      <td>public</td>\n",
       "      <td>NaN</td>\n",
       "    </tr>\n",
       "    <tr>\n",
       "      <th>520</th>\n",
       "      <td>500</td>\n",
       "      <td>56031.0</td>\n",
       "      <td>WY</td>\n",
       "      <td>Wyoming</td>\n",
       "      <td>NaN</td>\n",
       "      <td>Platte</td>\n",
       "      <td>Platte County Detention Center</td>\n",
       "      <td>NaN</td>\n",
       "      <td>0.0</td>\n",
       "      <td>0.0</td>\n",
       "      <td>...</td>\n",
       "      <td>public</td>\n",
       "      <td>public</td>\n",
       "      <td>public</td>\n",
       "      <td>public</td>\n",
       "      <td>public</td>\n",
       "      <td>public</td>\n",
       "      <td>public</td>\n",
       "      <td>public</td>\n",
       "      <td>public</td>\n",
       "      <td>public</td>\n",
       "    </tr>\n",
       "    <tr>\n",
       "      <th>521</th>\n",
       "      <td>501</td>\n",
       "      <td>56033.0</td>\n",
       "      <td>WY</td>\n",
       "      <td>Wyoming</td>\n",
       "      <td>NaN</td>\n",
       "      <td>Sheridan</td>\n",
       "      <td>Sheridan County Detention Center</td>\n",
       "      <td>NaN</td>\n",
       "      <td>0.0</td>\n",
       "      <td>0.0</td>\n",
       "      <td>...</td>\n",
       "      <td>Wellpath</td>\n",
       "      <td>Wellpath</td>\n",
       "      <td>Wellpath</td>\n",
       "      <td>Wellpath</td>\n",
       "      <td>Wellpath</td>\n",
       "      <td>Wellpath</td>\n",
       "      <td>Wellpath</td>\n",
       "      <td>Wellpath</td>\n",
       "      <td>Wellpath</td>\n",
       "      <td>Wellpath</td>\n",
       "    </tr>\n",
       "    <tr>\n",
       "      <th>522</th>\n",
       "      <td>502</td>\n",
       "      <td>56037.0</td>\n",
       "      <td>WY</td>\n",
       "      <td>Wyoming</td>\n",
       "      <td>NaN</td>\n",
       "      <td>Sweetwater</td>\n",
       "      <td>Sweetwater County Detention Center</td>\n",
       "      <td>NaN</td>\n",
       "      <td>0.0</td>\n",
       "      <td>0.0</td>\n",
       "      <td>...</td>\n",
       "      <td>public</td>\n",
       "      <td>public</td>\n",
       "      <td>public</td>\n",
       "      <td>public</td>\n",
       "      <td>public</td>\n",
       "      <td>public</td>\n",
       "      <td>public</td>\n",
       "      <td>public</td>\n",
       "      <td>public</td>\n",
       "      <td>public</td>\n",
       "    </tr>\n",
       "  </tbody>\n",
       "</table>\n",
       "<p>523 rows × 116 columns</p>\n",
       "</div>"
      ],
      "text/plain": [
       "      id     fips statecode    state state_notes      county  \\\n",
       "0      1   1003.0        AL  Alabama         NaN     Baldwin   \n",
       "1      2   1015.0        AL  Alabama         NaN     Calhoun   \n",
       "2      3   1055.0        AL  Alabama         NaN      Etowah   \n",
       "3      4   1069.0        AL  Alabama         NaN     Houston   \n",
       "4      5   1073.0        AL  Alabama         NaN   Jefferson   \n",
       "..   ...      ...       ...      ...         ...         ...   \n",
       "518  498  56021.0        WY  Wyoming         NaN     Laramie   \n",
       "519  499  56025.0        WY  Wyoming         NaN     Natrona   \n",
       "520  500  56031.0        WY  Wyoming         NaN      Platte   \n",
       "521  501  56033.0        WY  Wyoming         NaN    Sheridan   \n",
       "522  502  56037.0        WY  Wyoming         NaN  Sweetwater   \n",
       "\n",
       "                                   jail  \\\n",
       "0           Baldwin County Corr. Center   \n",
       "1                   Calhoun County Jail   \n",
       "2        Etowah County Detention Center   \n",
       "3                   Houston County Jail   \n",
       "4      Jefferson County Birmingham Jail   \n",
       "..                                  ...   \n",
       "518   Laramie County Detention Facility   \n",
       "519     Natrona County Detention Center   \n",
       "520      Platte County Detention Center   \n",
       "521    Sheridan County Detention Center   \n",
       "522  Sweetwater County Detention Center   \n",
       "\n",
       "                                            jail_notes  d2008  d2009  ...  \\\n",
       "0                                                  NaN    0.0    0.0  ...   \n",
       "1                                                  NaN    0.0    1.0  ...   \n",
       "2                                                  NaN    0.0    0.0  ...   \n",
       "3                                                  NaN    1.0    0.0  ...   \n",
       "4    ADP for 2008 was based on data provided by the...    NaN    NaN  ...   \n",
       "..                                                 ...    ...    ...  ...   \n",
       "518                                                NaN    0.0    0.0  ...   \n",
       "519                                                NaN    0.0    1.0  ...   \n",
       "520                                                NaN    0.0    0.0  ...   \n",
       "521                                                NaN    0.0    0.0  ...   \n",
       "522                                                NaN    0.0    0.0  ...   \n",
       "\n",
       "                                   med2010  \\\n",
       "0                                   public   \n",
       "1                                   public   \n",
       "2    Doctors' Care Family Medical Services   \n",
       "3                                   public   \n",
       "4                         Health Assurance   \n",
       "..                                     ...   \n",
       "518                               Wellpath   \n",
       "519                                 public   \n",
       "520                                 public   \n",
       "521                               Wellpath   \n",
       "522                                 public   \n",
       "\n",
       "                                               med2011  \\\n",
       "0                                               public   \n",
       "1                                               public   \n",
       "2                Doctors' Care Family Medical Services   \n",
       "3                                               public   \n",
       "4    Health Assurance/Advanced Correctional Healthcare   \n",
       "..                                                 ...   \n",
       "518                                           Wellpath   \n",
       "519                                             public   \n",
       "520                                             public   \n",
       "521                                           Wellpath   \n",
       "522                                             public   \n",
       "\n",
       "                                   med2012  \\\n",
       "0                                   public   \n",
       "1                                   public   \n",
       "2    Doctors' Care Family Medical Services   \n",
       "3                                   public   \n",
       "4         Advanced Correctional Healthcare   \n",
       "..                                     ...   \n",
       "518                               Wellpath   \n",
       "519                                 public   \n",
       "520                                 public   \n",
       "521                               Wellpath   \n",
       "522                                 public   \n",
       "\n",
       "                                   med2013  \\\n",
       "0                                   public   \n",
       "1                                   public   \n",
       "2    Doctors' Care Family Medical Services   \n",
       "3                                   public   \n",
       "4         Advanced Correctional Healthcare   \n",
       "..                                     ...   \n",
       "518                               Wellpath   \n",
       "519                                 public   \n",
       "520                                 public   \n",
       "521                               Wellpath   \n",
       "522                                 public   \n",
       "\n",
       "                                   med2014  \\\n",
       "0                                   public   \n",
       "1                                   public   \n",
       "2    Doctors' Care Family Medical Services   \n",
       "3                                   public   \n",
       "4         Advanced Correctional Healthcare   \n",
       "..                                     ...   \n",
       "518                               Wellpath   \n",
       "519                                 public   \n",
       "520                                 public   \n",
       "521                               Wellpath   \n",
       "522                                 public   \n",
       "\n",
       "                                     med2015  \\\n",
       "0                                     public   \n",
       "1    public/Quality Correctional Health Care   \n",
       "2      Doctors' Care Family Medical Services   \n",
       "3                                     public   \n",
       "4           Advanced Correctional Healthcare   \n",
       "..                                       ...   \n",
       "518                                 Wellpath   \n",
       "519                                   public   \n",
       "520                                   public   \n",
       "521                                 Wellpath   \n",
       "522                                   public   \n",
       "\n",
       "                                     med2016  \\\n",
       "0    public/Quality Correctional Health Care   \n",
       "1           Quality Correctional Health Care   \n",
       "2      Doctors' Care Family Medical Services   \n",
       "3                                     public   \n",
       "4           Advanced Correctional Healthcare   \n",
       "..                                       ...   \n",
       "518                                 Wellpath   \n",
       "519                                   public   \n",
       "520                                   public   \n",
       "521                                 Wellpath   \n",
       "522                                   public   \n",
       "\n",
       "                                               med2017  \\\n",
       "0                     Quality Correctional Health Care   \n",
       "1    Quality Correctional Health Care/Southern Heal...   \n",
       "2                Doctors' Care Family Medical Services   \n",
       "3                                               public   \n",
       "4                     Advanced Correctional Healthcare   \n",
       "..                                                 ...   \n",
       "518                                           Wellpath   \n",
       "519                                             public   \n",
       "520                                             public   \n",
       "521                                           Wellpath   \n",
       "522                                             public   \n",
       "\n",
       "                                   med2018                           med2019  \n",
       "0         Quality Correctional Health Care  Quality Correctional Health Care  \n",
       "1                 Southern Health Partners          Southern Health Partners  \n",
       "2    Doctors' Care Family Medical Services                               NaN  \n",
       "3                                   public                            public  \n",
       "4         Advanced Correctional Healthcare  Advanced Correctional Healthcare  \n",
       "..                                     ...                               ...  \n",
       "518                               Wellpath                          Wellpath  \n",
       "519                                 public                               NaN  \n",
       "520                                 public                            public  \n",
       "521                               Wellpath                          Wellpath  \n",
       "522                                 public                            public  \n",
       "\n",
       "[523 rows x 116 columns]"
      ]
     },
     "execution_count": 2,
     "metadata": {},
     "output_type": "execute_result"
    }
   ],
   "source": [
    "death_df = pd.read_csv(\"all_jails.csv\")\n",
    "death_df"
   ]
  },
  {
   "cell_type": "markdown",
   "id": "1de835f6",
   "metadata": {},
   "source": [
    "As this study concerns itself with the overall number of deaths in each prison over the years of the study, begin by removing the rows that have a null value in either the medical proivders columns or the deaths columns."
   ]
  },
  {
   "cell_type": "code",
   "execution_count": 3,
   "id": "9aa0d88b",
   "metadata": {},
   "outputs": [
    {
     "name": "stdout",
     "output_type": "stream",
     "text": [
      "The number of removed rows with null values is 204.\n"
     ]
    }
   ],
   "source": [
    "# years that the data set concerns\n",
    "years = ['2008','2009','2010','2011','2012','2013','2014','2015','2016','2017','2018','2019']\n",
    "\n",
    "# counter for number of rows with a null value\n",
    "num_na = 0\n",
    "\n",
    "public_deaths = pd.DataFrame()\n",
    "private_deaths = pd.DataFrame()\n",
    "\n",
    "for year in years:\n",
    "    \n",
    "    temp_df = pd.DataFrame()\n",
    "    \n",
    "    death_string = 'd' + year\n",
    "    provider_string = 'med' + year\n",
    "    \n",
    "    temp_df = death_df[[death_string, provider_string]].dropna()\n",
    "    num_na += (523 - temp_df.shape[0])\n",
    "    temp_df = temp_df.rename(columns = {death_string : 'deaths', provider_string : 'providers'})\n",
    "    \n",
    "    public_deaths = pd.concat([public_deaths, temp_df[temp_df['providers'] == 'public']['deaths']], ignore_index=True)\n",
    "    private_deaths = pd.concat([private_deaths, temp_df[temp_df['providers'] != 'public']['deaths']], ignore_index=True)\n",
    "    \n",
    "print('The number of removed rows with null values is {}.'.format(num_na))"
   ]
  },
  {
   "cell_type": "code",
   "execution_count": 4,
   "id": "0cf34731",
   "metadata": {},
   "outputs": [
    {
     "data": {
      "text/html": [
       "<div>\n",
       "<style scoped>\n",
       "    .dataframe tbody tr th:only-of-type {\n",
       "        vertical-align: middle;\n",
       "    }\n",
       "\n",
       "    .dataframe tbody tr th {\n",
       "        vertical-align: top;\n",
       "    }\n",
       "\n",
       "    .dataframe thead th {\n",
       "        text-align: right;\n",
       "    }\n",
       "</style>\n",
       "<table border=\"1\" class=\"dataframe\">\n",
       "  <thead>\n",
       "    <tr style=\"text-align: right;\">\n",
       "      <th></th>\n",
       "      <th>0</th>\n",
       "    </tr>\n",
       "  </thead>\n",
       "  <tbody>\n",
       "    <tr>\n",
       "      <th>0</th>\n",
       "      <td>0.0</td>\n",
       "    </tr>\n",
       "    <tr>\n",
       "      <th>1</th>\n",
       "      <td>0.0</td>\n",
       "    </tr>\n",
       "    <tr>\n",
       "      <th>2</th>\n",
       "      <td>1.0</td>\n",
       "    </tr>\n",
       "    <tr>\n",
       "      <th>3</th>\n",
       "      <td>0.0</td>\n",
       "    </tr>\n",
       "    <tr>\n",
       "      <th>4</th>\n",
       "      <td>0.0</td>\n",
       "    </tr>\n",
       "    <tr>\n",
       "      <th>...</th>\n",
       "      <td>...</td>\n",
       "    </tr>\n",
       "    <tr>\n",
       "      <th>2618</th>\n",
       "      <td>0.0</td>\n",
       "    </tr>\n",
       "    <tr>\n",
       "      <th>2619</th>\n",
       "      <td>0.0</td>\n",
       "    </tr>\n",
       "    <tr>\n",
       "      <th>2620</th>\n",
       "      <td>1.0</td>\n",
       "    </tr>\n",
       "    <tr>\n",
       "      <th>2621</th>\n",
       "      <td>0.0</td>\n",
       "    </tr>\n",
       "    <tr>\n",
       "      <th>2622</th>\n",
       "      <td>1.0</td>\n",
       "    </tr>\n",
       "  </tbody>\n",
       "</table>\n",
       "<p>2623 rows × 1 columns</p>\n",
       "</div>"
      ],
      "text/plain": [
       "        0\n",
       "0     0.0\n",
       "1     0.0\n",
       "2     1.0\n",
       "3     0.0\n",
       "4     0.0\n",
       "...   ...\n",
       "2618  0.0\n",
       "2619  0.0\n",
       "2620  1.0\n",
       "2621  0.0\n",
       "2622  1.0\n",
       "\n",
       "[2623 rows x 1 columns]"
      ]
     },
     "execution_count": 4,
     "metadata": {},
     "output_type": "execute_result"
    }
   ],
   "source": [
    "public_deaths"
   ]
  },
  {
   "cell_type": "code",
   "execution_count": 5,
   "id": "4edf5399",
   "metadata": {},
   "outputs": [
    {
     "data": {
      "text/html": [
       "<div>\n",
       "<style scoped>\n",
       "    .dataframe tbody tr th:only-of-type {\n",
       "        vertical-align: middle;\n",
       "    }\n",
       "\n",
       "    .dataframe tbody tr th {\n",
       "        vertical-align: top;\n",
       "    }\n",
       "\n",
       "    .dataframe thead th {\n",
       "        text-align: right;\n",
       "    }\n",
       "</style>\n",
       "<table border=\"1\" class=\"dataframe\">\n",
       "  <thead>\n",
       "    <tr style=\"text-align: right;\">\n",
       "      <th></th>\n",
       "      <th>0</th>\n",
       "    </tr>\n",
       "  </thead>\n",
       "  <tbody>\n",
       "    <tr>\n",
       "      <th>0</th>\n",
       "      <td>0.0</td>\n",
       "    </tr>\n",
       "    <tr>\n",
       "      <th>1</th>\n",
       "      <td>0.0</td>\n",
       "    </tr>\n",
       "    <tr>\n",
       "      <th>2</th>\n",
       "      <td>0.0</td>\n",
       "    </tr>\n",
       "    <tr>\n",
       "      <th>3</th>\n",
       "      <td>0.0</td>\n",
       "    </tr>\n",
       "    <tr>\n",
       "      <th>4</th>\n",
       "      <td>0.0</td>\n",
       "    </tr>\n",
       "    <tr>\n",
       "      <th>...</th>\n",
       "      <td>...</td>\n",
       "    </tr>\n",
       "    <tr>\n",
       "      <th>3444</th>\n",
       "      <td>0.0</td>\n",
       "    </tr>\n",
       "    <tr>\n",
       "      <th>3445</th>\n",
       "      <td>1.0</td>\n",
       "    </tr>\n",
       "    <tr>\n",
       "      <th>3446</th>\n",
       "      <td>0.0</td>\n",
       "    </tr>\n",
       "    <tr>\n",
       "      <th>3447</th>\n",
       "      <td>0.0</td>\n",
       "    </tr>\n",
       "    <tr>\n",
       "      <th>3448</th>\n",
       "      <td>0.0</td>\n",
       "    </tr>\n",
       "  </tbody>\n",
       "</table>\n",
       "<p>3449 rows × 1 columns</p>\n",
       "</div>"
      ],
      "text/plain": [
       "        0\n",
       "0     0.0\n",
       "1     0.0\n",
       "2     0.0\n",
       "3     0.0\n",
       "4     0.0\n",
       "...   ...\n",
       "3444  0.0\n",
       "3445  1.0\n",
       "3446  0.0\n",
       "3447  0.0\n",
       "3448  0.0\n",
       "\n",
       "[3449 rows x 1 columns]"
      ]
     },
     "execution_count": 5,
     "metadata": {},
     "output_type": "execute_result"
    }
   ],
   "source": [
    "private_deaths"
   ]
  },
  {
   "cell_type": "markdown",
   "id": "bcfa853d",
   "metadata": {},
   "source": [
    "Now that the data is seperated into the two groups, an examination of the data is in order."
   ]
  },
  {
   "cell_type": "code",
   "execution_count": 6,
   "id": "0cc69bad",
   "metadata": {},
   "outputs": [
    {
     "data": {
      "text/html": [
       "<div>\n",
       "<style scoped>\n",
       "    .dataframe tbody tr th:only-of-type {\n",
       "        vertical-align: middle;\n",
       "    }\n",
       "\n",
       "    .dataframe tbody tr th {\n",
       "        vertical-align: top;\n",
       "    }\n",
       "\n",
       "    .dataframe thead th {\n",
       "        text-align: right;\n",
       "    }\n",
       "</style>\n",
       "<table border=\"1\" class=\"dataframe\">\n",
       "  <thead>\n",
       "    <tr style=\"text-align: right;\">\n",
       "      <th></th>\n",
       "      <th>0</th>\n",
       "    </tr>\n",
       "  </thead>\n",
       "  <tbody>\n",
       "    <tr>\n",
       "      <th>count</th>\n",
       "      <td>2623.000000</td>\n",
       "    </tr>\n",
       "    <tr>\n",
       "      <th>mean</th>\n",
       "      <td>1.206634</td>\n",
       "    </tr>\n",
       "    <tr>\n",
       "      <th>std</th>\n",
       "      <td>2.568364</td>\n",
       "    </tr>\n",
       "    <tr>\n",
       "      <th>min</th>\n",
       "      <td>0.000000</td>\n",
       "    </tr>\n",
       "    <tr>\n",
       "      <th>25%</th>\n",
       "      <td>0.000000</td>\n",
       "    </tr>\n",
       "    <tr>\n",
       "      <th>50%</th>\n",
       "      <td>0.000000</td>\n",
       "    </tr>\n",
       "    <tr>\n",
       "      <th>75%</th>\n",
       "      <td>1.000000</td>\n",
       "    </tr>\n",
       "    <tr>\n",
       "      <th>max</th>\n",
       "      <td>38.000000</td>\n",
       "    </tr>\n",
       "  </tbody>\n",
       "</table>\n",
       "</div>"
      ],
      "text/plain": [
       "                 0\n",
       "count  2623.000000\n",
       "mean      1.206634\n",
       "std       2.568364\n",
       "min       0.000000\n",
       "25%       0.000000\n",
       "50%       0.000000\n",
       "75%       1.000000\n",
       "max      38.000000"
      ]
     },
     "execution_count": 6,
     "metadata": {},
     "output_type": "execute_result"
    }
   ],
   "source": [
    "public_deaths.describe()"
   ]
  },
  {
   "cell_type": "code",
   "execution_count": 7,
   "id": "7d200904",
   "metadata": {},
   "outputs": [
    {
     "data": {
      "text/html": [
       "<div>\n",
       "<style scoped>\n",
       "    .dataframe tbody tr th:only-of-type {\n",
       "        vertical-align: middle;\n",
       "    }\n",
       "\n",
       "    .dataframe tbody tr th {\n",
       "        vertical-align: top;\n",
       "    }\n",
       "\n",
       "    .dataframe thead th {\n",
       "        text-align: right;\n",
       "    }\n",
       "</style>\n",
       "<table border=\"1\" class=\"dataframe\">\n",
       "  <thead>\n",
       "    <tr style=\"text-align: right;\">\n",
       "      <th></th>\n",
       "      <th>0</th>\n",
       "    </tr>\n",
       "  </thead>\n",
       "  <tbody>\n",
       "    <tr>\n",
       "      <th>count</th>\n",
       "      <td>3449.000000</td>\n",
       "    </tr>\n",
       "    <tr>\n",
       "      <th>mean</th>\n",
       "      <td>1.249058</td>\n",
       "    </tr>\n",
       "    <tr>\n",
       "      <th>std</th>\n",
       "      <td>1.775956</td>\n",
       "    </tr>\n",
       "    <tr>\n",
       "      <th>min</th>\n",
       "      <td>0.000000</td>\n",
       "    </tr>\n",
       "    <tr>\n",
       "      <th>25%</th>\n",
       "      <td>0.000000</td>\n",
       "    </tr>\n",
       "    <tr>\n",
       "      <th>50%</th>\n",
       "      <td>1.000000</td>\n",
       "    </tr>\n",
       "    <tr>\n",
       "      <th>75%</th>\n",
       "      <td>2.000000</td>\n",
       "    </tr>\n",
       "    <tr>\n",
       "      <th>max</th>\n",
       "      <td>19.000000</td>\n",
       "    </tr>\n",
       "  </tbody>\n",
       "</table>\n",
       "</div>"
      ],
      "text/plain": [
       "                 0\n",
       "count  3449.000000\n",
       "mean      1.249058\n",
       "std       1.775956\n",
       "min       0.000000\n",
       "25%       0.000000\n",
       "50%       1.000000\n",
       "75%       2.000000\n",
       "max      19.000000"
      ]
     },
     "execution_count": 7,
     "metadata": {},
     "output_type": "execute_result"
    }
   ],
   "source": [
    "private_deaths.describe()"
   ]
  },
  {
   "cell_type": "code",
   "execution_count": 8,
   "id": "5e6754ef",
   "metadata": {
    "scrolled": true
   },
   "outputs": [
    {
     "data": {
      "image/png": "[encoded data removed]",
      "text/plain": [
       "<Figure size 432x288 with 1 Axes>"
      ]
     },
     "metadata": {
      "needs_background": "light"
     },
     "output_type": "display_data"
    }
   ],
   "source": [
    "plt.hist(public_deaths)\n",
    "plt.xlabel(\"Number of Deaths\")\n",
    "plt.ylabel(\"Frequency\")\n",
    "plt.title(\"Distribution of Deaths in Jails with Public Health Care\")\n",
    "plt.show()"
   ]
  },
  {
   "cell_type": "code",
   "execution_count": 9,
   "id": "26a90596",
   "metadata": {},
   "outputs": [
    {
     "data": {
      "image/png": "[encoded data removed]",
      "text/plain": [
       "<Figure size 432x288 with 1 Axes>"
      ]
     },
     "metadata": {
      "needs_background": "light"
     },
     "output_type": "display_data"
    }
   ],
   "source": [
    "plt.hist(private_deaths)\n",
    "plt.xlabel(\"Number of Deaths\")\n",
    "plt.ylabel(\"Frequency\")\n",
    "plt.title(\"Distribution of Deaths in Jails with Privatised Health Care\")\n",
    "plt.show()"
   ]
  },
  {
   "cell_type": "markdown",
   "id": "362e5f03",
   "metadata": {},
   "source": [
    "The number of deaths in prisons with public health providers has a greater standard deviation (2.57 compared to 1.78). From the histograms, the highly-skewed nature of the data is apparent. Perhaps a log-transformation or a square root transformation will make the distribution a little more normal?"
   ]
  },
  {
   "cell_type": "code",
   "execution_count": 24,
   "id": "e365b11a",
   "metadata": {},
   "outputs": [
    {
     "data": {
      "image/png": "[encoded data removed]",
      "text/plain": [
       "<Figure size 432x288 with 1 Axes>"
      ]
     },
     "metadata": {
      "needs_background": "light"
     },
     "output_type": "display_data"
    }
   ],
   "source": [
    "# addition of 1 to account for 0 values\n",
    "plt.hist(np.log(public_deaths + 1))\n",
    "plt.ylabel(\"Frequency\")\n",
    "plt.xlabel('ln(Deaths + 1)')\n",
    "plt.title(\"Log Transformed Distribution of Deaths in Jails with Private Medical Care\")\n",
    "plt.show()"
   ]
  },
  {
   "cell_type": "code",
   "execution_count": 11,
   "id": "b09e275f",
   "metadata": {
    "scrolled": false
   },
   "outputs": [
    {
     "data": {
      "image/png": "[encoded data removed]",
      "text/plain": [
       "<Figure size 432x288 with 1 Axes>"
      ]
     },
     "metadata": {
      "needs_background": "light"
     },
     "output_type": "display_data"
    }
   ],
   "source": [
    "# addition of 1/2 to account for 0 values\n",
    "plt.hist(np.sqrt((public_deaths + 1/2)))\n",
    "plt.xlabel(\"Square Root(Number of Deaths + 1/2)\")\n",
    "plt.ylabel(\"Frequency\")\n",
    "plt.title(\"Square Root Transformed Distribution of Deaths in Jails with Public Health Care\")\n",
    "plt.show()"
   ]
  },
  {
   "cell_type": "markdown",
   "id": "ca874ce4",
   "metadata": {},
   "source": [
    "Unfortunately, it does not appear that these transformations will have a signifcant enough impact to allow for the application of the Student's t-test."
   ]
  },
  {
   "cell_type": "markdown",
   "id": "b0915c0e",
   "metadata": {},
   "source": [
    "Due to the highly-skewed, non-normal shape of the discrete, quantitave data, this project will employ the Mann-Whitney U-test to determine if there is a signifanct difference in the distribution between the two independent groups."
   ]
  },
  {
   "cell_type": "markdown",
   "id": "bb14c60a",
   "metadata": {},
   "source": [
    "## Does the distribution of the overall number of deaths in jails with public health care differ from the distribution of the overall deaths in jails with a private health care provider?"
   ]
  },
  {
   "cell_type": "markdown",
   "id": "fd1eaa86",
   "metadata": {},
   "source": [
    "### 1. set up hypotheses\n",
    "*H*<sub>0</sub> : The distribution of deaths is the same for private and public health care.\n",
    "\n",
    "*H*<sub>1</sub> : The distribution of deaths differs between private and public health care.\n",
    "\n",
    "$\\alpha = 0.05$"
   ]
  },
  {
   "cell_type": "markdown",
   "id": "a792d115",
   "metadata": {},
   "source": [
    "### 2. select the appropriate test statistic\n",
    "As the data is skewed, quantitave and discrete and the explanatory variable is nominal and categorical, the Mann-Whitney U-test, and corresponding U-statistic, will be employed:\n",
    "\n",
    "$$ U_1 = n_1n_2 + \\frac{n_1(n_1 + 1)}{2} - R_1 $$ and $$U_2 = n_1n_2 - U_1$$\n",
    "\n",
    "where$\\ R_1$ is the rank sum."
   ]
  },
  {
   "cell_type": "markdown",
   "id": "d3b34c58",
   "metadata": {},
   "source": [
    "### 3. state the decision rule\n",
    "\n",
    "As $\\ n_1 $ and $\\ n_2 > 10$ , the U-statisic can be transformed for comparison against the standard normal distribution as follows: \n",
    "\n",
    "$$ Z = \\frac{2U-n_1n_2}{\\sqrt{n_1n_2(n_1 +n_2+ 1)/3}} $$\n",
    "\n",
    "Subsequently, the critical value from the standard normal distribution associated with a right-hand tail probability of \n",
    "$\\ \\frac{\\alpha}{2} = \\frac{0.05}{2} = 0.025 $ is$\\ 1.96$.\n",
    "\n",
    "decision rule: reject$\\ H_o$ if $\\ Z \\ge 1.96 $, otherwise, do not reject $\\ H_o $."
   ]
  },
  {
   "cell_type": "markdown",
   "id": "dda623a9",
   "metadata": {},
   "source": [
    "### 4. compute the test statistic and correpsonding p-value"
   ]
  },
  {
   "cell_type": "code",
   "execution_count": 12,
   "id": "36328c0e",
   "metadata": {
    "scrolled": true
   },
   "outputs": [],
   "source": [
    "all_deaths = pd.concat([private_deaths,public_deaths], keys = ['private', 'public'])"
   ]
  },
  {
   "cell_type": "code",
   "execution_count": 13,
   "id": "406caae9",
   "metadata": {},
   "outputs": [
    {
     "data": {
      "text/html": [
       "<div>\n",
       "<style scoped>\n",
       "    .dataframe tbody tr th:only-of-type {\n",
       "        vertical-align: middle;\n",
       "    }\n",
       "\n",
       "    .dataframe tbody tr th {\n",
       "        vertical-align: top;\n",
       "    }\n",
       "\n",
       "    .dataframe thead th {\n",
       "        text-align: right;\n",
       "    }\n",
       "</style>\n",
       "<table border=\"1\" class=\"dataframe\">\n",
       "  <thead>\n",
       "    <tr style=\"text-align: right;\">\n",
       "      <th></th>\n",
       "      <th></th>\n",
       "      <th>0</th>\n",
       "    </tr>\n",
       "  </thead>\n",
       "  <tbody>\n",
       "    <tr>\n",
       "      <th rowspan=\"5\" valign=\"top\">private</th>\n",
       "      <th>0</th>\n",
       "      <td>0.0</td>\n",
       "    </tr>\n",
       "    <tr>\n",
       "      <th>2242</th>\n",
       "      <td>0.0</td>\n",
       "    </tr>\n",
       "    <tr>\n",
       "      <th>2244</th>\n",
       "      <td>0.0</td>\n",
       "    </tr>\n",
       "    <tr>\n",
       "      <th>2245</th>\n",
       "      <td>0.0</td>\n",
       "    </tr>\n",
       "    <tr>\n",
       "      <th>2246</th>\n",
       "      <td>0.0</td>\n",
       "    </tr>\n",
       "    <tr>\n",
       "      <th>...</th>\n",
       "      <th>...</th>\n",
       "      <td>...</td>\n",
       "    </tr>\n",
       "    <tr>\n",
       "      <th rowspan=\"5\" valign=\"top\">public</th>\n",
       "      <th>2287</th>\n",
       "      <td>26.0</td>\n",
       "    </tr>\n",
       "    <tr>\n",
       "      <th>537</th>\n",
       "      <td>27.0</td>\n",
       "    </tr>\n",
       "    <tr>\n",
       "      <th>1483</th>\n",
       "      <td>28.0</td>\n",
       "    </tr>\n",
       "    <tr>\n",
       "      <th>1263</th>\n",
       "      <td>34.0</td>\n",
       "    </tr>\n",
       "    <tr>\n",
       "      <th>280</th>\n",
       "      <td>38.0</td>\n",
       "    </tr>\n",
       "  </tbody>\n",
       "</table>\n",
       "<p>6072 rows × 1 columns</p>\n",
       "</div>"
      ],
      "text/plain": [
       "                 0\n",
       "private 0      0.0\n",
       "        2242   0.0\n",
       "        2244   0.0\n",
       "        2245   0.0\n",
       "        2246   0.0\n",
       "...            ...\n",
       "public  2287  26.0\n",
       "        537   27.0\n",
       "        1483  28.0\n",
       "        1263  34.0\n",
       "        280   38.0\n",
       "\n",
       "[6072 rows x 1 columns]"
      ]
     },
     "execution_count": 13,
     "metadata": {},
     "output_type": "execute_result"
    }
   ],
   "source": [
    "sorted_all_deaths = all_deaths.sort_values(by= 0)\n",
    "sorted_all_deaths"
   ]
  },
  {
   "cell_type": "code",
   "execution_count": 14,
   "id": "7002f03f",
   "metadata": {},
   "outputs": [],
   "source": [
    "ranks = np.array([])\n",
    "\n",
    "current_rank = 1\n",
    "\n",
    "for x in sorted_all_deaths[0].unique():\n",
    "    num_data = sorted_all_deaths.value_counts()[x]\n",
    "    \n",
    "    if num_data > 1:\n",
    "        \n",
    "        # the mid rank: is assigned to all data that share the same value.\n",
    "        mid_rank = np.arange(current_rank, current_rank + num_data ).sum() / num_data\n",
    "        ranks = np.append(ranks, np.ones(num_data) * mid_rank)\n",
    "        current_rank += num_data\n",
    "\n",
    "    \n",
    "    else:\n",
    "        ranks = np.append(ranks, current_rank)\n",
    "        current_rank += num_data"
   ]
  },
  {
   "cell_type": "code",
   "execution_count": 15,
   "id": "d54af583",
   "metadata": {},
   "outputs": [
    {
     "data": {
      "text/html": [
       "<div>\n",
       "<style scoped>\n",
       "    .dataframe tbody tr th:only-of-type {\n",
       "        vertical-align: middle;\n",
       "    }\n",
       "\n",
       "    .dataframe tbody tr th {\n",
       "        vertical-align: top;\n",
       "    }\n",
       "\n",
       "    .dataframe thead th {\n",
       "        text-align: right;\n",
       "    }\n",
       "</style>\n",
       "<table border=\"1\" class=\"dataframe\">\n",
       "  <thead>\n",
       "    <tr style=\"text-align: right;\">\n",
       "      <th></th>\n",
       "      <th></th>\n",
       "      <th>0</th>\n",
       "      <th>rank</th>\n",
       "    </tr>\n",
       "  </thead>\n",
       "  <tbody>\n",
       "    <tr>\n",
       "      <th rowspan=\"5\" valign=\"top\">private</th>\n",
       "      <th>0</th>\n",
       "      <td>0.0</td>\n",
       "      <td>1492.0</td>\n",
       "    </tr>\n",
       "    <tr>\n",
       "      <th>2242</th>\n",
       "      <td>0.0</td>\n",
       "      <td>1492.0</td>\n",
       "    </tr>\n",
       "    <tr>\n",
       "      <th>2244</th>\n",
       "      <td>0.0</td>\n",
       "      <td>1492.0</td>\n",
       "    </tr>\n",
       "    <tr>\n",
       "      <th>2245</th>\n",
       "      <td>0.0</td>\n",
       "      <td>1492.0</td>\n",
       "    </tr>\n",
       "    <tr>\n",
       "      <th>2246</th>\n",
       "      <td>0.0</td>\n",
       "      <td>1492.0</td>\n",
       "    </tr>\n",
       "    <tr>\n",
       "      <th>...</th>\n",
       "      <th>...</th>\n",
       "      <td>...</td>\n",
       "      <td>...</td>\n",
       "    </tr>\n",
       "    <tr>\n",
       "      <th rowspan=\"5\" valign=\"top\">public</th>\n",
       "      <th>2287</th>\n",
       "      <td>26.0</td>\n",
       "      <td>6068.0</td>\n",
       "    </tr>\n",
       "    <tr>\n",
       "      <th>537</th>\n",
       "      <td>27.0</td>\n",
       "      <td>6069.0</td>\n",
       "    </tr>\n",
       "    <tr>\n",
       "      <th>1483</th>\n",
       "      <td>28.0</td>\n",
       "      <td>6070.0</td>\n",
       "    </tr>\n",
       "    <tr>\n",
       "      <th>1263</th>\n",
       "      <td>34.0</td>\n",
       "      <td>6071.0</td>\n",
       "    </tr>\n",
       "    <tr>\n",
       "      <th>280</th>\n",
       "      <td>38.0</td>\n",
       "      <td>6072.0</td>\n",
       "    </tr>\n",
       "  </tbody>\n",
       "</table>\n",
       "<p>6072 rows × 2 columns</p>\n",
       "</div>"
      ],
      "text/plain": [
       "                 0    rank\n",
       "private 0      0.0  1492.0\n",
       "        2242   0.0  1492.0\n",
       "        2244   0.0  1492.0\n",
       "        2245   0.0  1492.0\n",
       "        2246   0.0  1492.0\n",
       "...            ...     ...\n",
       "public  2287  26.0  6068.0\n",
       "        537   27.0  6069.0\n",
       "        1483  28.0  6070.0\n",
       "        1263  34.0  6071.0\n",
       "        280   38.0  6072.0\n",
       "\n",
       "[6072 rows x 2 columns]"
      ]
     },
     "execution_count": 15,
     "metadata": {},
     "output_type": "execute_result"
    }
   ],
   "source": [
    "sorted_all_deaths['rank'] = ranks\n",
    "sorted_all_deaths"
   ]
  },
  {
   "cell_type": "code",
   "execution_count": 16,
   "id": "52b2d8ce",
   "metadata": {},
   "outputs": [
    {
     "data": {
      "text/plain": [
       "0       3449\n",
       "rank    3449\n",
       "dtype: int64"
      ]
     },
     "execution_count": 16,
     "metadata": {},
     "output_type": "execute_result"
    }
   ],
   "source": [
    "group_2 = sorted_all_deaths.loc['private']\n",
    "group_2.count()"
   ]
  },
  {
   "cell_type": "code",
   "execution_count": 17,
   "id": "cf95aca3",
   "metadata": {
    "scrolled": true
   },
   "outputs": [
    {
     "data": {
      "text/plain": [
       "0       2623\n",
       "rank    2623\n",
       "dtype: int64"
      ]
     },
     "execution_count": 17,
     "metadata": {},
     "output_type": "execute_result"
    }
   ],
   "source": [
    "group_1 = sorted_all_deaths.loc['public']\n",
    "group_1.count()"
   ]
  },
  {
   "cell_type": "markdown",
   "id": "ca2b1c9b",
   "metadata": {},
   "source": [
    "Use the group with the least number of values and compute its rank sum."
   ]
  },
  {
   "cell_type": "code",
   "execution_count": 18,
   "id": "a9805103",
   "metadata": {},
   "outputs": [],
   "source": [
    "rank_sum_1 = np.sum(group_1['rank'])"
   ]
  },
  {
   "cell_type": "markdown",
   "id": "f14074c2",
   "metadata": {},
   "source": [
    "Calculate $U_1$: $$ U_1 = n_1n_2 + \\frac{n_1(n_1 + 1)}{2} - R_1 $$"
   ]
  },
  {
   "cell_type": "code",
   "execution_count": 19,
   "id": "a2b3298e",
   "metadata": {},
   "outputs": [
    {
     "data": {
      "text/plain": [
       "4948559.5"
      ]
     },
     "execution_count": 19,
     "metadata": {},
     "output_type": "execute_result"
    }
   ],
   "source": [
    "n1 = group_1.count()[0]\n",
    "n2 = group_2.count()[0]\n",
    "\n",
    "u_1 = n1 * n2 + ((n1 * (n1 + 1)) / 2) - rank_sum_1\n",
    "\n",
    "u_1"
   ]
  },
  {
   "cell_type": "markdown",
   "id": "6f7181e6",
   "metadata": {},
   "source": [
    "Calculate $U_2$: $$U_2 = n_1n_2 - U_1$$"
   ]
  },
  {
   "cell_type": "code",
   "execution_count": 20,
   "id": "84d17129",
   "metadata": {},
   "outputs": [
    {
     "data": {
      "text/plain": [
       "4098167.5"
      ]
     },
     "execution_count": 20,
     "metadata": {},
     "output_type": "execute_result"
    }
   ],
   "source": [
    "u_2 = n1 * n2 - u_1\n",
    "u_2"
   ]
  },
  {
   "cell_type": "markdown",
   "id": "f5d452c6",
   "metadata": {},
   "source": [
    "Select the larger of the two to be the $U$ statistic:"
   ]
  },
  {
   "cell_type": "code",
   "execution_count": 21,
   "id": "0ab72566",
   "metadata": {},
   "outputs": [],
   "source": [
    "if u_1 > u_2:  \n",
    "    u = u_1\n",
    "else:\n",
    "    u = u_2"
   ]
  },
  {
   "cell_type": "markdown",
   "id": "4116c677",
   "metadata": {},
   "source": [
    "Compute the transformation that approximates the standard normal distribution: \n",
    "\n",
    "$$ Z = \\frac{2U-n_1n_2}{\\sqrt{n_1n_2(n_1 +n_2+ 1)/3}} $$"
   ]
  },
  {
   "cell_type": "code",
   "execution_count": 22,
   "id": "ae7bcaff",
   "metadata": {},
   "outputs": [
    {
     "data": {
      "text/plain": [
       "6.283945506757797"
      ]
     },
     "execution_count": 22,
     "metadata": {},
     "output_type": "execute_result"
    }
   ],
   "source": [
    "z = ( (2 * u) - (n1 * n2) ) / np.sqrt( (n1 * n2) * (n1 + n2 + 1) / 3)\n",
    "z"
   ]
  },
  {
   "cell_type": "code",
   "execution_count": 23,
   "id": "d059452e",
   "metadata": {},
   "outputs": [
    {
     "data": {
      "text/plain": [
       "1.6504320132781913e-10"
      ]
     },
     "execution_count": 23,
     "metadata": {},
     "output_type": "execute_result"
    }
   ],
   "source": [
    "# calculating the p-value\n",
    "from scipy import stats\n",
    "1 - stats.norm.cdf(z)"
   ]
  },
  {
   "cell_type": "markdown",
   "id": "40521e6d",
   "metadata": {},
   "source": [
    "### 5. conclusion"
   ]
  },
  {
   "cell_type": "markdown",
   "id": "f8ec6b86",
   "metadata": {},
   "source": [
    "There is sufficient evidence to reject the null hypothesis. The median number of deaths in jails with public health care is 0 while it is 1 for the jails with private health care providers; **the distribution between the two groups can be said to differ significantly** ($U = 4948559.5$, $n_1 = 2623 , n_2 = 3449$, $P = 1.650 * 10^{-10} < 0.05$)."
   ]
  },
  {
   "cell_type": "markdown",
   "id": "9eef5e90",
   "metadata": {},
   "source": [
    "### 6. interpretation\n",
    "\n",
    "Indeed, the type of medical provider does have an affect on the distribution of deaths. To determine if the location of the data, i.e. the median, differs between the groups, a permutation test could be implemented. "
   ]
  },
  {
   "cell_type": "markdown",
   "id": "3052f339",
   "metadata": {},
   "source": [
    "#### References"
   ]
  },
  {
   "cell_type": "markdown",
   "id": "e89a52f5",
   "metadata": {},
   "source": [
    "http://socr.ucla.edu/Applets.dir/ChoiceOfTest.html\n",
    "\n",
    "Smith, G. (2020, October 16). Dying inside: The data behind @reuters investigation of US jail deaths. Reuters. Retrieved May 9, 2022, from https://www.reuters.com/investigates/special-report/usa-jails-graphic/ \n",
    "\n",
    "Whitlock, M. C., &amp; Schluter, D. (2015). Comparing two groups: the Mann-Whitney U-test. In The Analysis of Biological Data (2nd ed., pp. 387–392). section, Roberts. "
   ]
  }
 ],
 "metadata": {
  "kernelspec": {
   "display_name": "Python 3 (ipykernel)",
   "language": "python",
   "name": "python3"
  },
  "language_info": {
   "codemirror_mode": {
    "name": "ipython",
    "version": 3
   },
   "file_extension": ".py",
   "mimetype": "text/x-python",
   "name": "python",
   "nbconvert_exporter": "python",
   "pygments_lexer": "ipython3",
   "version": "3.8.8"
  }
 },
 "nbformat": 4,
 "nbformat_minor": 5
}
