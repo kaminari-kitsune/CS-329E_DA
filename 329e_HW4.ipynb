{
 "cells": [
  {
   "cell_type": "markdown",
   "metadata": {},
   "source": [
    "# Homework 4\n",
    "\n",
    "## Akshay Prakash\n",
    "\n",
    "## Linear Regression with Gradient Descent"
   ]
  },
  {
   "cell_type": "markdown",
   "metadata": {},
   "source": [
    "Your task in this assignment is to implement Multiple Linear Regression. \n",
    "\n",
    "We will use the New York City Taxi trip reports in the Year 2013. \n",
    "The dataset was released under the FOIL (The Freedom of Information Law) and made public by Chris Whong (\\url{https://chriswhong.com/open-data/foil_nyc_taxi/}).\n",
    "\n",
    "\n",
    "\n",
    "# Taxi Data Set\n",
    "The data set itself is a simple text file. Each taxi trip report is a different line in the file. Among other things, each trip report \n",
    "includes the starting point, the drop-off point, corresponding timestamps, and information related to the payment. The data are reported \n",
    "by the time that the trip ended, i.e., upon arriving in the order of the drop-off timestamps. \n",
    "The attributes present on each line of the file are, in order:\n",
    "\n",
    "\n",
    "\n",
    "| index | **Attribute** | **Description** |\n",
    "| --- | --- | --- |\n",
    "| 0 | medallion           |  an md5sum of the identifier of the taxi - vehicle bound (Taxi ID)  | \n",
    "| 1 | hack license       |  an md5sum of the identifier for the taxi license (Driver ID)  |  \n",
    "| 2 | pickup datetime    | time when the passenger(s) were picked up  |  \n",
    "| 3 | dropoff datetime   | time when the passenger(s) were dropped off  | \n",
    "| 4 | trip time in secs | duration of the trip  |  \n",
    "| 5 | trip distance | trip distance in miles  |  \n",
    "| 6 | pickup longitude | longitude coordinate of the pickup location  |  \n",
    "| 7 | pickup latitude | latitude coordinate of the pickup location  |  \n",
    "| 8 | dropoff longitude | longitude coordinate of the drop-off location   |  \n",
    "| 9 | dropoff latitude | latitude coordinate of the drop-off location  | \n",
    "| 10 | payment type | the payment method -credit card or cash  |  \n",
    "| 11 | fare amount | fare amount in dollars  |  \n",
    "| 12 | surcharge | surcharge in dollars  |  \n",
    "| 13 | mta tax | tax in dollars  |  \n",
    "| 14 | tip amount | tip in dollars  |  \n",
    "| 15 | tolls amount | bridge and tunnel tolls in dollars  |  \n",
    "| 16 | total amount | total paid amount in dollars  |  \n",
    "\n",
    "\n",
    "\n",
    "\n",
    "The data files are in comma separated values (CSV) format. Example lines from the file are:\n",
    "\n",
    "07290D3599E7A0D62097A346EFCC1FB5,E7750A37CAB07D0DFF0AF7E3573AC141,\\\\\n",
    "2013-01-01,00:00:00,2013-01-01 00:02:00,120,0.44,-73.956528,40.716976,-73.962440,\\\\\n",
    "40.715008,CSH,3.50,0.50,0.50,0.00,0.00,4.50\n",
    "\n",
    "22D70BF00EEB0ADC83BA8177BB861991,3FF2709163DE7036FCAA4E5A3324E4BF,\\\\\n",
    "2013-01-01,00:02:00,2013-01-01 00:02:00,0,0.00,0.000000,0.000000,0.000000,0.000000,\\\\\n",
    "CSH,27.00,0.00,0.50,0.00,0.00,27.50\n",
    "\n",
    "0EC22AAF491A8BD91F279350C2B010FD,778C92B26AE78A9EBDF96B49C67E4007,\\\\\n",
    "2013-01-01,00:01:00,2013-01-01 00:03:00,120,0.71,-73.973145,40.752827,-73.965897\\\\\n",
    "73.965897,40.760445,CSH,4.00,0.50,0.50,0.00,0.00,5.00\n",
    "\n"
   ]
  },
  {
   "cell_type": "code",
   "execution_count": 4,
   "metadata": {},
   "outputs": [],
   "source": [
    "# Standard Headers\n",
    "# You are welcome to add additional headers here if you wish\n",
    "import pandas as pd\n",
    "import numpy as np\n",
    "import matplotlib.pyplot as plt\n",
    "# Enable inline mode for matplotlib so that Jupyter displays graphs\n",
    "%matplotlib inline"
   ]
  },
  {
   "cell_type": "code",
   "execution_count": 5,
   "metadata": {},
   "outputs": [],
   "source": [
    "df = pd.read_csv('nyc-taxi-data.csv.bz2', header = None)"
   ]
  },
  {
   "cell_type": "markdown",
   "metadata": {},
   "source": [
    "## Task - 1\n",
    "The dataset is a real-world dataset and many records are incorrect and wrong. Your task is first to describe at least 4 data clean up tasks and implement them on this data set.\n",
    "\n",
    "For example, you can define to remove lines with the following property, if a taxi trip (one of the data rows) has a travel distance less than 1 mile and total amount of more than 20 dollar, then it is an wrong record. \n",
    "\n",
    "Another example is that you would expect to have a float number (e.g., index 12 to 16) and then you got a String in that position. You can remove such lines from your data. \n",
    "\n",
    "Perform the following cleanup tasks:\n",
    "1. Add column headers based on the description above (no need to describe).\n",
    "2. Drop rows with a travel distance < 1 mile and a total fare > $20 (no need to describe).\n",
    "3. Your own task (please describe your task in a comment/cell).\n",
    "4. Your own task (please describe your task in a comment/cell).\n",
    "\n",
    "**(4 points)**"
   ]
  },
  {
   "cell_type": "code",
   "execution_count": 6,
   "metadata": {},
   "outputs": [
    {
     "data": {
      "text/html": [
       "<div>\n",
       "<style scoped>\n",
       "    .dataframe tbody tr th:only-of-type {\n",
       "        vertical-align: middle;\n",
       "    }\n",
       "\n",
       "    .dataframe tbody tr th {\n",
       "        vertical-align: top;\n",
       "    }\n",
       "\n",
       "    .dataframe thead th {\n",
       "        text-align: right;\n",
       "    }\n",
       "</style>\n",
       "<table border=\"1\" class=\"dataframe\">\n",
       "  <thead>\n",
       "    <tr style=\"text-align: right;\">\n",
       "      <th></th>\n",
       "      <th>taxi_id</th>\n",
       "      <th>driver_id</th>\n",
       "      <th>pickup_datetime</th>\n",
       "      <th>dropoff_datetime</th>\n",
       "      <th>trip_time(seconds)</th>\n",
       "      <th>trip_distance(miles)</th>\n",
       "      <th>pickup_longitude</th>\n",
       "      <th>pickup_latitude</th>\n",
       "      <th>dropoff_longitude</th>\n",
       "      <th>dropoff_latitude</th>\n",
       "      <th>payment_type</th>\n",
       "      <th>fare_amount</th>\n",
       "      <th>surcharge</th>\n",
       "      <th>mta_tax</th>\n",
       "      <th>tip_amount</th>\n",
       "      <th>tolls_amount</th>\n",
       "      <th>total_amount</th>\n",
       "    </tr>\n",
       "  </thead>\n",
       "  <tbody>\n",
       "    <tr>\n",
       "      <th>0</th>\n",
       "      <td>07290D3599E7A0D62097A346EFCC1FB5</td>\n",
       "      <td>E7750A37CAB07D0DFF0AF7E3573AC141</td>\n",
       "      <td>2013-01-01 00:00:00</td>\n",
       "      <td>2013-01-01 00:02:00</td>\n",
       "      <td>120</td>\n",
       "      <td>0.44</td>\n",
       "      <td>-73.956528</td>\n",
       "      <td>40.716976</td>\n",
       "      <td>-73.962440</td>\n",
       "      <td>40.715008</td>\n",
       "      <td>CSH</td>\n",
       "      <td>3.5</td>\n",
       "      <td>0.5</td>\n",
       "      <td>0.5</td>\n",
       "      <td>0.0</td>\n",
       "      <td>0.0</td>\n",
       "      <td>4.5</td>\n",
       "    </tr>\n",
       "    <tr>\n",
       "      <th>1</th>\n",
       "      <td>22D70BF00EEB0ADC83BA8177BB861991</td>\n",
       "      <td>3FF2709163DE7036FCAA4E5A3324E4BF</td>\n",
       "      <td>2013-01-01 00:02:00</td>\n",
       "      <td>2013-01-01 00:02:00</td>\n",
       "      <td>0</td>\n",
       "      <td>0.00</td>\n",
       "      <td>0.000000</td>\n",
       "      <td>0.000000</td>\n",
       "      <td>0.000000</td>\n",
       "      <td>0.000000</td>\n",
       "      <td>CSH</td>\n",
       "      <td>27.0</td>\n",
       "      <td>0.0</td>\n",
       "      <td>0.5</td>\n",
       "      <td>0.0</td>\n",
       "      <td>0.0</td>\n",
       "      <td>27.5</td>\n",
       "    </tr>\n",
       "    <tr>\n",
       "      <th>2</th>\n",
       "      <td>0EC22AAF491A8BD91F279350C2B010FD</td>\n",
       "      <td>778C92B26AE78A9EBDF96B49C67E4007</td>\n",
       "      <td>2013-01-01 00:01:00</td>\n",
       "      <td>2013-01-01 00:03:00</td>\n",
       "      <td>120</td>\n",
       "      <td>0.71</td>\n",
       "      <td>-73.973145</td>\n",
       "      <td>40.752827</td>\n",
       "      <td>-73.965897</td>\n",
       "      <td>40.760445</td>\n",
       "      <td>CSH</td>\n",
       "      <td>4.0</td>\n",
       "      <td>0.5</td>\n",
       "      <td>0.5</td>\n",
       "      <td>0.0</td>\n",
       "      <td>0.0</td>\n",
       "      <td>5.0</td>\n",
       "    </tr>\n",
       "    <tr>\n",
       "      <th>3</th>\n",
       "      <td>1390FB380189DF6BBFDA4DC847CAD14F</td>\n",
       "      <td>BE317B986700F63C43438482792C8654</td>\n",
       "      <td>2013-01-01 00:01:00</td>\n",
       "      <td>2013-01-01 00:03:00</td>\n",
       "      <td>120</td>\n",
       "      <td>0.48</td>\n",
       "      <td>-74.004173</td>\n",
       "      <td>40.720947</td>\n",
       "      <td>-74.003838</td>\n",
       "      <td>40.726189</td>\n",
       "      <td>CSH</td>\n",
       "      <td>4.0</td>\n",
       "      <td>0.5</td>\n",
       "      <td>0.5</td>\n",
       "      <td>0.0</td>\n",
       "      <td>0.0</td>\n",
       "      <td>5.0</td>\n",
       "    </tr>\n",
       "    <tr>\n",
       "      <th>4</th>\n",
       "      <td>3B4129883A1D05BE89F2C929DE136281</td>\n",
       "      <td>7077F9FD5AD649AEACA4746B2537E3FA</td>\n",
       "      <td>2013-01-01 00:01:00</td>\n",
       "      <td>2013-01-01 00:03:00</td>\n",
       "      <td>120</td>\n",
       "      <td>0.61</td>\n",
       "      <td>-73.987373</td>\n",
       "      <td>40.724861</td>\n",
       "      <td>-73.983772</td>\n",
       "      <td>40.730995</td>\n",
       "      <td>CRD</td>\n",
       "      <td>4.0</td>\n",
       "      <td>0.5</td>\n",
       "      <td>0.5</td>\n",
       "      <td>0.0</td>\n",
       "      <td>0.0</td>\n",
       "      <td>5.0</td>\n",
       "    </tr>\n",
       "  </tbody>\n",
       "</table>\n",
       "</div>"
      ],
      "text/plain": [
       "                            taxi_id                         driver_id  \\\n",
       "0  07290D3599E7A0D62097A346EFCC1FB5  E7750A37CAB07D0DFF0AF7E3573AC141   \n",
       "1  22D70BF00EEB0ADC83BA8177BB861991  3FF2709163DE7036FCAA4E5A3324E4BF   \n",
       "2  0EC22AAF491A8BD91F279350C2B010FD  778C92B26AE78A9EBDF96B49C67E4007   \n",
       "3  1390FB380189DF6BBFDA4DC847CAD14F  BE317B986700F63C43438482792C8654   \n",
       "4  3B4129883A1D05BE89F2C929DE136281  7077F9FD5AD649AEACA4746B2537E3FA   \n",
       "\n",
       "       pickup_datetime     dropoff_datetime  trip_time(seconds)  \\\n",
       "0  2013-01-01 00:00:00  2013-01-01 00:02:00                 120   \n",
       "1  2013-01-01 00:02:00  2013-01-01 00:02:00                   0   \n",
       "2  2013-01-01 00:01:00  2013-01-01 00:03:00                 120   \n",
       "3  2013-01-01 00:01:00  2013-01-01 00:03:00                 120   \n",
       "4  2013-01-01 00:01:00  2013-01-01 00:03:00                 120   \n",
       "\n",
       "   trip_distance(miles)  pickup_longitude  pickup_latitude  dropoff_longitude  \\\n",
       "0                  0.44        -73.956528        40.716976         -73.962440   \n",
       "1                  0.00          0.000000         0.000000           0.000000   \n",
       "2                  0.71        -73.973145        40.752827         -73.965897   \n",
       "3                  0.48        -74.004173        40.720947         -74.003838   \n",
       "4                  0.61        -73.987373        40.724861         -73.983772   \n",
       "\n",
       "   dropoff_latitude payment_type  fare_amount  surcharge  mta_tax  tip_amount  \\\n",
       "0         40.715008          CSH          3.5        0.5      0.5         0.0   \n",
       "1          0.000000          CSH         27.0        0.0      0.5         0.0   \n",
       "2         40.760445          CSH          4.0        0.5      0.5         0.0   \n",
       "3         40.726189          CSH          4.0        0.5      0.5         0.0   \n",
       "4         40.730995          CRD          4.0        0.5      0.5         0.0   \n",
       "\n",
       "   tolls_amount  total_amount  \n",
       "0           0.0           4.5  \n",
       "1           0.0          27.5  \n",
       "2           0.0           5.0  \n",
       "3           0.0           5.0  \n",
       "4           0.0           5.0  "
      ]
     },
     "execution_count": 6,
     "metadata": {},
     "output_type": "execute_result"
    }
   ],
   "source": [
    "header = [\"taxi_id\", \"driver_id\",\n",
    "          \"pickup_datetime\", \"dropoff_datetime\", \n",
    "          \"trip_time(seconds)\", \"trip_distance(miles)\", \n",
    "          \"pickup_longitude\", \"pickup_latitude\", \n",
    "          \"dropoff_longitude\", \"dropoff_latitude\", \n",
    "          \"payment_type\", \"fare_amount\", \"surcharge\", \"mta_tax\", \"tip_amount\", \"tolls_amount\", \n",
    "          \"total_amount\"]\n",
    "\n",
    "df.columns = header\n",
    "df.head()"
   ]
  },
  {
   "cell_type": "code",
   "execution_count": 7,
   "metadata": {},
   "outputs": [],
   "source": [
    "df.drop(df[(df[\"trip_distance(miles)\"] < 1) | (df[\"total_amount\"] > 20)].index, inplace = True)"
   ]
  },
  {
   "cell_type": "markdown",
   "metadata": {},
   "source": [
    "Although tips and tolls do not have affect the fare amount, they will have a confounding impact on determining the relationship between trip distance and total amount if included."
   ]
  },
  {
   "cell_type": "code",
   "execution_count": 8,
   "metadata": {},
   "outputs": [],
   "source": [
    "df_no_tips_tolls = df.drop(df[(df[\"tip_amount\"] != 0 )| (df[\"tolls_amount\"] != 0) ].index)"
   ]
  },
  {
   "cell_type": "markdown",
   "metadata": {},
   "source": [
    "Inserting a new column that describes the trip time in minutes. Allows for a more readily interpreted fare ($/minutes)."
   ]
  },
  {
   "cell_type": "code",
   "execution_count": 9,
   "metadata": {},
   "outputs": [],
   "source": [
    "df.insert(5, \"trip_time(minutes)\" , df[\"trip_time(seconds)\"] / 60 )\n",
    "df_no_tips_tolls.insert(5, \"trip_time(minutes)\" ,df[\"trip_time(seconds)\"] / 60 )"
   ]
  },
  {
   "cell_type": "markdown",
   "metadata": {},
   "source": [
    "## Task - 2\n",
    "Use the cleaned dataset from task 1.\n",
    "Find out the correlations between trip distance, travel time and fare amount. Visualize the correlations in form of Scatterplot matrix. \n",
    "Describe the correlations between them. **(4 points)**"
   ]
  },
  {
   "cell_type": "code",
   "execution_count": 10,
   "metadata": {},
   "outputs": [],
   "source": [
    "from pandas.plotting import scatter_matrix"
   ]
  },
  {
   "cell_type": "code",
   "execution_count": 11,
   "metadata": {},
   "outputs": [
    {
     "data": {
      "text/plain": [
       "array([[<AxesSubplot:xlabel='trip_distance(miles)', ylabel='trip_distance(miles)'>,\n",
       "        <AxesSubplot:xlabel='fare_amount', ylabel='trip_distance(miles)'>,\n",
       "        <AxesSubplot:xlabel='trip_time(minutes)', ylabel='trip_distance(miles)'>],\n",
       "       [<AxesSubplot:xlabel='trip_distance(miles)', ylabel='fare_amount'>,\n",
       "        <AxesSubplot:xlabel='fare_amount', ylabel='fare_amount'>,\n",
       "        <AxesSubplot:xlabel='trip_time(minutes)', ylabel='fare_amount'>],\n",
       "       [<AxesSubplot:xlabel='trip_distance(miles)', ylabel='trip_time(minutes)'>,\n",
       "        <AxesSubplot:xlabel='fare_amount', ylabel='trip_time(minutes)'>,\n",
       "        <AxesSubplot:xlabel='trip_time(minutes)', ylabel='trip_time(minutes)'>]],\n",
       "      dtype=object)"
      ]
     },
     "execution_count": 11,
     "metadata": {},
     "output_type": "execute_result"
    },
    {
     "data": {
      "image/png": "[encoded data removed]",
      "text/plain": [
       "<Figure size 432x288 with 9 Axes>"
      ]
     },
     "metadata": {
      "needs_background": "light"
     },
     "output_type": "display_data"
    }
   ],
   "source": [
    "scatter_matrix(df[{\"trip_distance(miles)\",\"trip_time(minutes)\",\"fare_amount\"}], alpha = 1)"
   ]
  },
  {
   "cell_type": "code",
   "execution_count": 12,
   "metadata": {},
   "outputs": [
    {
     "data": {
      "text/html": [
       "<div>\n",
       "<style scoped>\n",
       "    .dataframe tbody tr th:only-of-type {\n",
       "        vertical-align: middle;\n",
       "    }\n",
       "\n",
       "    .dataframe tbody tr th {\n",
       "        vertical-align: top;\n",
       "    }\n",
       "\n",
       "    .dataframe thead th {\n",
       "        text-align: right;\n",
       "    }\n",
       "</style>\n",
       "<table border=\"1\" class=\"dataframe\">\n",
       "  <thead>\n",
       "    <tr style=\"text-align: right;\">\n",
       "      <th></th>\n",
       "      <th>trip_distance(miles)</th>\n",
       "      <th>fare_amount</th>\n",
       "      <th>trip_time(minutes)</th>\n",
       "    </tr>\n",
       "  </thead>\n",
       "  <tbody>\n",
       "    <tr>\n",
       "      <th>trip_distance(miles)</th>\n",
       "      <td>1.000000</td>\n",
       "      <td>0.919445</td>\n",
       "      <td>0.642950</td>\n",
       "    </tr>\n",
       "    <tr>\n",
       "      <th>fare_amount</th>\n",
       "      <td>0.919445</td>\n",
       "      <td>1.000000</td>\n",
       "      <td>0.873728</td>\n",
       "    </tr>\n",
       "    <tr>\n",
       "      <th>trip_time(minutes)</th>\n",
       "      <td>0.642950</td>\n",
       "      <td>0.873728</td>\n",
       "      <td>1.000000</td>\n",
       "    </tr>\n",
       "  </tbody>\n",
       "</table>\n",
       "</div>"
      ],
      "text/plain": [
       "                      trip_distance(miles)  fare_amount  trip_time(minutes)\n",
       "trip_distance(miles)              1.000000     0.919445            0.642950\n",
       "fare_amount                       0.919445     1.000000            0.873728\n",
       "trip_time(minutes)                0.642950     0.873728            1.000000"
      ]
     },
     "execution_count": 12,
     "metadata": {},
     "output_type": "execute_result"
    }
   ],
   "source": [
    "df[{\"trip_distance(miles)\",\"trip_time(minutes)\",\"fare_amount\"}].corr()"
   ]
  },
  {
   "cell_type": "markdown",
   "metadata": {},
   "source": [
    "    trip_distance(miles) vs trip_time(minutes) does not appear to have much correlation. Perhaps a weak positive correlation exists, but the data is quite spread.  \n",
    "\n",
    "    trip_distance(miles) vs fare_amount demonstrates a strong positive correlation beteween the two features.  \n",
    "\n",
    "    trip_time(minutes) vs fare_amount also demonstrates a relatively strong positive correlation between the two features."
   ]
  },
  {
   "cell_type": "markdown",
   "metadata": {},
   "source": [
    "## Task - 3\n",
    "Use the cleaned dataset from task 1.\n",
    "We want to find a simple line to our data (distance, money). \n",
    "We want to use trip distance, and fare amount. Use the **Scikit-learn** library to fit a line into the data. **(2 points)**\n",
    "\n",
    "* Provide the Regression Cofficients of your model\n",
    "* Write down your linear regression equation. \n",
    "* Use your model to predict the fare amount for a 3 miles trip. \n",
    "\n"
   ]
  },
  {
   "cell_type": "code",
   "execution_count": 13,
   "metadata": {},
   "outputs": [],
   "source": [
    "from sklearn.linear_model import LinearRegression"
   ]
  },
  {
   "cell_type": "code",
   "execution_count": 14,
   "metadata": {},
   "outputs": [],
   "source": [
    "distance = df[\"trip_distance(miles)\"]\n",
    "fare = df[\"fare_amount\"]"
   ]
  },
  {
   "cell_type": "code",
   "execution_count": 15,
   "metadata": {},
   "outputs": [],
   "source": [
    "x_var = np.vstack((distance, )).T"
   ]
  },
  {
   "cell_type": "code",
   "execution_count": 16,
   "metadata": {},
   "outputs": [
    {
     "name": "stdout",
     "output_type": "stream",
     "text": [
      "2.812\n"
     ]
    }
   ],
   "source": [
    "reg = LinearRegression().fit(x_var, fare)\n",
    "\n",
    "print(\"{:.3f}\".format(reg.coef_[0]))"
   ]
  },
  {
   "cell_type": "markdown",
   "metadata": {},
   "source": [
    "    Fare Amount ($) = 2.812 ($/mile) * Trip Distance (miles) + 3.72($)"
   ]
  },
  {
   "cell_type": "code",
   "execution_count": 17,
   "metadata": {
    "scrolled": true
   },
   "outputs": [
    {
     "name": "stdout",
     "output_type": "stream",
     "text": [
      "The predicted fare for a three-mile trip is $12.16\n"
     ]
    }
   ],
   "source": [
    "print(\"The predicted fare for a three-mile trip is ${:.2f}\".format(2.812 * 3 + 3.723))"
   ]
  },
  {
   "cell_type": "markdown",
   "metadata": {},
   "source": [
    "## Task - 4\n",
    "Fit a Multiple Linear Regression hyperplane into this data. We are interested to predict total amount out of trip distance, travel time. **(4 points)**\n",
    "Use the **Scikit-learn** library.\n",
    "\n",
    "* Provide the Regression Cofficients of your model\n",
    "* Write down your Multiple Linear Regression equation. \n",
    "* Use your model to predict the total amount for a 3 miles trip and 6 min travel time. "
   ]
  },
  {
   "cell_type": "code",
   "execution_count": 18,
   "metadata": {},
   "outputs": [],
   "source": [
    "distance = df_no_tips_tolls[\"trip_distance(miles)\"]\n",
    "duration = df_no_tips_tolls[\"trip_time(minutes)\"]"
   ]
  },
  {
   "cell_type": "code",
   "execution_count": 19,
   "metadata": {},
   "outputs": [],
   "source": [
    "x_var_2 = np.vstack((distance,duration, )).T"
   ]
  },
  {
   "cell_type": "code",
   "execution_count": 20,
   "metadata": {},
   "outputs": [],
   "source": [
    "reg_md = LinearRegression().fit(x_var_2, df_no_tips_tolls[\"total_amount\"])"
   ]
  },
  {
   "cell_type": "code",
   "execution_count": 21,
   "metadata": {},
   "outputs": [
    {
     "name": "stdout",
     "output_type": "stream",
     "text": [
      "1.880 & 0.350\n"
     ]
    }
   ],
   "source": [
    "print(\"{:.3f} & {:.3f}\".format(reg_md.coef_[0],reg_md.coef_[1]))"
   ]
  },
  {
   "cell_type": "code",
   "execution_count": 22,
   "metadata": {
    "scrolled": true
   },
   "outputs": [
    {
     "data": {
      "text/plain": [
       "3.081284097565069"
      ]
     },
     "execution_count": 22,
     "metadata": {},
     "output_type": "execute_result"
    }
   ],
   "source": [
    "reg_md.intercept_"
   ]
  },
  {
   "cell_type": "markdown",
   "metadata": {},
   "source": [
    "    Total Amount ($) = [1.880($/mile) * Trip Distance(miles)] + [0.350($/minute) * Trip Duration(minutes)] + $3.08"
   ]
  },
  {
   "cell_type": "code",
   "execution_count": 26,
   "metadata": {},
   "outputs": [
    {
     "data": {
      "text/plain": [
       "array([10.82073375])"
      ]
     },
     "execution_count": 26,
     "metadata": {},
     "output_type": "execute_result"
    }
   ],
   "source": [
    "reg_md.predict(np.array([3, 6]).reshape(1,-1))"
   ]
  },
  {
   "cell_type": "markdown",
   "metadata": {},
   "source": [
    "## Task - 5 - Gradient Descent\n",
    "Implement the gradient descent optimization to find the optimal parameters for our Simple Linear Regression model of task 3. **(6 points)**\n",
    "\n",
    "* Define and set your learning rate (start with a very small number and increase it if your GC works)\n",
    "* Instantiate all coefficients from zero\n",
    "* Run maximum 400 interations. You can stop if your cost converge with a precision of 0.01 \n",
    "* Print and visualize the optimization costs \n",
    "* Provide the Regression Coefficients of your model after stop or convergance. "
   ]
  },
  {
   "cell_type": "code",
   "execution_count": 20,
   "metadata": {},
   "outputs": [],
   "source": [
    "x = df[\"trip_distance(miles)\"].to_numpy()\n",
    "y = df[\"fare_amount\"].to_numpy()"
   ]
  },
  {
   "cell_type": "code",
   "execution_count": 21,
   "metadata": {},
   "outputs": [
    {
     "data": {
      "text/plain": [
       "(1.0, 6.58)"
      ]
     },
     "execution_count": 21,
     "metadata": {},
     "output_type": "execute_result"
    },
    {
     "data": {
      "image/png": "[encoded data removed]",
      "text/plain": [
       "<Figure size 432x288 with 1 Axes>"
      ]
     },
     "metadata": {
      "needs_background": "light"
     },
     "output_type": "display_data"
    }
   ],
   "source": [
    "fig, ax = plt.subplots()\n",
    "\n",
    "ax.set_xlim(left = np.min(x), right = np.max(x))"
   ]
  },
  {
   "cell_type": "code",
   "execution_count": 22,
   "metadata": {},
   "outputs": [
    {
     "name": "stdout",
     "output_type": "stream",
     "text": [
      "Sample size 31407.0\n",
      "Iteration No.= 0  m =  0.5936016716018707  b= 0.21291527366510654  Cost= 124.90017352819436\n",
      "m =  0.5936016716018707  b= 0.21291527366510654\n",
      "Iteration No.= 1  m =  1.0901205851753482  b= 0.3923510348414192  Cost= 88.36842705000767\n",
      "m =  1.0901205851753482  b= 0.3923510348414192\n",
      "Iteration No.= 2  m =  1.5053684087534216  b= 0.5437559630328396  Cost= 62.764723015621115\n",
      "m =  1.5053684087534216  b= 0.5437559630328396\n",
      "Iteration No.= 3  m =  1.8525817965299534  b= 0.6716914037695223  Cost= 44.81952966180947\n",
      "m =  1.8525817965299534  b= 0.6716914037695223\n",
      "Iteration No.= 4  m =  2.142841742887519  b= 0.7799758753961334  Cost= 32.24152093376541\n",
      "m =  2.142841742887519  b= 0.7799758753961334\n",
      "Iteration No.= 5  m =  2.3854246425027115  b= 0.8718060421994718  Cost= 23.424908744955655\n",
      "m =  2.3854246425027115  b= 0.8718060421994718\n",
      "Iteration No.= 6  m =  2.588096178539113  b= 0.9498579864510429  Cost= 17.244338011856872\n",
      "m =  2.588096178539113  b= 0.9498579864510429\n",
      "Iteration No.= 7  m =  2.757357349662914  b= 1.0163719877858177  Cost= 12.911146702460814\n",
      "m =  2.757357349662914  b= 1.0163719877858177\n",
      "Iteration No.= 8  m =  2.8986504303157017  b= 1.0732234958308415  Cost= 9.87263120202427\n",
      "m =  2.8986504303157017  b= 1.0732234958308415\n",
      "Iteration No.= 9  m =  3.01653138931598  b= 1.1219825445827156  Cost= 7.741450306664753\n",
      "m =  3.01653138931598  b= 1.1219825445827156\n",
      "Iteration No.= 10  m =  3.1148142292201033  b= 1.1639634908535594  Cost= 6.246150718812333\n",
      "m =  3.1148142292201033  b= 1.1639634908535594\n",
      "Iteration No.= 11  m =  3.19669181928883  b= 1.2002666525597983  Cost= 5.196494737465996\n",
      "m =  3.19669181928883  b= 1.2002666525597983\n",
      "Iteration No.= 12  m =  3.264837050194625  b= 1.231813166005305  Cost= 4.4591614991932484\n",
      "m =  3.264837050194625  b= 1.231813166005305\n",
      "Iteration No.= 13  m =  3.3214875151736507  b= 1.259374166479931  Cost= 3.940718124456626\n",
      "m =  3.3214875151736507  b= 1.259374166479931\n",
      "Iteration No.= 14  m =  3.36851640042421  b= 1.2835952166502038  Cost= 3.5756856983750964\n",
      "m =  3.36851640042421  b= 1.2835952166502038\n",
      "Iteration No.= 15  m =  3.4074918306455086  b= 1.305016756663252  Cost= 3.318175770869527\n",
      "m =  3.4074918306455086  b= 1.305016756663252\n",
      "Iteration No.= 16  m =  3.439726549855518  b= 1.3240912238480593  Cost= 3.1360291184313214\n",
      "m =  3.439726549855518  b= 1.3240912238480593\n",
      "Iteration No.= 17  m =  3.4663195114365433  b= 1.3411973843869551  Cost= 3.0067081200154497\n",
      "m =  3.4663195114365433  b= 1.3411973843869551\n",
      "Stoped at iteration 18\n"
     ]
    }
   ],
   "source": [
    "b_current = 0 \n",
    "m_current = 0\n",
    "\n",
    "learningRate = 0.02\n",
    "num_iteration = 400 \n",
    "\n",
    "precision = 0.1\n",
    "\n",
    "\n",
    "previous_step_size = 1 \n",
    "\n",
    "n = float(len(y)) \n",
    "print(\"Sample size\", n)\n",
    "\n",
    "\n",
    "oldCost=0\n",
    "# Start of iterations\n",
    "# Capital X and Y are numpy Arrays\n",
    "# These two variables are just for visualtion \n",
    "xx, costHist = [], [] \n",
    "y_prediction = m_current * x + b_current\n",
    "initCost= (1/n) * sum (( y_prediction - y)**2)\n",
    "\n",
    "#ax2.set_xlim(left = 0, right=num_iteration)\n",
    "ax.set_ylim(bottom = 0, top=initCost)\n",
    "# Let's start with main iterative part of gradient descent algorithm \n",
    "\n",
    "for i in range(num_iteration):\n",
    "    \n",
    "    # Calculate the prediction with current regression coefficients. \n",
    "    y_prediction = m_current * x + b_current\n",
    "    \n",
    "    # We compute costs just for monitoring \n",
    "    cost= (1/n) * sum (( y_prediction - y)**2)\n",
    "\n",
    "    # calculate gradients. \n",
    "    m_gradient = (1.0/n) * sum (x*(y_prediction - y) )\n",
    "    b_gradient = (1.0/n) * sum (y_prediction - y)\n",
    "    \n",
    "    # update the weights - Regression Coefficients \n",
    "    m_current = m_current - learningRate * m_gradient\n",
    "    b_current = b_current - learningRate * b_gradient\n",
    "    \n",
    "    # Stop if the cost is not descreasing \n",
    "    if(abs(cost - oldCost) <= precision):\n",
    "        print(\"Stoped at iteration\", i)\n",
    "        break\n",
    "    \n",
    "    oldCost = cost\n",
    "    \n",
    "    # Visualization \n",
    "    # Update the Cost Diagram. \n",
    "    xx.append(i)\n",
    "    costHist.append(cost)    \n",
    "    ax.plot(xx, costHist, color='blue')\n",
    "\n",
    "\n",
    "    fig.canvas.draw()\n",
    "    \n",
    "    print(\"Iteration No.=\", i ,\" m = \", m_current, \" b=\", b_current, \" Cost=\", cost) \n",
    "\n",
    "    print(\"m = \", m_current, \" b=\", b_current)\n",
    "\n"
   ]
  }
 ],
 "metadata": {
  "kernelspec": {
   "display_name": "Python 3 (ipykernel)",
   "language": "python",
   "name": "python3"
  },
  "language_info": {
   "codemirror_mode": {
    "name": "ipython",
    "version": 3
   },
   "file_extension": ".py",
   "mimetype": "text/x-python",
   "name": "python",
   "nbconvert_exporter": "python",
   "pygments_lexer": "ipython3",
   "version": "3.8.8"
  }
 },
 "nbformat": 4,
 "nbformat_minor": 4
}
